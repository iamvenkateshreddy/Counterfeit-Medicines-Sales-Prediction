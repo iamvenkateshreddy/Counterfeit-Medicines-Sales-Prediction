{
 "cells": [
  {
   "cell_type": "code",
   "execution_count": 1,
   "metadata": {},
   "outputs": [],
   "source": [
    "import numpy as np\n",
    "import pandas as pd\n",
    "import matplotlib.pyplot as plt\n",
    "import seaborn as sns\n",
    "import warnings\n",
    "warnings.filterwarnings('ignore')"
   ]
  },
  {
   "cell_type": "code",
   "execution_count": 2,
   "metadata": {},
   "outputs": [],
   "source": [
    "train_file = r'D:\\DS_and_AI\\ML_Python\\Project\\Project_3\\counterfeit_train.csv'\n",
    "test_file = r'D:\\DS_and_AI\\ML_Python\\Project\\Project_3\\counterfeit_test.csv'"
   ]
  },
  {
   "cell_type": "code",
   "execution_count": 3,
   "metadata": {},
   "outputs": [],
   "source": [
    "data_train = pd.read_csv(train_file)\n",
    "data_test = pd.read_csv(test_file)"
   ]
  },
  {
   "cell_type": "code",
   "execution_count": 4,
   "metadata": {},
   "outputs": [
    {
     "data": {
      "text/html": [
       "<div>\n",
       "<style scoped>\n",
       "    .dataframe tbody tr th:only-of-type {\n",
       "        vertical-align: middle;\n",
       "    }\n",
       "\n",
       "    .dataframe tbody tr th {\n",
       "        vertical-align: top;\n",
       "    }\n",
       "\n",
       "    .dataframe thead th {\n",
       "        text-align: right;\n",
       "    }\n",
       "</style>\n",
       "<table border=\"1\" class=\"dataframe\">\n",
       "  <thead>\n",
       "    <tr style=\"text-align: right;\">\n",
       "      <th></th>\n",
       "      <th>Medicine_ID</th>\n",
       "      <th>Counterfeit_Weight</th>\n",
       "      <th>DistArea_ID</th>\n",
       "      <th>Active_Since</th>\n",
       "      <th>Medicine_MRP</th>\n",
       "      <th>Medicine_Type</th>\n",
       "      <th>SidEffect_Level</th>\n",
       "      <th>Availability_rating</th>\n",
       "      <th>Area_Type</th>\n",
       "      <th>Area_City_Type</th>\n",
       "      <th>Area_dist_level</th>\n",
       "      <th>Counterfeit_Sales</th>\n",
       "    </tr>\n",
       "  </thead>\n",
       "  <tbody>\n",
       "    <tr>\n",
       "      <td>0</td>\n",
       "      <td>RRA15</td>\n",
       "      <td>13.100</td>\n",
       "      <td>Area046</td>\n",
       "      <td>1995</td>\n",
       "      <td>160.2366</td>\n",
       "      <td>Antimalarial</td>\n",
       "      <td>critical</td>\n",
       "      <td>0.070422</td>\n",
       "      <td>DownTown</td>\n",
       "      <td>Tier 1</td>\n",
       "      <td>Small</td>\n",
       "      <td>1775.5026</td>\n",
       "    </tr>\n",
       "    <tr>\n",
       "      <td>1</td>\n",
       "      <td>YVV26</td>\n",
       "      <td>NaN</td>\n",
       "      <td>Area027</td>\n",
       "      <td>1983</td>\n",
       "      <td>110.4384</td>\n",
       "      <td>Mstablizers</td>\n",
       "      <td>mild</td>\n",
       "      <td>0.013000</td>\n",
       "      <td>CityLimits</td>\n",
       "      <td>Tier 3</td>\n",
       "      <td>Medium</td>\n",
       "      <td>3069.1520</td>\n",
       "    </tr>\n",
       "    <tr>\n",
       "      <td>2</td>\n",
       "      <td>LJC15</td>\n",
       "      <td>9.025</td>\n",
       "      <td>Area046</td>\n",
       "      <td>1995</td>\n",
       "      <td>259.4092</td>\n",
       "      <td>Cardiac</td>\n",
       "      <td>mild</td>\n",
       "      <td>0.060783</td>\n",
       "      <td>DownTown</td>\n",
       "      <td>Tier 1</td>\n",
       "      <td>Small</td>\n",
       "      <td>2603.0920</td>\n",
       "    </tr>\n",
       "    <tr>\n",
       "      <td>3</td>\n",
       "      <td>GWC40</td>\n",
       "      <td>11.800</td>\n",
       "      <td>Area046</td>\n",
       "      <td>1995</td>\n",
       "      <td>99.9830</td>\n",
       "      <td>OralContraceptives</td>\n",
       "      <td>mild</td>\n",
       "      <td>0.065555</td>\n",
       "      <td>DownTown</td>\n",
       "      <td>Tier 1</td>\n",
       "      <td>Small</td>\n",
       "      <td>1101.7130</td>\n",
       "    </tr>\n",
       "    <tr>\n",
       "      <td>4</td>\n",
       "      <td>QMN13</td>\n",
       "      <td>NaN</td>\n",
       "      <td>Area019</td>\n",
       "      <td>1983</td>\n",
       "      <td>56.4402</td>\n",
       "      <td>Hreplacements</td>\n",
       "      <td>critical</td>\n",
       "      <td>0.248859</td>\n",
       "      <td>MidTownResidential</td>\n",
       "      <td>Tier 1</td>\n",
       "      <td>Small</td>\n",
       "      <td>158.9402</td>\n",
       "    </tr>\n",
       "    <tr>\n",
       "      <td>...</td>\n",
       "      <td>...</td>\n",
       "      <td>...</td>\n",
       "      <td>...</td>\n",
       "      <td>...</td>\n",
       "      <td>...</td>\n",
       "      <td>...</td>\n",
       "      <td>...</td>\n",
       "      <td>...</td>\n",
       "      <td>...</td>\n",
       "      <td>...</td>\n",
       "      <td>...</td>\n",
       "      <td>...</td>\n",
       "    </tr>\n",
       "    <tr>\n",
       "      <td>6813</td>\n",
       "      <td>OYN80</td>\n",
       "      <td>8.535</td>\n",
       "      <td>Area046</td>\n",
       "      <td>1995</td>\n",
       "      <td>204.1452</td>\n",
       "      <td>Hreplacements</td>\n",
       "      <td>mild</td>\n",
       "      <td>0.112963</td>\n",
       "      <td>DownTown</td>\n",
       "      <td>Tier 1</td>\n",
       "      <td>Small</td>\n",
       "      <td>2070.4520</td>\n",
       "    </tr>\n",
       "    <tr>\n",
       "      <td>6814</td>\n",
       "      <td>ACW12</td>\n",
       "      <td>20.650</td>\n",
       "      <td>Area046</td>\n",
       "      <td>1995</td>\n",
       "      <td>235.1088</td>\n",
       "      <td>Hreplacements</td>\n",
       "      <td>mild</td>\n",
       "      <td>0.131103</td>\n",
       "      <td>DownTown</td>\n",
       "      <td>Tier 1</td>\n",
       "      <td>Small</td>\n",
       "      <td>2126.3792</td>\n",
       "    </tr>\n",
       "    <tr>\n",
       "      <td>6815</td>\n",
       "      <td>OPM10</td>\n",
       "      <td>20.000</td>\n",
       "      <td>Area017</td>\n",
       "      <td>2005</td>\n",
       "      <td>193.6292</td>\n",
       "      <td>Antimalarial</td>\n",
       "      <td>critical</td>\n",
       "      <td>0.105096</td>\n",
       "      <td>DownTown</td>\n",
       "      <td>Tier 2</td>\n",
       "      <td>Unknown</td>\n",
       "      <td>2119.7212</td>\n",
       "    </tr>\n",
       "    <tr>\n",
       "      <td>6816</td>\n",
       "      <td>SLY12</td>\n",
       "      <td>10.180</td>\n",
       "      <td>Area045</td>\n",
       "      <td>2000</td>\n",
       "      <td>162.8682</td>\n",
       "      <td>Statins</td>\n",
       "      <td>mild</td>\n",
       "      <td>0.099957</td>\n",
       "      <td>DownTown</td>\n",
       "      <td>Tier 2</td>\n",
       "      <td>Unknown</td>\n",
       "      <td>1485.2138</td>\n",
       "    </tr>\n",
       "    <tr>\n",
       "      <td>6817</td>\n",
       "      <td>ATT10</td>\n",
       "      <td>7.930</td>\n",
       "      <td>Area018</td>\n",
       "      <td>2007</td>\n",
       "      <td>177.5500</td>\n",
       "      <td>Mstablizers</td>\n",
       "      <td>critical</td>\n",
       "      <td>0.117445</td>\n",
       "      <td>Industrial</td>\n",
       "      <td>Tier 3</td>\n",
       "      <td>Medium</td>\n",
       "      <td>1943.9500</td>\n",
       "    </tr>\n",
       "  </tbody>\n",
       "</table>\n",
       "<p>6818 rows × 12 columns</p>\n",
       "</div>"
      ],
      "text/plain": [
       "     Medicine_ID  Counterfeit_Weight DistArea_ID  Active_Since  Medicine_MRP  \\\n",
       "0          RRA15              13.100     Area046          1995      160.2366   \n",
       "1          YVV26                 NaN     Area027          1983      110.4384   \n",
       "2          LJC15               9.025     Area046          1995      259.4092   \n",
       "3          GWC40              11.800     Area046          1995       99.9830   \n",
       "4          QMN13                 NaN     Area019          1983       56.4402   \n",
       "...          ...                 ...         ...           ...           ...   \n",
       "6813       OYN80               8.535     Area046          1995      204.1452   \n",
       "6814       ACW12              20.650     Area046          1995      235.1088   \n",
       "6815       OPM10              20.000     Area017          2005      193.6292   \n",
       "6816       SLY12              10.180     Area045          2000      162.8682   \n",
       "6817       ATT10               7.930     Area018          2007      177.5500   \n",
       "\n",
       "           Medicine_Type SidEffect_Level  Availability_rating  \\\n",
       "0           Antimalarial        critical             0.070422   \n",
       "1            Mstablizers            mild             0.013000   \n",
       "2                Cardiac            mild             0.060783   \n",
       "3     OralContraceptives            mild             0.065555   \n",
       "4          Hreplacements        critical             0.248859   \n",
       "...                  ...             ...                  ...   \n",
       "6813       Hreplacements            mild             0.112963   \n",
       "6814       Hreplacements            mild             0.131103   \n",
       "6815        Antimalarial        critical             0.105096   \n",
       "6816             Statins            mild             0.099957   \n",
       "6817         Mstablizers        critical             0.117445   \n",
       "\n",
       "               Area_Type Area_City_Type Area_dist_level  Counterfeit_Sales  \n",
       "0               DownTown         Tier 1           Small          1775.5026  \n",
       "1             CityLimits         Tier 3          Medium          3069.1520  \n",
       "2               DownTown         Tier 1           Small          2603.0920  \n",
       "3               DownTown         Tier 1           Small          1101.7130  \n",
       "4     MidTownResidential         Tier 1           Small           158.9402  \n",
       "...                  ...            ...             ...                ...  \n",
       "6813            DownTown         Tier 1           Small          2070.4520  \n",
       "6814            DownTown         Tier 1           Small          2126.3792  \n",
       "6815            DownTown         Tier 2         Unknown          2119.7212  \n",
       "6816            DownTown         Tier 2         Unknown          1485.2138  \n",
       "6817          Industrial         Tier 3          Medium          1943.9500  \n",
       "\n",
       "[6818 rows x 12 columns]"
      ]
     },
     "execution_count": 4,
     "metadata": {},
     "output_type": "execute_result"
    }
   ],
   "source": [
    "data_train"
   ]
  },
  {
   "cell_type": "code",
   "execution_count": 5,
   "metadata": {},
   "outputs": [
    {
     "data": {
      "text/html": [
       "<div>\n",
       "<style scoped>\n",
       "    .dataframe tbody tr th:only-of-type {\n",
       "        vertical-align: middle;\n",
       "    }\n",
       "\n",
       "    .dataframe tbody tr th {\n",
       "        vertical-align: top;\n",
       "    }\n",
       "\n",
       "    .dataframe thead th {\n",
       "        text-align: right;\n",
       "    }\n",
       "</style>\n",
       "<table border=\"1\" class=\"dataframe\">\n",
       "  <thead>\n",
       "    <tr style=\"text-align: right;\">\n",
       "      <th></th>\n",
       "      <th>Medicine_ID</th>\n",
       "      <th>Counterfeit_Weight</th>\n",
       "      <th>DistArea_ID</th>\n",
       "      <th>Active_Since</th>\n",
       "      <th>Medicine_MRP</th>\n",
       "      <th>Medicine_Type</th>\n",
       "      <th>SidEffect_Level</th>\n",
       "      <th>Availability_rating</th>\n",
       "      <th>Area_Type</th>\n",
       "      <th>Area_City_Type</th>\n",
       "      <th>Area_dist_level</th>\n",
       "    </tr>\n",
       "  </thead>\n",
       "  <tbody>\n",
       "    <tr>\n",
       "      <td>0</td>\n",
       "      <td>HLZ81</td>\n",
       "      <td>NaN</td>\n",
       "      <td>Area027</td>\n",
       "      <td>1983</td>\n",
       "      <td>85.5328</td>\n",
       "      <td>Antibiotics</td>\n",
       "      <td>mild</td>\n",
       "      <td>0.112747</td>\n",
       "      <td>CityLimits</td>\n",
       "      <td>Tier 3</td>\n",
       "      <td>Medium</td>\n",
       "    </tr>\n",
       "    <tr>\n",
       "      <td>1</td>\n",
       "      <td>ECE94</td>\n",
       "      <td>13.45</td>\n",
       "      <td>Area045</td>\n",
       "      <td>2000</td>\n",
       "      <td>257.1460</td>\n",
       "      <td>OralContraceptives</td>\n",
       "      <td>mild</td>\n",
       "      <td>0.144446</td>\n",
       "      <td>DownTown</td>\n",
       "      <td>Tier 2</td>\n",
       "      <td>Unknown</td>\n",
       "    </tr>\n",
       "    <tr>\n",
       "      <td>2</td>\n",
       "      <td>SAD14</td>\n",
       "      <td>7.10</td>\n",
       "      <td>Area045</td>\n",
       "      <td>2000</td>\n",
       "      <td>98.1172</td>\n",
       "      <td>Antipyretics</td>\n",
       "      <td>mild</td>\n",
       "      <td>0.144221</td>\n",
       "      <td>DownTown</td>\n",
       "      <td>Tier 2</td>\n",
       "      <td>Unknown</td>\n",
       "    </tr>\n",
       "    <tr>\n",
       "      <td>3</td>\n",
       "      <td>EQV63</td>\n",
       "      <td>18.30</td>\n",
       "      <td>Area010</td>\n",
       "      <td>1996</td>\n",
       "      <td>135.3730</td>\n",
       "      <td>Tranquilizers</td>\n",
       "      <td>mild</td>\n",
       "      <td>0.100388</td>\n",
       "      <td>MidTownResidential</td>\n",
       "      <td>Tier 3</td>\n",
       "      <td>Unknown</td>\n",
       "    </tr>\n",
       "    <tr>\n",
       "      <td>4</td>\n",
       "      <td>AIR10</td>\n",
       "      <td>NaN</td>\n",
       "      <td>Area019</td>\n",
       "      <td>1983</td>\n",
       "      <td>112.8016</td>\n",
       "      <td>OralContraceptives</td>\n",
       "      <td>mild</td>\n",
       "      <td>0.022585</td>\n",
       "      <td>MidTownResidential</td>\n",
       "      <td>Tier 1</td>\n",
       "      <td>Small</td>\n",
       "    </tr>\n",
       "    <tr>\n",
       "      <td>...</td>\n",
       "      <td>...</td>\n",
       "      <td>...</td>\n",
       "      <td>...</td>\n",
       "      <td>...</td>\n",
       "      <td>...</td>\n",
       "      <td>...</td>\n",
       "      <td>...</td>\n",
       "      <td>...</td>\n",
       "      <td>...</td>\n",
       "      <td>...</td>\n",
       "      <td>...</td>\n",
       "    </tr>\n",
       "    <tr>\n",
       "      <td>1700</td>\n",
       "      <td>KXW10</td>\n",
       "      <td>NaN</td>\n",
       "      <td>Area027</td>\n",
       "      <td>1983</td>\n",
       "      <td>136.5704</td>\n",
       "      <td>Hreplacements</td>\n",
       "      <td>mild</td>\n",
       "      <td>0.050505</td>\n",
       "      <td>CityLimits</td>\n",
       "      <td>Tier 3</td>\n",
       "      <td>Medium</td>\n",
       "    </tr>\n",
       "    <tr>\n",
       "      <td>1701</td>\n",
       "      <td>CKE54</td>\n",
       "      <td>21.30</td>\n",
       "      <td>Area035</td>\n",
       "      <td>2002</td>\n",
       "      <td>57.0744</td>\n",
       "      <td>Antibiotics</td>\n",
       "      <td>critical</td>\n",
       "      <td>0.041118</td>\n",
       "      <td>DownTown</td>\n",
       "      <td>Tier 2</td>\n",
       "      <td>Small</td>\n",
       "    </tr>\n",
       "    <tr>\n",
       "      <td>1702</td>\n",
       "      <td>HAY13</td>\n",
       "      <td>20.40</td>\n",
       "      <td>Area017</td>\n",
       "      <td>2005</td>\n",
       "      <td>182.7422</td>\n",
       "      <td>Antiseptics</td>\n",
       "      <td>mild</td>\n",
       "      <td>0.191273</td>\n",
       "      <td>DownTown</td>\n",
       "      <td>Tier 2</td>\n",
       "      <td>Unknown</td>\n",
       "    </tr>\n",
       "    <tr>\n",
       "      <td>1703</td>\n",
       "      <td>ZEE32</td>\n",
       "      <td>20.00</td>\n",
       "      <td>Area018</td>\n",
       "      <td>2007</td>\n",
       "      <td>266.9672</td>\n",
       "      <td>Hreplacements</td>\n",
       "      <td>mild</td>\n",
       "      <td>0.013000</td>\n",
       "      <td>Industrial</td>\n",
       "      <td>Tier 3</td>\n",
       "      <td>Medium</td>\n",
       "    </tr>\n",
       "    <tr>\n",
       "      <td>1704</td>\n",
       "      <td>NDL93</td>\n",
       "      <td>8.08</td>\n",
       "      <td>Area045</td>\n",
       "      <td>2000</td>\n",
       "      <td>238.7694</td>\n",
       "      <td>Antibiotics</td>\n",
       "      <td>critical</td>\n",
       "      <td>0.098982</td>\n",
       "      <td>DownTown</td>\n",
       "      <td>Tier 2</td>\n",
       "      <td>Unknown</td>\n",
       "    </tr>\n",
       "  </tbody>\n",
       "</table>\n",
       "<p>1705 rows × 11 columns</p>\n",
       "</div>"
      ],
      "text/plain": [
       "     Medicine_ID  Counterfeit_Weight DistArea_ID  Active_Since  Medicine_MRP  \\\n",
       "0          HLZ81                 NaN     Area027          1983       85.5328   \n",
       "1          ECE94               13.45     Area045          2000      257.1460   \n",
       "2          SAD14                7.10     Area045          2000       98.1172   \n",
       "3          EQV63               18.30     Area010          1996      135.3730   \n",
       "4          AIR10                 NaN     Area019          1983      112.8016   \n",
       "...          ...                 ...         ...           ...           ...   \n",
       "1700       KXW10                 NaN     Area027          1983      136.5704   \n",
       "1701       CKE54               21.30     Area035          2002       57.0744   \n",
       "1702       HAY13               20.40     Area017          2005      182.7422   \n",
       "1703       ZEE32               20.00     Area018          2007      266.9672   \n",
       "1704       NDL93                8.08     Area045          2000      238.7694   \n",
       "\n",
       "           Medicine_Type SidEffect_Level  Availability_rating  \\\n",
       "0            Antibiotics            mild             0.112747   \n",
       "1     OralContraceptives            mild             0.144446   \n",
       "2           Antipyretics            mild             0.144221   \n",
       "3          Tranquilizers            mild             0.100388   \n",
       "4     OralContraceptives            mild             0.022585   \n",
       "...                  ...             ...                  ...   \n",
       "1700       Hreplacements            mild             0.050505   \n",
       "1701         Antibiotics        critical             0.041118   \n",
       "1702         Antiseptics            mild             0.191273   \n",
       "1703       Hreplacements            mild             0.013000   \n",
       "1704         Antibiotics        critical             0.098982   \n",
       "\n",
       "               Area_Type Area_City_Type Area_dist_level  \n",
       "0             CityLimits         Tier 3          Medium  \n",
       "1               DownTown         Tier 2         Unknown  \n",
       "2               DownTown         Tier 2         Unknown  \n",
       "3     MidTownResidential         Tier 3         Unknown  \n",
       "4     MidTownResidential         Tier 1           Small  \n",
       "...                  ...            ...             ...  \n",
       "1700          CityLimits         Tier 3          Medium  \n",
       "1701            DownTown         Tier 2           Small  \n",
       "1702            DownTown         Tier 2         Unknown  \n",
       "1703          Industrial         Tier 3          Medium  \n",
       "1704            DownTown         Tier 2         Unknown  \n",
       "\n",
       "[1705 rows x 11 columns]"
      ]
     },
     "execution_count": 5,
     "metadata": {},
     "output_type": "execute_result"
    }
   ],
   "source": [
    "data_test"
   ]
  },
  {
   "cell_type": "code",
   "execution_count": 6,
   "metadata": {},
   "outputs": [],
   "source": [
    "#adding Counterfeit_Sales column to test data\n",
    "data_test['Counterfeit_Sales'] = np.nan"
   ]
  },
  {
   "cell_type": "code",
   "execution_count": 7,
   "metadata": {},
   "outputs": [],
   "source": [
    "#adding data column to test and train columns\n",
    "data_test['data'] = 'test'\n",
    "data_train['data'] = 'train'"
   ]
  },
  {
   "cell_type": "code",
   "execution_count": 8,
   "metadata": {},
   "outputs": [],
   "source": [
    "#combining test and train data\n",
    "dataset = pd.concat([data_train,data_test])"
   ]
  },
  {
   "cell_type": "code",
   "execution_count": 9,
   "metadata": {},
   "outputs": [],
   "source": [
    "#dropping columns - Active_Since,Medicine_ID,DistArea_ID,SidEffect_Level,Area_dist_level\n",
    "dataset.drop(['Active_Since','Medicine_ID','DistArea_ID','SidEffect_Level','Area_dist_level'],axis=1,inplace=True)"
   ]
  },
  {
   "cell_type": "code",
   "execution_count": 10,
   "metadata": {},
   "outputs": [
    {
     "data": {
      "text/plain": [
       "Counterfeit_Weight     1463\n",
       "Medicine_MRP              0\n",
       "Medicine_Type             0\n",
       "Availability_rating       0\n",
       "Area_Type                 0\n",
       "Area_City_Type            0\n",
       "Counterfeit_Sales      1705\n",
       "data                      0\n",
       "dtype: int64"
      ]
     },
     "execution_count": 10,
     "metadata": {},
     "output_type": "execute_result"
    }
   ],
   "source": [
    "dataset.isnull().sum()"
   ]
  },
  {
   "cell_type": "code",
   "execution_count": 11,
   "metadata": {},
   "outputs": [],
   "source": [
    "#filling NAs with mean\n",
    "dataset['Counterfeit_Weight'] = dataset.fillna(dataset.mean())"
   ]
  },
  {
   "cell_type": "code",
   "execution_count": 12,
   "metadata": {},
   "outputs": [
    {
     "name": "stdout",
     "output_type": "stream",
     "text": [
      "Antibiotics           1232\n",
      "Hreplacements         1200\n",
      "Antiseptics            910\n",
      "OralContraceptives     856\n",
      "Antipyretics           682\n",
      "Cardiac                649\n",
      "Mstablizers            648\n",
      "Tranquilizers          520\n",
      "Analgesics             445\n",
      "Antimalarial           425\n",
      "Antacids               251\n",
      "Statins                214\n",
      "MuscleRelaxants        169\n",
      "Antifungal             148\n",
      "Stimulants             110\n",
      "Antiviral               64\n",
      "Name: Medicine_Type, dtype: int64\n",
      "DownTown              5577\n",
      "MidTownResidential    1083\n",
      "CityLimits             935\n",
      "Industrial             928\n",
      "Name: Area_Type, dtype: int64\n",
      "Tier 3    3350\n",
      "Tier 2    2785\n",
      "Tier 1    2388\n",
      "Name: Area_City_Type, dtype: int64\n"
     ]
    }
   ],
   "source": [
    "cat_col=['Medicine_Type' , 'Area_Type', 'Area_City_Type']\n",
    "for col in cat_col:\n",
    "    print(dataset[col].value_counts())"
   ]
  },
  {
   "cell_type": "code",
   "execution_count": 13,
   "metadata": {},
   "outputs": [],
   "source": [
    "#creating dummies\n",
    "cat_col=['Medicine_Type' , 'Area_Type', 'Area_City_Type']\n",
    "\n",
    "for col in cat_col :\n",
    "    k=dataset[col].value_counts(dropna=False)\n",
    "    cats=k.index[k>50][:-1]\n",
    "    for cat in cats:\n",
    "            name=col+'_'+cat\n",
    "            dataset[name]=(dataset[col]==cat).astype(int)\n",
    "        \n",
    "    del dataset[col]"
   ]
  },
  {
   "cell_type": "code",
   "execution_count": 14,
   "metadata": {},
   "outputs": [
    {
     "ename": "KeyError",
     "evalue": "\"['Medicine_Type' 'Area_Type'] not found in axis\"",
     "output_type": "error",
     "traceback": [
      "\u001b[1;31m---------------------------------------------------------------------------\u001b[0m",
      "\u001b[1;31mKeyError\u001b[0m                                  Traceback (most recent call last)",
      "\u001b[1;32m<ipython-input-14-86829a1ba511>\u001b[0m in \u001b[0;36m<module>\u001b[1;34m\u001b[0m\n\u001b[0;32m      1\u001b[0m \u001b[1;31m#dropping columns - Medicine_Type,Area_Type\u001b[0m\u001b[1;33m\u001b[0m\u001b[1;33m\u001b[0m\u001b[1;33m\u001b[0m\u001b[0m\n\u001b[1;32m----> 2\u001b[1;33m \u001b[0mdataset\u001b[0m\u001b[1;33m.\u001b[0m\u001b[0mdrop\u001b[0m\u001b[1;33m(\u001b[0m\u001b[1;33m[\u001b[0m\u001b[1;34m'Medicine_Type'\u001b[0m\u001b[1;33m,\u001b[0m\u001b[1;34m'Area_Type'\u001b[0m\u001b[1;33m]\u001b[0m\u001b[1;33m,\u001b[0m\u001b[0maxis\u001b[0m\u001b[1;33m=\u001b[0m\u001b[1;36m1\u001b[0m\u001b[1;33m,\u001b[0m\u001b[0minplace\u001b[0m\u001b[1;33m=\u001b[0m\u001b[1;32mTrue\u001b[0m\u001b[1;33m)\u001b[0m\u001b[1;33m\u001b[0m\u001b[1;33m\u001b[0m\u001b[0m\n\u001b[0m",
      "\u001b[1;32m~\\Anaconda3\\lib\\site-packages\\pandas\\core\\frame.py\u001b[0m in \u001b[0;36mdrop\u001b[1;34m(self, labels, axis, index, columns, level, inplace, errors)\u001b[0m\n\u001b[0;32m   4100\u001b[0m             \u001b[0mlevel\u001b[0m\u001b[1;33m=\u001b[0m\u001b[0mlevel\u001b[0m\u001b[1;33m,\u001b[0m\u001b[1;33m\u001b[0m\u001b[1;33m\u001b[0m\u001b[0m\n\u001b[0;32m   4101\u001b[0m             \u001b[0minplace\u001b[0m\u001b[1;33m=\u001b[0m\u001b[0minplace\u001b[0m\u001b[1;33m,\u001b[0m\u001b[1;33m\u001b[0m\u001b[1;33m\u001b[0m\u001b[0m\n\u001b[1;32m-> 4102\u001b[1;33m             \u001b[0merrors\u001b[0m\u001b[1;33m=\u001b[0m\u001b[0merrors\u001b[0m\u001b[1;33m,\u001b[0m\u001b[1;33m\u001b[0m\u001b[1;33m\u001b[0m\u001b[0m\n\u001b[0m\u001b[0;32m   4103\u001b[0m         )\n\u001b[0;32m   4104\u001b[0m \u001b[1;33m\u001b[0m\u001b[0m\n",
      "\u001b[1;32m~\\Anaconda3\\lib\\site-packages\\pandas\\core\\generic.py\u001b[0m in \u001b[0;36mdrop\u001b[1;34m(self, labels, axis, index, columns, level, inplace, errors)\u001b[0m\n\u001b[0;32m   3912\u001b[0m         \u001b[1;32mfor\u001b[0m \u001b[0maxis\u001b[0m\u001b[1;33m,\u001b[0m \u001b[0mlabels\u001b[0m \u001b[1;32min\u001b[0m \u001b[0maxes\u001b[0m\u001b[1;33m.\u001b[0m\u001b[0mitems\u001b[0m\u001b[1;33m(\u001b[0m\u001b[1;33m)\u001b[0m\u001b[1;33m:\u001b[0m\u001b[1;33m\u001b[0m\u001b[1;33m\u001b[0m\u001b[0m\n\u001b[0;32m   3913\u001b[0m             \u001b[1;32mif\u001b[0m \u001b[0mlabels\u001b[0m \u001b[1;32mis\u001b[0m \u001b[1;32mnot\u001b[0m \u001b[1;32mNone\u001b[0m\u001b[1;33m:\u001b[0m\u001b[1;33m\u001b[0m\u001b[1;33m\u001b[0m\u001b[0m\n\u001b[1;32m-> 3914\u001b[1;33m                 \u001b[0mobj\u001b[0m \u001b[1;33m=\u001b[0m \u001b[0mobj\u001b[0m\u001b[1;33m.\u001b[0m\u001b[0m_drop_axis\u001b[0m\u001b[1;33m(\u001b[0m\u001b[0mlabels\u001b[0m\u001b[1;33m,\u001b[0m \u001b[0maxis\u001b[0m\u001b[1;33m,\u001b[0m \u001b[0mlevel\u001b[0m\u001b[1;33m=\u001b[0m\u001b[0mlevel\u001b[0m\u001b[1;33m,\u001b[0m \u001b[0merrors\u001b[0m\u001b[1;33m=\u001b[0m\u001b[0merrors\u001b[0m\u001b[1;33m)\u001b[0m\u001b[1;33m\u001b[0m\u001b[1;33m\u001b[0m\u001b[0m\n\u001b[0m\u001b[0;32m   3915\u001b[0m \u001b[1;33m\u001b[0m\u001b[0m\n\u001b[0;32m   3916\u001b[0m         \u001b[1;32mif\u001b[0m \u001b[0minplace\u001b[0m\u001b[1;33m:\u001b[0m\u001b[1;33m\u001b[0m\u001b[1;33m\u001b[0m\u001b[0m\n",
      "\u001b[1;32m~\\Anaconda3\\lib\\site-packages\\pandas\\core\\generic.py\u001b[0m in \u001b[0;36m_drop_axis\u001b[1;34m(self, labels, axis, level, errors)\u001b[0m\n\u001b[0;32m   3944\u001b[0m                 \u001b[0mnew_axis\u001b[0m \u001b[1;33m=\u001b[0m \u001b[0maxis\u001b[0m\u001b[1;33m.\u001b[0m\u001b[0mdrop\u001b[0m\u001b[1;33m(\u001b[0m\u001b[0mlabels\u001b[0m\u001b[1;33m,\u001b[0m \u001b[0mlevel\u001b[0m\u001b[1;33m=\u001b[0m\u001b[0mlevel\u001b[0m\u001b[1;33m,\u001b[0m \u001b[0merrors\u001b[0m\u001b[1;33m=\u001b[0m\u001b[0merrors\u001b[0m\u001b[1;33m)\u001b[0m\u001b[1;33m\u001b[0m\u001b[1;33m\u001b[0m\u001b[0m\n\u001b[0;32m   3945\u001b[0m             \u001b[1;32melse\u001b[0m\u001b[1;33m:\u001b[0m\u001b[1;33m\u001b[0m\u001b[1;33m\u001b[0m\u001b[0m\n\u001b[1;32m-> 3946\u001b[1;33m                 \u001b[0mnew_axis\u001b[0m \u001b[1;33m=\u001b[0m \u001b[0maxis\u001b[0m\u001b[1;33m.\u001b[0m\u001b[0mdrop\u001b[0m\u001b[1;33m(\u001b[0m\u001b[0mlabels\u001b[0m\u001b[1;33m,\u001b[0m \u001b[0merrors\u001b[0m\u001b[1;33m=\u001b[0m\u001b[0merrors\u001b[0m\u001b[1;33m)\u001b[0m\u001b[1;33m\u001b[0m\u001b[1;33m\u001b[0m\u001b[0m\n\u001b[0m\u001b[0;32m   3947\u001b[0m             \u001b[0mresult\u001b[0m \u001b[1;33m=\u001b[0m \u001b[0mself\u001b[0m\u001b[1;33m.\u001b[0m\u001b[0mreindex\u001b[0m\u001b[1;33m(\u001b[0m\u001b[1;33m**\u001b[0m\u001b[1;33m{\u001b[0m\u001b[0maxis_name\u001b[0m\u001b[1;33m:\u001b[0m \u001b[0mnew_axis\u001b[0m\u001b[1;33m}\u001b[0m\u001b[1;33m)\u001b[0m\u001b[1;33m\u001b[0m\u001b[1;33m\u001b[0m\u001b[0m\n\u001b[0;32m   3948\u001b[0m \u001b[1;33m\u001b[0m\u001b[0m\n",
      "\u001b[1;32m~\\Anaconda3\\lib\\site-packages\\pandas\\core\\indexes\\base.py\u001b[0m in \u001b[0;36mdrop\u001b[1;34m(self, labels, errors)\u001b[0m\n\u001b[0;32m   5338\u001b[0m         \u001b[1;32mif\u001b[0m \u001b[0mmask\u001b[0m\u001b[1;33m.\u001b[0m\u001b[0many\u001b[0m\u001b[1;33m(\u001b[0m\u001b[1;33m)\u001b[0m\u001b[1;33m:\u001b[0m\u001b[1;33m\u001b[0m\u001b[1;33m\u001b[0m\u001b[0m\n\u001b[0;32m   5339\u001b[0m             \u001b[1;32mif\u001b[0m \u001b[0merrors\u001b[0m \u001b[1;33m!=\u001b[0m \u001b[1;34m\"ignore\"\u001b[0m\u001b[1;33m:\u001b[0m\u001b[1;33m\u001b[0m\u001b[1;33m\u001b[0m\u001b[0m\n\u001b[1;32m-> 5340\u001b[1;33m                 \u001b[1;32mraise\u001b[0m \u001b[0mKeyError\u001b[0m\u001b[1;33m(\u001b[0m\u001b[1;34m\"{} not found in axis\"\u001b[0m\u001b[1;33m.\u001b[0m\u001b[0mformat\u001b[0m\u001b[1;33m(\u001b[0m\u001b[0mlabels\u001b[0m\u001b[1;33m[\u001b[0m\u001b[0mmask\u001b[0m\u001b[1;33m]\u001b[0m\u001b[1;33m)\u001b[0m\u001b[1;33m)\u001b[0m\u001b[1;33m\u001b[0m\u001b[1;33m\u001b[0m\u001b[0m\n\u001b[0m\u001b[0;32m   5341\u001b[0m             \u001b[0mindexer\u001b[0m \u001b[1;33m=\u001b[0m \u001b[0mindexer\u001b[0m\u001b[1;33m[\u001b[0m\u001b[1;33m~\u001b[0m\u001b[0mmask\u001b[0m\u001b[1;33m]\u001b[0m\u001b[1;33m\u001b[0m\u001b[1;33m\u001b[0m\u001b[0m\n\u001b[0;32m   5342\u001b[0m         \u001b[1;32mreturn\u001b[0m \u001b[0mself\u001b[0m\u001b[1;33m.\u001b[0m\u001b[0mdelete\u001b[0m\u001b[1;33m(\u001b[0m\u001b[0mindexer\u001b[0m\u001b[1;33m)\u001b[0m\u001b[1;33m\u001b[0m\u001b[1;33m\u001b[0m\u001b[0m\n",
      "\u001b[1;31mKeyError\u001b[0m: \"['Medicine_Type' 'Area_Type'] not found in axis\""
     ]
    }
   ],
   "source": [
    "#dropping columns - Medicine_Type,Area_Type\n",
    "#dataset.drop(['Medicine_Type','Area_Type'],axis=1,inplace=True)"
   ]
  },
  {
   "cell_type": "code",
   "execution_count": 15,
   "metadata": {},
   "outputs": [
    {
     "data": {
      "text/plain": [
       "0          13.1\n",
       "1       14.1576\n",
       "2         9.025\n",
       "3          11.8\n",
       "4       14.1576\n",
       "         ...   \n",
       "1700    14.1576\n",
       "1701       21.3\n",
       "1702       20.4\n",
       "1703         20\n",
       "1704       8.08\n",
       "Name: Counterfeit_Weight, Length: 8523, dtype: object"
      ]
     },
     "execution_count": 15,
     "metadata": {},
     "output_type": "execute_result"
    }
   ],
   "source": [
    "dataset['Counterfeit_Weight']"
   ]
  },
  {
   "cell_type": "code",
   "execution_count": 16,
   "metadata": {},
   "outputs": [],
   "source": [
    "# converting datatype of Counterfeit_Weight - to numeric\n",
    "dataset['Counterfeit_Weight'] = pd.to_numeric(dataset['Counterfeit_Weight'],errors='coerce')"
   ]
  },
  {
   "cell_type": "code",
   "execution_count": 17,
   "metadata": {},
   "outputs": [
    {
     "name": "stdout",
     "output_type": "stream",
     "text": [
      "8523\n",
      "8523\n",
      "8523\n",
      "8523\n",
      "8523\n",
      "8523\n",
      "8523\n",
      "8523\n",
      "8523\n",
      "8523\n",
      "8523\n",
      "8523\n",
      "8523\n",
      "8523\n",
      "8523\n",
      "8523\n",
      "8523\n",
      "8523\n",
      "8523\n",
      "8523\n",
      "8523\n",
      "8523\n",
      "8523\n",
      "8523\n",
      "8523\n"
     ]
    }
   ],
   "source": [
    "for col in dataset.columns:\n",
    "    print(len(dataset[col]))"
   ]
  },
  {
   "cell_type": "code",
   "execution_count": 18,
   "metadata": {},
   "outputs": [
    {
     "data": {
      "text/plain": [
       "(array([   0,    1,    2, ..., 6815, 6816, 6817], dtype=int64),)"
      ]
     },
     "execution_count": 18,
     "metadata": {},
     "output_type": "execute_result"
    }
   ],
   "source": [
    "#seperating  the training  and testing data after data preprocessing\n",
    "#np.where(dataset['data']=='train')"
   ]
  },
  {
   "cell_type": "code",
   "execution_count": 20,
   "metadata": {},
   "outputs": [],
   "source": [
    "#seperating  the training  and testing data after data preprocessing\n",
    "dataset_train = dataset.loc[dataset['data']=='train']\n",
    "dataset_test = dataset.loc[dataset['data']=='test']"
   ]
  },
  {
   "cell_type": "code",
   "execution_count": 21,
   "metadata": {},
   "outputs": [
    {
     "data": {
      "text/plain": [
       "array(['train'], dtype=object)"
      ]
     },
     "execution_count": 21,
     "metadata": {},
     "output_type": "execute_result"
    }
   ],
   "source": [
    "dataset_train['data'].unique()"
   ]
  },
  {
   "cell_type": "code",
   "execution_count": 22,
   "metadata": {},
   "outputs": [
    {
     "data": {
      "text/plain": [
       "array(['test'], dtype=object)"
      ]
     },
     "execution_count": 22,
     "metadata": {},
     "output_type": "execute_result"
    }
   ],
   "source": [
    "dataset_test['data'].unique()"
   ]
  },
  {
   "cell_type": "code",
   "execution_count": 23,
   "metadata": {},
   "outputs": [
    {
     "data": {
      "text/plain": [
       "Counterfeit_Weight                     0\n",
       "Medicine_MRP                           0\n",
       "Availability_rating                    0\n",
       "Counterfeit_Sales                   1705\n",
       "data                                   0\n",
       "Medicine_Type_Antibiotics              0\n",
       "Medicine_Type_Hreplacements            0\n",
       "Medicine_Type_Antiseptics              0\n",
       "Medicine_Type_OralContraceptives       0\n",
       "Medicine_Type_Antipyretics             0\n",
       "Medicine_Type_Cardiac                  0\n",
       "Medicine_Type_Mstablizers              0\n",
       "Medicine_Type_Tranquilizers            0\n",
       "Medicine_Type_Analgesics               0\n",
       "Medicine_Type_Antimalarial             0\n",
       "Medicine_Type_Antacids                 0\n",
       "Medicine_Type_Statins                  0\n",
       "Medicine_Type_MuscleRelaxants          0\n",
       "Medicine_Type_Antifungal               0\n",
       "Medicine_Type_Stimulants               0\n",
       "Area_Type_DownTown                     0\n",
       "Area_Type_MidTownResidential           0\n",
       "Area_Type_CityLimits                   0\n",
       "Area_City_Type_Tier 3                  0\n",
       "Area_City_Type_Tier 2                  0\n",
       "dtype: int64"
      ]
     },
     "execution_count": 23,
     "metadata": {},
     "output_type": "execute_result"
    }
   ],
   "source": [
    "dataset_test.isnull().sum()"
   ]
  },
  {
   "cell_type": "code",
   "execution_count": 24,
   "metadata": {},
   "outputs": [
    {
     "data": {
      "text/plain": [
       "Counterfeit_Weight                  0\n",
       "Medicine_MRP                        0\n",
       "Availability_rating                 0\n",
       "Counterfeit_Sales                   0\n",
       "data                                0\n",
       "Medicine_Type_Antibiotics           0\n",
       "Medicine_Type_Hreplacements         0\n",
       "Medicine_Type_Antiseptics           0\n",
       "Medicine_Type_OralContraceptives    0\n",
       "Medicine_Type_Antipyretics          0\n",
       "Medicine_Type_Cardiac               0\n",
       "Medicine_Type_Mstablizers           0\n",
       "Medicine_Type_Tranquilizers         0\n",
       "Medicine_Type_Analgesics            0\n",
       "Medicine_Type_Antimalarial          0\n",
       "Medicine_Type_Antacids              0\n",
       "Medicine_Type_Statins               0\n",
       "Medicine_Type_MuscleRelaxants       0\n",
       "Medicine_Type_Antifungal            0\n",
       "Medicine_Type_Stimulants            0\n",
       "Area_Type_DownTown                  0\n",
       "Area_Type_MidTownResidential        0\n",
       "Area_Type_CityLimits                0\n",
       "Area_City_Type_Tier 3               0\n",
       "Area_City_Type_Tier 2               0\n",
       "dtype: int64"
      ]
     },
     "execution_count": 24,
     "metadata": {},
     "output_type": "execute_result"
    }
   ],
   "source": [
    "dataset_train.isnull().sum()"
   ]
  },
  {
   "cell_type": "code",
   "execution_count": 25,
   "metadata": {},
   "outputs": [
    {
     "name": "stdout",
     "output_type": "stream",
     "text": [
      "<class 'pandas.core.frame.DataFrame'>\n",
      "Int64Index: 1705 entries, 0 to 1704\n",
      "Data columns (total 25 columns):\n",
      "Counterfeit_Weight                  1705 non-null float64\n",
      "Medicine_MRP                        1705 non-null float64\n",
      "Availability_rating                 1705 non-null float64\n",
      "Counterfeit_Sales                   0 non-null float64\n",
      "data                                1705 non-null object\n",
      "Medicine_Type_Antibiotics           1705 non-null int32\n",
      "Medicine_Type_Hreplacements         1705 non-null int32\n",
      "Medicine_Type_Antiseptics           1705 non-null int32\n",
      "Medicine_Type_OralContraceptives    1705 non-null int32\n",
      "Medicine_Type_Antipyretics          1705 non-null int32\n",
      "Medicine_Type_Cardiac               1705 non-null int32\n",
      "Medicine_Type_Mstablizers           1705 non-null int32\n",
      "Medicine_Type_Tranquilizers         1705 non-null int32\n",
      "Medicine_Type_Analgesics            1705 non-null int32\n",
      "Medicine_Type_Antimalarial          1705 non-null int32\n",
      "Medicine_Type_Antacids              1705 non-null int32\n",
      "Medicine_Type_Statins               1705 non-null int32\n",
      "Medicine_Type_MuscleRelaxants       1705 non-null int32\n",
      "Medicine_Type_Antifungal            1705 non-null int32\n",
      "Medicine_Type_Stimulants            1705 non-null int32\n",
      "Area_Type_DownTown                  1705 non-null int32\n",
      "Area_Type_MidTownResidential        1705 non-null int32\n",
      "Area_Type_CityLimits                1705 non-null int32\n",
      "Area_City_Type_Tier 3               1705 non-null int32\n",
      "Area_City_Type_Tier 2               1705 non-null int32\n",
      "dtypes: float64(4), int32(20), object(1)\n",
      "memory usage: 213.1+ KB\n"
     ]
    }
   ],
   "source": [
    "dataset_test.info()"
   ]
  },
  {
   "cell_type": "code",
   "execution_count": 26,
   "metadata": {},
   "outputs": [],
   "source": [
    "#dropping data column from test and train dataset\n",
    "dataset_train.drop(['data'],axis=1,inplace=True)\n",
    "dataset_test.drop(['data'],axis=1,inplace=True)"
   ]
  },
  {
   "cell_type": "code",
   "execution_count": 27,
   "metadata": {},
   "outputs": [
    {
     "data": {
      "text/html": [
       "<div>\n",
       "<style scoped>\n",
       "    .dataframe tbody tr th:only-of-type {\n",
       "        vertical-align: middle;\n",
       "    }\n",
       "\n",
       "    .dataframe tbody tr th {\n",
       "        vertical-align: top;\n",
       "    }\n",
       "\n",
       "    .dataframe thead th {\n",
       "        text-align: right;\n",
       "    }\n",
       "</style>\n",
       "<table border=\"1\" class=\"dataframe\">\n",
       "  <thead>\n",
       "    <tr style=\"text-align: right;\">\n",
       "      <th></th>\n",
       "      <th>Counterfeit_Weight</th>\n",
       "      <th>Medicine_MRP</th>\n",
       "      <th>Availability_rating</th>\n",
       "      <th>Counterfeit_Sales</th>\n",
       "      <th>Medicine_Type_Antibiotics</th>\n",
       "      <th>Medicine_Type_Hreplacements</th>\n",
       "      <th>Medicine_Type_Antiseptics</th>\n",
       "      <th>Medicine_Type_OralContraceptives</th>\n",
       "      <th>Medicine_Type_Antipyretics</th>\n",
       "      <th>Medicine_Type_Cardiac</th>\n",
       "      <th>...</th>\n",
       "      <th>Medicine_Type_Antacids</th>\n",
       "      <th>Medicine_Type_Statins</th>\n",
       "      <th>Medicine_Type_MuscleRelaxants</th>\n",
       "      <th>Medicine_Type_Antifungal</th>\n",
       "      <th>Medicine_Type_Stimulants</th>\n",
       "      <th>Area_Type_DownTown</th>\n",
       "      <th>Area_Type_MidTownResidential</th>\n",
       "      <th>Area_Type_CityLimits</th>\n",
       "      <th>Area_City_Type_Tier 3</th>\n",
       "      <th>Area_City_Type_Tier 2</th>\n",
       "    </tr>\n",
       "  </thead>\n",
       "  <tbody>\n",
       "    <tr>\n",
       "      <td>0</td>\n",
       "      <td>13.100000</td>\n",
       "      <td>160.2366</td>\n",
       "      <td>0.070422</td>\n",
       "      <td>1775.5026</td>\n",
       "      <td>0</td>\n",
       "      <td>0</td>\n",
       "      <td>0</td>\n",
       "      <td>0</td>\n",
       "      <td>0</td>\n",
       "      <td>0</td>\n",
       "      <td>...</td>\n",
       "      <td>0</td>\n",
       "      <td>0</td>\n",
       "      <td>0</td>\n",
       "      <td>0</td>\n",
       "      <td>0</td>\n",
       "      <td>1</td>\n",
       "      <td>0</td>\n",
       "      <td>0</td>\n",
       "      <td>0</td>\n",
       "      <td>0</td>\n",
       "    </tr>\n",
       "    <tr>\n",
       "      <td>1</td>\n",
       "      <td>14.157645</td>\n",
       "      <td>110.4384</td>\n",
       "      <td>0.013000</td>\n",
       "      <td>3069.1520</td>\n",
       "      <td>0</td>\n",
       "      <td>0</td>\n",
       "      <td>0</td>\n",
       "      <td>0</td>\n",
       "      <td>0</td>\n",
       "      <td>0</td>\n",
       "      <td>...</td>\n",
       "      <td>0</td>\n",
       "      <td>0</td>\n",
       "      <td>0</td>\n",
       "      <td>0</td>\n",
       "      <td>0</td>\n",
       "      <td>0</td>\n",
       "      <td>0</td>\n",
       "      <td>1</td>\n",
       "      <td>1</td>\n",
       "      <td>0</td>\n",
       "    </tr>\n",
       "    <tr>\n",
       "      <td>2</td>\n",
       "      <td>9.025000</td>\n",
       "      <td>259.4092</td>\n",
       "      <td>0.060783</td>\n",
       "      <td>2603.0920</td>\n",
       "      <td>0</td>\n",
       "      <td>0</td>\n",
       "      <td>0</td>\n",
       "      <td>0</td>\n",
       "      <td>0</td>\n",
       "      <td>1</td>\n",
       "      <td>...</td>\n",
       "      <td>0</td>\n",
       "      <td>0</td>\n",
       "      <td>0</td>\n",
       "      <td>0</td>\n",
       "      <td>0</td>\n",
       "      <td>1</td>\n",
       "      <td>0</td>\n",
       "      <td>0</td>\n",
       "      <td>0</td>\n",
       "      <td>0</td>\n",
       "    </tr>\n",
       "    <tr>\n",
       "      <td>3</td>\n",
       "      <td>11.800000</td>\n",
       "      <td>99.9830</td>\n",
       "      <td>0.065555</td>\n",
       "      <td>1101.7130</td>\n",
       "      <td>0</td>\n",
       "      <td>0</td>\n",
       "      <td>0</td>\n",
       "      <td>1</td>\n",
       "      <td>0</td>\n",
       "      <td>0</td>\n",
       "      <td>...</td>\n",
       "      <td>0</td>\n",
       "      <td>0</td>\n",
       "      <td>0</td>\n",
       "      <td>0</td>\n",
       "      <td>0</td>\n",
       "      <td>1</td>\n",
       "      <td>0</td>\n",
       "      <td>0</td>\n",
       "      <td>0</td>\n",
       "      <td>0</td>\n",
       "    </tr>\n",
       "    <tr>\n",
       "      <td>4</td>\n",
       "      <td>14.157645</td>\n",
       "      <td>56.4402</td>\n",
       "      <td>0.248859</td>\n",
       "      <td>158.9402</td>\n",
       "      <td>0</td>\n",
       "      <td>1</td>\n",
       "      <td>0</td>\n",
       "      <td>0</td>\n",
       "      <td>0</td>\n",
       "      <td>0</td>\n",
       "      <td>...</td>\n",
       "      <td>0</td>\n",
       "      <td>0</td>\n",
       "      <td>0</td>\n",
       "      <td>0</td>\n",
       "      <td>0</td>\n",
       "      <td>0</td>\n",
       "      <td>1</td>\n",
       "      <td>0</td>\n",
       "      <td>0</td>\n",
       "      <td>0</td>\n",
       "    </tr>\n",
       "  </tbody>\n",
       "</table>\n",
       "<p>5 rows × 24 columns</p>\n",
       "</div>"
      ],
      "text/plain": [
       "   Counterfeit_Weight  Medicine_MRP  Availability_rating  Counterfeit_Sales  \\\n",
       "0           13.100000      160.2366             0.070422          1775.5026   \n",
       "1           14.157645      110.4384             0.013000          3069.1520   \n",
       "2            9.025000      259.4092             0.060783          2603.0920   \n",
       "3           11.800000       99.9830             0.065555          1101.7130   \n",
       "4           14.157645       56.4402             0.248859           158.9402   \n",
       "\n",
       "   Medicine_Type_Antibiotics  Medicine_Type_Hreplacements  \\\n",
       "0                          0                            0   \n",
       "1                          0                            0   \n",
       "2                          0                            0   \n",
       "3                          0                            0   \n",
       "4                          0                            1   \n",
       "\n",
       "   Medicine_Type_Antiseptics  Medicine_Type_OralContraceptives  \\\n",
       "0                          0                                 0   \n",
       "1                          0                                 0   \n",
       "2                          0                                 0   \n",
       "3                          0                                 1   \n",
       "4                          0                                 0   \n",
       "\n",
       "   Medicine_Type_Antipyretics  Medicine_Type_Cardiac  ...  \\\n",
       "0                           0                      0  ...   \n",
       "1                           0                      0  ...   \n",
       "2                           0                      1  ...   \n",
       "3                           0                      0  ...   \n",
       "4                           0                      0  ...   \n",
       "\n",
       "   Medicine_Type_Antacids  Medicine_Type_Statins  \\\n",
       "0                       0                      0   \n",
       "1                       0                      0   \n",
       "2                       0                      0   \n",
       "3                       0                      0   \n",
       "4                       0                      0   \n",
       "\n",
       "   Medicine_Type_MuscleRelaxants  Medicine_Type_Antifungal  \\\n",
       "0                              0                         0   \n",
       "1                              0                         0   \n",
       "2                              0                         0   \n",
       "3                              0                         0   \n",
       "4                              0                         0   \n",
       "\n",
       "   Medicine_Type_Stimulants  Area_Type_DownTown  Area_Type_MidTownResidential  \\\n",
       "0                         0                   1                             0   \n",
       "1                         0                   0                             0   \n",
       "2                         0                   1                             0   \n",
       "3                         0                   1                             0   \n",
       "4                         0                   0                             1   \n",
       "\n",
       "   Area_Type_CityLimits  Area_City_Type_Tier 3  Area_City_Type_Tier 2  \n",
       "0                     0                      0                      0  \n",
       "1                     1                      1                      0  \n",
       "2                     0                      0                      0  \n",
       "3                     0                      0                      0  \n",
       "4                     0                      0                      0  \n",
       "\n",
       "[5 rows x 24 columns]"
      ]
     },
     "execution_count": 27,
     "metadata": {},
     "output_type": "execute_result"
    }
   ],
   "source": [
    "dataset_train.head()"
   ]
  },
  {
   "cell_type": "code",
   "execution_count": 28,
   "metadata": {},
   "outputs": [],
   "source": [
    "#dropping dummy Counterfeit_Sales sales column from dataset_test\n",
    "dataset_test.drop(['Counterfeit_Sales'],axis=1,inplace=True)"
   ]
  },
  {
   "cell_type": "code",
   "execution_count": 29,
   "metadata": {},
   "outputs": [
    {
     "name": "stdout",
     "output_type": "stream",
     "text": [
      "<class 'pandas.core.frame.DataFrame'>\n",
      "Int64Index: 1705 entries, 0 to 1704\n",
      "Data columns (total 23 columns):\n",
      "Counterfeit_Weight                  1705 non-null float64\n",
      "Medicine_MRP                        1705 non-null float64\n",
      "Availability_rating                 1705 non-null float64\n",
      "Medicine_Type_Antibiotics           1705 non-null int32\n",
      "Medicine_Type_Hreplacements         1705 non-null int32\n",
      "Medicine_Type_Antiseptics           1705 non-null int32\n",
      "Medicine_Type_OralContraceptives    1705 non-null int32\n",
      "Medicine_Type_Antipyretics          1705 non-null int32\n",
      "Medicine_Type_Cardiac               1705 non-null int32\n",
      "Medicine_Type_Mstablizers           1705 non-null int32\n",
      "Medicine_Type_Tranquilizers         1705 non-null int32\n",
      "Medicine_Type_Analgesics            1705 non-null int32\n",
      "Medicine_Type_Antimalarial          1705 non-null int32\n",
      "Medicine_Type_Antacids              1705 non-null int32\n",
      "Medicine_Type_Statins               1705 non-null int32\n",
      "Medicine_Type_MuscleRelaxants       1705 non-null int32\n",
      "Medicine_Type_Antifungal            1705 non-null int32\n",
      "Medicine_Type_Stimulants            1705 non-null int32\n",
      "Area_Type_DownTown                  1705 non-null int32\n",
      "Area_Type_MidTownResidential        1705 non-null int32\n",
      "Area_Type_CityLimits                1705 non-null int32\n",
      "Area_City_Type_Tier 3               1705 non-null int32\n",
      "Area_City_Type_Tier 2               1705 non-null int32\n",
      "dtypes: float64(3), int32(20)\n",
      "memory usage: 186.5 KB\n"
     ]
    }
   ],
   "source": [
    "dataset_test.info()"
   ]
  },
  {
   "cell_type": "code",
   "execution_count": null,
   "metadata": {},
   "outputs": [],
   "source": [
    "#train_predictors = dataset_train.drop(['Counterfeit_Sales'],axis=1)\n",
    "#train_target = dataset_train['Counterfeit_Sales']\n",
    "#test = dataset_test"
   ]
  },
  {
   "cell_type": "code",
   "execution_count": 30,
   "metadata": {},
   "outputs": [],
   "source": [
    "from sklearn.model_selection import train_test_split\n",
    "train,test = train_test_split(dataset_train,test_size=0.2,random_state=1)"
   ]
  },
  {
   "cell_type": "code",
   "execution_count": 31,
   "metadata": {},
   "outputs": [],
   "source": [
    "x_train = train.drop(['Counterfeit_Sales'],axis=1)\n",
    "y_train = train['Counterfeit_Sales']\n",
    "x_test = test.drop(['Counterfeit_Sales'],axis=1)\n",
    "y_test = test['Counterfeit_Sales']"
   ]
  },
  {
   "cell_type": "code",
   "execution_count": 32,
   "metadata": {},
   "outputs": [
    {
     "name": "stdout",
     "output_type": "stream",
     "text": [
      "<class 'pandas.core.frame.DataFrame'>\n",
      "Int64Index: 5454 entries, 2490 to 5157\n",
      "Data columns (total 23 columns):\n",
      "Counterfeit_Weight                  5454 non-null float64\n",
      "Medicine_MRP                        5454 non-null float64\n",
      "Availability_rating                 5454 non-null float64\n",
      "Medicine_Type_Antibiotics           5454 non-null int32\n",
      "Medicine_Type_Hreplacements         5454 non-null int32\n",
      "Medicine_Type_Antiseptics           5454 non-null int32\n",
      "Medicine_Type_OralContraceptives    5454 non-null int32\n",
      "Medicine_Type_Antipyretics          5454 non-null int32\n",
      "Medicine_Type_Cardiac               5454 non-null int32\n",
      "Medicine_Type_Mstablizers           5454 non-null int32\n",
      "Medicine_Type_Tranquilizers         5454 non-null int32\n",
      "Medicine_Type_Analgesics            5454 non-null int32\n",
      "Medicine_Type_Antimalarial          5454 non-null int32\n",
      "Medicine_Type_Antacids              5454 non-null int32\n",
      "Medicine_Type_Statins               5454 non-null int32\n",
      "Medicine_Type_MuscleRelaxants       5454 non-null int32\n",
      "Medicine_Type_Antifungal            5454 non-null int32\n",
      "Medicine_Type_Stimulants            5454 non-null int32\n",
      "Area_Type_DownTown                  5454 non-null int32\n",
      "Area_Type_MidTownResidential        5454 non-null int32\n",
      "Area_Type_CityLimits                5454 non-null int32\n",
      "Area_City_Type_Tier 3               5454 non-null int32\n",
      "Area_City_Type_Tier 2               5454 non-null int32\n",
      "dtypes: float64(3), int32(20)\n",
      "memory usage: 596.5 KB\n"
     ]
    }
   ],
   "source": [
    "x_train.info()"
   ]
  },
  {
   "cell_type": "code",
   "execution_count": 33,
   "metadata": {},
   "outputs": [
    {
     "data": {
      "text/plain": [
       "2490    1039.7936\n",
       "5270    2523.8618\n",
       "82       302.0872\n",
       "3960    2757.5576\n",
       "2362    2965.2872\n",
       "          ...    \n",
       "905     2088.4286\n",
       "5192     318.0664\n",
       "3980    2224.2518\n",
       "235      505.8220\n",
       "5157    3410.7074\n",
       "Name: Counterfeit_Sales, Length: 5454, dtype: float64"
      ]
     },
     "execution_count": 33,
     "metadata": {},
     "output_type": "execute_result"
    }
   ],
   "source": [
    "y_train"
   ]
  },
  {
   "cell_type": "code",
   "execution_count": 34,
   "metadata": {},
   "outputs": [
    {
     "name": "stdout",
     "output_type": "stream",
     "text": [
      "<class 'pandas.core.frame.DataFrame'>\n",
      "Int64Index: 1364 entries, 313 to 6507\n",
      "Data columns (total 23 columns):\n",
      "Counterfeit_Weight                  1364 non-null float64\n",
      "Medicine_MRP                        1364 non-null float64\n",
      "Availability_rating                 1364 non-null float64\n",
      "Medicine_Type_Antibiotics           1364 non-null int32\n",
      "Medicine_Type_Hreplacements         1364 non-null int32\n",
      "Medicine_Type_Antiseptics           1364 non-null int32\n",
      "Medicine_Type_OralContraceptives    1364 non-null int32\n",
      "Medicine_Type_Antipyretics          1364 non-null int32\n",
      "Medicine_Type_Cardiac               1364 non-null int32\n",
      "Medicine_Type_Mstablizers           1364 non-null int32\n",
      "Medicine_Type_Tranquilizers         1364 non-null int32\n",
      "Medicine_Type_Analgesics            1364 non-null int32\n",
      "Medicine_Type_Antimalarial          1364 non-null int32\n",
      "Medicine_Type_Antacids              1364 non-null int32\n",
      "Medicine_Type_Statins               1364 non-null int32\n",
      "Medicine_Type_MuscleRelaxants       1364 non-null int32\n",
      "Medicine_Type_Antifungal            1364 non-null int32\n",
      "Medicine_Type_Stimulants            1364 non-null int32\n",
      "Area_Type_DownTown                  1364 non-null int32\n",
      "Area_Type_MidTownResidential        1364 non-null int32\n",
      "Area_Type_CityLimits                1364 non-null int32\n",
      "Area_City_Type_Tier 3               1364 non-null int32\n",
      "Area_City_Type_Tier 2               1364 non-null int32\n",
      "dtypes: float64(3), int32(20)\n",
      "memory usage: 149.2 KB\n"
     ]
    }
   ],
   "source": [
    "x_test.info()"
   ]
  },
  {
   "cell_type": "code",
   "execution_count": 35,
   "metadata": {},
   "outputs": [
    {
     "data": {
      "text/plain": [
       "313     3053.1728\n",
       "6723    1038.4620\n",
       "4494    5828.2272\n",
       "5421    1455.2528\n",
       "2754     388.6412\n",
       "          ...    \n",
       "1652    2360.0750\n",
       "5478    1567.7730\n",
       "1884     615.0132\n",
       "6450    1322.7586\n",
       "6507    1119.6896\n",
       "Name: Counterfeit_Sales, Length: 1364, dtype: float64"
      ]
     },
     "execution_count": 35,
     "metadata": {},
     "output_type": "execute_result"
    }
   ],
   "source": [
    "y_test"
   ]
  },
  {
   "cell_type": "code",
   "execution_count": 78,
   "metadata": {},
   "outputs": [],
   "source": [
    "y_test = pd.DataFrame(y_test)"
   ]
  },
  {
   "cell_type": "code",
   "execution_count": 79,
   "metadata": {},
   "outputs": [],
   "source": [
    "with pd.ExcelWriter('test_predict_original.xlsx') as writer:\n",
    "    y_test.to_excel(writer,\"Sheet1\",index=False)\n",
    "    y_test.to_excel(writer,\"Sheet2\")"
   ]
  },
  {
   "cell_type": "code",
   "execution_count": 36,
   "metadata": {},
   "outputs": [],
   "source": [
    "from sklearn.linear_model import LinearRegression\n",
    "lr = LinearRegression()"
   ]
  },
  {
   "cell_type": "code",
   "execution_count": 37,
   "metadata": {},
   "outputs": [
    {
     "data": {
      "text/plain": [
       "LinearRegression(copy_X=True, fit_intercept=True, n_jobs=None, normalize=False)"
      ]
     },
     "execution_count": 37,
     "metadata": {},
     "output_type": "execute_result"
    }
   ],
   "source": [
    "lr.fit(x_train,y_train)"
   ]
  },
  {
   "cell_type": "code",
   "execution_count": 38,
   "metadata": {},
   "outputs": [
    {
     "data": {
      "text/plain": [
       "205.56686914352667"
      ]
     },
     "execution_count": 38,
     "metadata": {},
     "output_type": "execute_result"
    }
   ],
   "source": [
    "lr.intercept_"
   ]
  },
  {
   "cell_type": "code",
   "execution_count": 39,
   "metadata": {},
   "outputs": [
    {
     "data": {
      "text/plain": [
       "[('Counterfeit_Weight', -3.6699484849865174),\n",
       " ('Medicine_MRP', 15.441926465295905),\n",
       " ('Availability_rating', -207.6455306241474),\n",
       " ('Medicine_Type_Antibiotics', -286.07444536392836),\n",
       " ('Medicine_Type_Hreplacements', -313.2979603704888),\n",
       " ('Medicine_Type_Antiseptics', -328.4167934213048),\n",
       " ('Medicine_Type_OralContraceptives', -329.705238169777),\n",
       " ('Medicine_Type_Antipyretics', -345.9992820717039),\n",
       " ('Medicine_Type_Cardiac', -299.70148735468746),\n",
       " ('Medicine_Type_Mstablizers', -308.78158017135985),\n",
       " ('Medicine_Type_Tranquilizers', -334.6282838363072),\n",
       " ('Medicine_Type_Analgesics', -303.53825317066617),\n",
       " ('Medicine_Type_Antimalarial', -296.7230817136468),\n",
       " ('Medicine_Type_Antacids', -348.5420673914719),\n",
       " ('Medicine_Type_Statins', -303.7107161999211),\n",
       " ('Medicine_Type_MuscleRelaxants', -267.01251966922433),\n",
       " ('Medicine_Type_Antifungal', -363.94160575259804),\n",
       " ('Medicine_Type_Stimulants', -141.24290505119515),\n",
       " ('Area_Type_DownTown', 253.82785512814246),\n",
       " ('Area_Type_MidTownResidential', -1650.6970523466446),\n",
       " ('Area_Type_CityLimits', 1673.1257963666014),\n",
       " ('Area_City_Type_Tier 3', -61.5726307682016),\n",
       " ('Area_City_Type_Tier 2', 27.022132391438817)]"
      ]
     },
     "execution_count": 39,
     "metadata": {},
     "output_type": "execute_result"
    }
   ],
   "source": [
    "list(zip(x_train.columns,lr.coef_))"
   ]
  },
  {
   "cell_type": "code",
   "execution_count": 40,
   "metadata": {},
   "outputs": [],
   "source": [
    "y_pred = lr.predict(x_test)"
   ]
  },
  {
   "cell_type": "code",
   "execution_count": 41,
   "metadata": {},
   "outputs": [
    {
     "data": {
      "text/plain": [
       "array([3043.00107356, 1650.10917955, 3306.35870462, ...,  852.81332934,\n",
       "       2720.6001311 ,  812.76472063])"
      ]
     },
     "execution_count": 41,
     "metadata": {},
     "output_type": "execute_result"
    }
   ],
   "source": [
    "y_pred"
   ]
  },
  {
   "cell_type": "code",
   "execution_count": 74,
   "metadata": {},
   "outputs": [],
   "source": [
    "y_pred = pd.DataFrame(y_pred)"
   ]
  },
  {
   "cell_type": "code",
   "execution_count": 75,
   "metadata": {},
   "outputs": [],
   "source": [
    "with pd.ExcelWriter('test_predict_lr.xlsx') as writer:\n",
    "    y_pred.to_excel(writer,\"Sheet1\",index=False)\n",
    "    y_pred.to_excel(writer,\"Sheet2\")"
   ]
  },
  {
   "cell_type": "code",
   "execution_count": 42,
   "metadata": {},
   "outputs": [],
   "source": [
    "from sklearn.metrics import mean_absolute_error"
   ]
  },
  {
   "cell_type": "code",
   "execution_count": 43,
   "metadata": {},
   "outputs": [
    {
     "data": {
      "text/plain": [
       "796.1603063481145"
      ]
     },
     "execution_count": 43,
     "metadata": {},
     "output_type": "execute_result"
    }
   ],
   "source": [
    "mean_absolute_error(y_pred,y_test)"
   ]
  },
  {
   "cell_type": "code",
   "execution_count": null,
   "metadata": {},
   "outputs": [],
   "source": []
  },
  {
   "cell_type": "code",
   "execution_count": 44,
   "metadata": {},
   "outputs": [],
   "source": [
    "#predicting the orginal dataset_test \n",
    "final_pred = lr.predict(dataset_test)"
   ]
  },
  {
   "cell_type": "code",
   "execution_count": 45,
   "metadata": {},
   "outputs": [
    {
     "data": {
      "text/html": [
       "<div>\n",
       "<style scoped>\n",
       "    .dataframe tbody tr th:only-of-type {\n",
       "        vertical-align: middle;\n",
       "    }\n",
       "\n",
       "    .dataframe tbody tr th {\n",
       "        vertical-align: top;\n",
       "    }\n",
       "\n",
       "    .dataframe thead th {\n",
       "        text-align: right;\n",
       "    }\n",
       "</style>\n",
       "<table border=\"1\" class=\"dataframe\">\n",
       "  <thead>\n",
       "    <tr style=\"text-align: right;\">\n",
       "      <th></th>\n",
       "      <th>Counterfeit_Weight</th>\n",
       "      <th>Medicine_MRP</th>\n",
       "      <th>Availability_rating</th>\n",
       "      <th>Medicine_Type_Antibiotics</th>\n",
       "      <th>Medicine_Type_Hreplacements</th>\n",
       "      <th>Medicine_Type_Antiseptics</th>\n",
       "      <th>Medicine_Type_OralContraceptives</th>\n",
       "      <th>Medicine_Type_Antipyretics</th>\n",
       "      <th>Medicine_Type_Cardiac</th>\n",
       "      <th>Medicine_Type_Mstablizers</th>\n",
       "      <th>...</th>\n",
       "      <th>Medicine_Type_Antacids</th>\n",
       "      <th>Medicine_Type_Statins</th>\n",
       "      <th>Medicine_Type_MuscleRelaxants</th>\n",
       "      <th>Medicine_Type_Antifungal</th>\n",
       "      <th>Medicine_Type_Stimulants</th>\n",
       "      <th>Area_Type_DownTown</th>\n",
       "      <th>Area_Type_MidTownResidential</th>\n",
       "      <th>Area_Type_CityLimits</th>\n",
       "      <th>Area_City_Type_Tier 3</th>\n",
       "      <th>Area_City_Type_Tier 2</th>\n",
       "    </tr>\n",
       "  </thead>\n",
       "  <tbody>\n",
       "    <tr>\n",
       "      <td>0</td>\n",
       "      <td>14.157645</td>\n",
       "      <td>85.5328</td>\n",
       "      <td>0.112747</td>\n",
       "      <td>1</td>\n",
       "      <td>0</td>\n",
       "      <td>0</td>\n",
       "      <td>0</td>\n",
       "      <td>0</td>\n",
       "      <td>0</td>\n",
       "      <td>0</td>\n",
       "      <td>...</td>\n",
       "      <td>0</td>\n",
       "      <td>0</td>\n",
       "      <td>0</td>\n",
       "      <td>0</td>\n",
       "      <td>0</td>\n",
       "      <td>0</td>\n",
       "      <td>0</td>\n",
       "      <td>1</td>\n",
       "      <td>1</td>\n",
       "      <td>0</td>\n",
       "    </tr>\n",
       "    <tr>\n",
       "      <td>1</td>\n",
       "      <td>13.450000</td>\n",
       "      <td>257.1460</td>\n",
       "      <td>0.144446</td>\n",
       "      <td>0</td>\n",
       "      <td>0</td>\n",
       "      <td>0</td>\n",
       "      <td>1</td>\n",
       "      <td>0</td>\n",
       "      <td>0</td>\n",
       "      <td>0</td>\n",
       "      <td>...</td>\n",
       "      <td>0</td>\n",
       "      <td>0</td>\n",
       "      <td>0</td>\n",
       "      <td>0</td>\n",
       "      <td>0</td>\n",
       "      <td>1</td>\n",
       "      <td>0</td>\n",
       "      <td>0</td>\n",
       "      <td>0</td>\n",
       "      <td>1</td>\n",
       "    </tr>\n",
       "    <tr>\n",
       "      <td>2</td>\n",
       "      <td>7.100000</td>\n",
       "      <td>98.1172</td>\n",
       "      <td>0.144221</td>\n",
       "      <td>0</td>\n",
       "      <td>0</td>\n",
       "      <td>0</td>\n",
       "      <td>0</td>\n",
       "      <td>1</td>\n",
       "      <td>0</td>\n",
       "      <td>0</td>\n",
       "      <td>...</td>\n",
       "      <td>0</td>\n",
       "      <td>0</td>\n",
       "      <td>0</td>\n",
       "      <td>0</td>\n",
       "      <td>0</td>\n",
       "      <td>1</td>\n",
       "      <td>0</td>\n",
       "      <td>0</td>\n",
       "      <td>0</td>\n",
       "      <td>1</td>\n",
       "    </tr>\n",
       "    <tr>\n",
       "      <td>3</td>\n",
       "      <td>18.300000</td>\n",
       "      <td>135.3730</td>\n",
       "      <td>0.100388</td>\n",
       "      <td>0</td>\n",
       "      <td>0</td>\n",
       "      <td>0</td>\n",
       "      <td>0</td>\n",
       "      <td>0</td>\n",
       "      <td>0</td>\n",
       "      <td>0</td>\n",
       "      <td>...</td>\n",
       "      <td>0</td>\n",
       "      <td>0</td>\n",
       "      <td>0</td>\n",
       "      <td>0</td>\n",
       "      <td>0</td>\n",
       "      <td>0</td>\n",
       "      <td>1</td>\n",
       "      <td>0</td>\n",
       "      <td>1</td>\n",
       "      <td>0</td>\n",
       "    </tr>\n",
       "    <tr>\n",
       "      <td>4</td>\n",
       "      <td>14.157645</td>\n",
       "      <td>112.8016</td>\n",
       "      <td>0.022585</td>\n",
       "      <td>0</td>\n",
       "      <td>0</td>\n",
       "      <td>0</td>\n",
       "      <td>1</td>\n",
       "      <td>0</td>\n",
       "      <td>0</td>\n",
       "      <td>0</td>\n",
       "      <td>...</td>\n",
       "      <td>0</td>\n",
       "      <td>0</td>\n",
       "      <td>0</td>\n",
       "      <td>0</td>\n",
       "      <td>0</td>\n",
       "      <td>0</td>\n",
       "      <td>1</td>\n",
       "      <td>0</td>\n",
       "      <td>0</td>\n",
       "      <td>0</td>\n",
       "    </tr>\n",
       "    <tr>\n",
       "      <td>...</td>\n",
       "      <td>...</td>\n",
       "      <td>...</td>\n",
       "      <td>...</td>\n",
       "      <td>...</td>\n",
       "      <td>...</td>\n",
       "      <td>...</td>\n",
       "      <td>...</td>\n",
       "      <td>...</td>\n",
       "      <td>...</td>\n",
       "      <td>...</td>\n",
       "      <td>...</td>\n",
       "      <td>...</td>\n",
       "      <td>...</td>\n",
       "      <td>...</td>\n",
       "      <td>...</td>\n",
       "      <td>...</td>\n",
       "      <td>...</td>\n",
       "      <td>...</td>\n",
       "      <td>...</td>\n",
       "      <td>...</td>\n",
       "      <td>...</td>\n",
       "    </tr>\n",
       "    <tr>\n",
       "      <td>1700</td>\n",
       "      <td>14.157645</td>\n",
       "      <td>136.5704</td>\n",
       "      <td>0.050505</td>\n",
       "      <td>0</td>\n",
       "      <td>1</td>\n",
       "      <td>0</td>\n",
       "      <td>0</td>\n",
       "      <td>0</td>\n",
       "      <td>0</td>\n",
       "      <td>0</td>\n",
       "      <td>...</td>\n",
       "      <td>0</td>\n",
       "      <td>0</td>\n",
       "      <td>0</td>\n",
       "      <td>0</td>\n",
       "      <td>0</td>\n",
       "      <td>0</td>\n",
       "      <td>0</td>\n",
       "      <td>1</td>\n",
       "      <td>1</td>\n",
       "      <td>0</td>\n",
       "    </tr>\n",
       "    <tr>\n",
       "      <td>1701</td>\n",
       "      <td>21.300000</td>\n",
       "      <td>57.0744</td>\n",
       "      <td>0.041118</td>\n",
       "      <td>1</td>\n",
       "      <td>0</td>\n",
       "      <td>0</td>\n",
       "      <td>0</td>\n",
       "      <td>0</td>\n",
       "      <td>0</td>\n",
       "      <td>0</td>\n",
       "      <td>...</td>\n",
       "      <td>0</td>\n",
       "      <td>0</td>\n",
       "      <td>0</td>\n",
       "      <td>0</td>\n",
       "      <td>0</td>\n",
       "      <td>1</td>\n",
       "      <td>0</td>\n",
       "      <td>0</td>\n",
       "      <td>0</td>\n",
       "      <td>1</td>\n",
       "    </tr>\n",
       "    <tr>\n",
       "      <td>1702</td>\n",
       "      <td>20.400000</td>\n",
       "      <td>182.7422</td>\n",
       "      <td>0.191273</td>\n",
       "      <td>0</td>\n",
       "      <td>0</td>\n",
       "      <td>1</td>\n",
       "      <td>0</td>\n",
       "      <td>0</td>\n",
       "      <td>0</td>\n",
       "      <td>0</td>\n",
       "      <td>...</td>\n",
       "      <td>0</td>\n",
       "      <td>0</td>\n",
       "      <td>0</td>\n",
       "      <td>0</td>\n",
       "      <td>0</td>\n",
       "      <td>1</td>\n",
       "      <td>0</td>\n",
       "      <td>0</td>\n",
       "      <td>0</td>\n",
       "      <td>1</td>\n",
       "    </tr>\n",
       "    <tr>\n",
       "      <td>1703</td>\n",
       "      <td>20.000000</td>\n",
       "      <td>266.9672</td>\n",
       "      <td>0.013000</td>\n",
       "      <td>0</td>\n",
       "      <td>1</td>\n",
       "      <td>0</td>\n",
       "      <td>0</td>\n",
       "      <td>0</td>\n",
       "      <td>0</td>\n",
       "      <td>0</td>\n",
       "      <td>...</td>\n",
       "      <td>0</td>\n",
       "      <td>0</td>\n",
       "      <td>0</td>\n",
       "      <td>0</td>\n",
       "      <td>0</td>\n",
       "      <td>0</td>\n",
       "      <td>0</td>\n",
       "      <td>0</td>\n",
       "      <td>1</td>\n",
       "      <td>0</td>\n",
       "    </tr>\n",
       "    <tr>\n",
       "      <td>1704</td>\n",
       "      <td>8.080000</td>\n",
       "      <td>238.7694</td>\n",
       "      <td>0.098982</td>\n",
       "      <td>1</td>\n",
       "      <td>0</td>\n",
       "      <td>0</td>\n",
       "      <td>0</td>\n",
       "      <td>0</td>\n",
       "      <td>0</td>\n",
       "      <td>0</td>\n",
       "      <td>...</td>\n",
       "      <td>0</td>\n",
       "      <td>0</td>\n",
       "      <td>0</td>\n",
       "      <td>0</td>\n",
       "      <td>0</td>\n",
       "      <td>1</td>\n",
       "      <td>0</td>\n",
       "      <td>0</td>\n",
       "      <td>0</td>\n",
       "      <td>1</td>\n",
       "    </tr>\n",
       "  </tbody>\n",
       "</table>\n",
       "<p>1705 rows × 23 columns</p>\n",
       "</div>"
      ],
      "text/plain": [
       "      Counterfeit_Weight  Medicine_MRP  Availability_rating  \\\n",
       "0              14.157645       85.5328             0.112747   \n",
       "1              13.450000      257.1460             0.144446   \n",
       "2               7.100000       98.1172             0.144221   \n",
       "3              18.300000      135.3730             0.100388   \n",
       "4              14.157645      112.8016             0.022585   \n",
       "...                  ...           ...                  ...   \n",
       "1700           14.157645      136.5704             0.050505   \n",
       "1701           21.300000       57.0744             0.041118   \n",
       "1702           20.400000      182.7422             0.191273   \n",
       "1703           20.000000      266.9672             0.013000   \n",
       "1704            8.080000      238.7694             0.098982   \n",
       "\n",
       "      Medicine_Type_Antibiotics  Medicine_Type_Hreplacements  \\\n",
       "0                             1                            0   \n",
       "1                             0                            0   \n",
       "2                             0                            0   \n",
       "3                             0                            0   \n",
       "4                             0                            0   \n",
       "...                         ...                          ...   \n",
       "1700                          0                            1   \n",
       "1701                          1                            0   \n",
       "1702                          0                            0   \n",
       "1703                          0                            1   \n",
       "1704                          1                            0   \n",
       "\n",
       "      Medicine_Type_Antiseptics  Medicine_Type_OralContraceptives  \\\n",
       "0                             0                                 0   \n",
       "1                             0                                 1   \n",
       "2                             0                                 0   \n",
       "3                             0                                 0   \n",
       "4                             0                                 1   \n",
       "...                         ...                               ...   \n",
       "1700                          0                                 0   \n",
       "1701                          0                                 0   \n",
       "1702                          1                                 0   \n",
       "1703                          0                                 0   \n",
       "1704                          0                                 0   \n",
       "\n",
       "      Medicine_Type_Antipyretics  Medicine_Type_Cardiac  \\\n",
       "0                              0                      0   \n",
       "1                              0                      0   \n",
       "2                              1                      0   \n",
       "3                              0                      0   \n",
       "4                              0                      0   \n",
       "...                          ...                    ...   \n",
       "1700                           0                      0   \n",
       "1701                           0                      0   \n",
       "1702                           0                      0   \n",
       "1703                           0                      0   \n",
       "1704                           0                      0   \n",
       "\n",
       "      Medicine_Type_Mstablizers  ...  Medicine_Type_Antacids  \\\n",
       "0                             0  ...                       0   \n",
       "1                             0  ...                       0   \n",
       "2                             0  ...                       0   \n",
       "3                             0  ...                       0   \n",
       "4                             0  ...                       0   \n",
       "...                         ...  ...                     ...   \n",
       "1700                          0  ...                       0   \n",
       "1701                          0  ...                       0   \n",
       "1702                          0  ...                       0   \n",
       "1703                          0  ...                       0   \n",
       "1704                          0  ...                       0   \n",
       "\n",
       "      Medicine_Type_Statins  Medicine_Type_MuscleRelaxants  \\\n",
       "0                         0                              0   \n",
       "1                         0                              0   \n",
       "2                         0                              0   \n",
       "3                         0                              0   \n",
       "4                         0                              0   \n",
       "...                     ...                            ...   \n",
       "1700                      0                              0   \n",
       "1701                      0                              0   \n",
       "1702                      0                              0   \n",
       "1703                      0                              0   \n",
       "1704                      0                              0   \n",
       "\n",
       "      Medicine_Type_Antifungal  Medicine_Type_Stimulants  Area_Type_DownTown  \\\n",
       "0                            0                         0                   0   \n",
       "1                            0                         0                   1   \n",
       "2                            0                         0                   1   \n",
       "3                            0                         0                   0   \n",
       "4                            0                         0                   0   \n",
       "...                        ...                       ...                 ...   \n",
       "1700                         0                         0                   0   \n",
       "1701                         0                         0                   1   \n",
       "1702                         0                         0                   1   \n",
       "1703                         0                         0                   0   \n",
       "1704                         0                         0                   1   \n",
       "\n",
       "      Area_Type_MidTownResidential  Area_Type_CityLimits  \\\n",
       "0                                0                     1   \n",
       "1                                0                     0   \n",
       "2                                0                     0   \n",
       "3                                1                     0   \n",
       "4                                1                     0   \n",
       "...                            ...                   ...   \n",
       "1700                             0                     1   \n",
       "1701                             0                     0   \n",
       "1702                             0                     0   \n",
       "1703                             0                     0   \n",
       "1704                             0                     0   \n",
       "\n",
       "      Area_City_Type_Tier 3  Area_City_Type_Tier 2  \n",
       "0                         1                      0  \n",
       "1                         0                      1  \n",
       "2                         0                      1  \n",
       "3                         1                      0  \n",
       "4                         0                      0  \n",
       "...                     ...                    ...  \n",
       "1700                      1                      0  \n",
       "1701                      0                      1  \n",
       "1702                      0                      1  \n",
       "1703                      1                      0  \n",
       "1704                      0                      1  \n",
       "\n",
       "[1705 rows x 23 columns]"
      ]
     },
     "execution_count": 45,
     "metadata": {},
     "output_type": "execute_result"
    }
   ],
   "source": [
    "dataset_test"
   ]
  },
  {
   "cell_type": "code",
   "execution_count": 46,
   "metadata": {},
   "outputs": [
    {
     "data": {
      "text/plain": [
       "array([2776.46745688, 4048.18689946, 1599.53260005, ..., 2865.30780155,\n",
       "       3877.08578745, 3837.19557916])"
      ]
     },
     "execution_count": 46,
     "metadata": {},
     "output_type": "execute_result"
    }
   ],
   "source": [
    "final_pred"
   ]
  },
  {
   "cell_type": "code",
   "execution_count": 47,
   "metadata": {},
   "outputs": [],
   "source": [
    "final_pred = pd.DataFrame(final_pred)"
   ]
  },
  {
   "cell_type": "code",
   "execution_count": 48,
   "metadata": {},
   "outputs": [
    {
     "data": {
      "text/html": [
       "<div>\n",
       "<style scoped>\n",
       "    .dataframe tbody tr th:only-of-type {\n",
       "        vertical-align: middle;\n",
       "    }\n",
       "\n",
       "    .dataframe tbody tr th {\n",
       "        vertical-align: top;\n",
       "    }\n",
       "\n",
       "    .dataframe thead th {\n",
       "        text-align: right;\n",
       "    }\n",
       "</style>\n",
       "<table border=\"1\" class=\"dataframe\">\n",
       "  <thead>\n",
       "    <tr style=\"text-align: right;\">\n",
       "      <th></th>\n",
       "      <th>0</th>\n",
       "    </tr>\n",
       "  </thead>\n",
       "  <tbody>\n",
       "    <tr>\n",
       "      <td>0</td>\n",
       "      <td>2776.467457</td>\n",
       "    </tr>\n",
       "    <tr>\n",
       "      <td>1</td>\n",
       "      <td>4048.186899</td>\n",
       "    </tr>\n",
       "    <tr>\n",
       "      <td>2</td>\n",
       "      <td>1599.532600</td>\n",
       "    </tr>\n",
       "    <tr>\n",
       "      <td>3</td>\n",
       "      <td>161.083706</td>\n",
       "    </tr>\n",
       "    <tr>\n",
       "      <td>4</td>\n",
       "      <td>-89.608947</td>\n",
       "    </tr>\n",
       "    <tr>\n",
       "      <td>...</td>\n",
       "      <td>...</td>\n",
       "    </tr>\n",
       "    <tr>\n",
       "      <td>1700</td>\n",
       "      <td>3550.287114</td>\n",
       "    </tr>\n",
       "    <tr>\n",
       "      <td>1701</td>\n",
       "      <td>994.973137</td>\n",
       "    </tr>\n",
       "    <tr>\n",
       "      <td>1702</td>\n",
       "      <td>2865.307802</td>\n",
       "    </tr>\n",
       "    <tr>\n",
       "      <td>1703</td>\n",
       "      <td>3877.085787</td>\n",
       "    </tr>\n",
       "    <tr>\n",
       "      <td>1704</td>\n",
       "      <td>3837.195579</td>\n",
       "    </tr>\n",
       "  </tbody>\n",
       "</table>\n",
       "<p>1705 rows × 1 columns</p>\n",
       "</div>"
      ],
      "text/plain": [
       "                0\n",
       "0     2776.467457\n",
       "1     4048.186899\n",
       "2     1599.532600\n",
       "3      161.083706\n",
       "4      -89.608947\n",
       "...           ...\n",
       "1700  3550.287114\n",
       "1701   994.973137\n",
       "1702  2865.307802\n",
       "1703  3877.085787\n",
       "1704  3837.195579\n",
       "\n",
       "[1705 rows x 1 columns]"
      ]
     },
     "execution_count": 48,
     "metadata": {},
     "output_type": "execute_result"
    }
   ],
   "source": [
    "final_pred"
   ]
  },
  {
   "cell_type": "code",
   "execution_count": null,
   "metadata": {},
   "outputs": [],
   "source": [
    "#with pd.ExcelWriter('linear_predict.xlsx') as writer:\n",
    "#    final_pred.to_excel(writer,\"Sheet1\",index=False)\n",
    "#    final_pred.to_excel(writer,\"Sheet2\")"
   ]
  },
  {
   "cell_type": "markdown",
   "metadata": {},
   "source": [
    "# Cross Validation"
   ]
  },
  {
   "cell_type": "code",
   "execution_count": 49,
   "metadata": {},
   "outputs": [],
   "source": [
    "#cross validation\n",
    "from sklearn.model_selection import cross_val_score"
   ]
  },
  {
   "cell_type": "code",
   "execution_count": 50,
   "metadata": {},
   "outputs": [
    {
     "data": {
      "text/html": [
       "<div>\n",
       "<style scoped>\n",
       "    .dataframe tbody tr th:only-of-type {\n",
       "        vertical-align: middle;\n",
       "    }\n",
       "\n",
       "    .dataframe tbody tr th {\n",
       "        vertical-align: top;\n",
       "    }\n",
       "\n",
       "    .dataframe thead th {\n",
       "        text-align: right;\n",
       "    }\n",
       "</style>\n",
       "<table border=\"1\" class=\"dataframe\">\n",
       "  <thead>\n",
       "    <tr style=\"text-align: right;\">\n",
       "      <th></th>\n",
       "      <th>Counterfeit_Weight</th>\n",
       "      <th>Medicine_MRP</th>\n",
       "      <th>Availability_rating</th>\n",
       "      <th>Counterfeit_Sales</th>\n",
       "      <th>Medicine_Type_Antibiotics</th>\n",
       "      <th>Medicine_Type_Hreplacements</th>\n",
       "      <th>Medicine_Type_Antiseptics</th>\n",
       "      <th>Medicine_Type_OralContraceptives</th>\n",
       "      <th>Medicine_Type_Antipyretics</th>\n",
       "      <th>Medicine_Type_Cardiac</th>\n",
       "      <th>...</th>\n",
       "      <th>Medicine_Type_Antacids</th>\n",
       "      <th>Medicine_Type_Statins</th>\n",
       "      <th>Medicine_Type_MuscleRelaxants</th>\n",
       "      <th>Medicine_Type_Antifungal</th>\n",
       "      <th>Medicine_Type_Stimulants</th>\n",
       "      <th>Area_Type_DownTown</th>\n",
       "      <th>Area_Type_MidTownResidential</th>\n",
       "      <th>Area_Type_CityLimits</th>\n",
       "      <th>Area_City_Type_Tier 3</th>\n",
       "      <th>Area_City_Type_Tier 2</th>\n",
       "    </tr>\n",
       "  </thead>\n",
       "  <tbody>\n",
       "    <tr>\n",
       "      <td>0</td>\n",
       "      <td>13.100000</td>\n",
       "      <td>160.2366</td>\n",
       "      <td>0.070422</td>\n",
       "      <td>1775.5026</td>\n",
       "      <td>0</td>\n",
       "      <td>0</td>\n",
       "      <td>0</td>\n",
       "      <td>0</td>\n",
       "      <td>0</td>\n",
       "      <td>0</td>\n",
       "      <td>...</td>\n",
       "      <td>0</td>\n",
       "      <td>0</td>\n",
       "      <td>0</td>\n",
       "      <td>0</td>\n",
       "      <td>0</td>\n",
       "      <td>1</td>\n",
       "      <td>0</td>\n",
       "      <td>0</td>\n",
       "      <td>0</td>\n",
       "      <td>0</td>\n",
       "    </tr>\n",
       "    <tr>\n",
       "      <td>1</td>\n",
       "      <td>14.157645</td>\n",
       "      <td>110.4384</td>\n",
       "      <td>0.013000</td>\n",
       "      <td>3069.1520</td>\n",
       "      <td>0</td>\n",
       "      <td>0</td>\n",
       "      <td>0</td>\n",
       "      <td>0</td>\n",
       "      <td>0</td>\n",
       "      <td>0</td>\n",
       "      <td>...</td>\n",
       "      <td>0</td>\n",
       "      <td>0</td>\n",
       "      <td>0</td>\n",
       "      <td>0</td>\n",
       "      <td>0</td>\n",
       "      <td>0</td>\n",
       "      <td>0</td>\n",
       "      <td>1</td>\n",
       "      <td>1</td>\n",
       "      <td>0</td>\n",
       "    </tr>\n",
       "    <tr>\n",
       "      <td>2</td>\n",
       "      <td>9.025000</td>\n",
       "      <td>259.4092</td>\n",
       "      <td>0.060783</td>\n",
       "      <td>2603.0920</td>\n",
       "      <td>0</td>\n",
       "      <td>0</td>\n",
       "      <td>0</td>\n",
       "      <td>0</td>\n",
       "      <td>0</td>\n",
       "      <td>1</td>\n",
       "      <td>...</td>\n",
       "      <td>0</td>\n",
       "      <td>0</td>\n",
       "      <td>0</td>\n",
       "      <td>0</td>\n",
       "      <td>0</td>\n",
       "      <td>1</td>\n",
       "      <td>0</td>\n",
       "      <td>0</td>\n",
       "      <td>0</td>\n",
       "      <td>0</td>\n",
       "    </tr>\n",
       "    <tr>\n",
       "      <td>3</td>\n",
       "      <td>11.800000</td>\n",
       "      <td>99.9830</td>\n",
       "      <td>0.065555</td>\n",
       "      <td>1101.7130</td>\n",
       "      <td>0</td>\n",
       "      <td>0</td>\n",
       "      <td>0</td>\n",
       "      <td>1</td>\n",
       "      <td>0</td>\n",
       "      <td>0</td>\n",
       "      <td>...</td>\n",
       "      <td>0</td>\n",
       "      <td>0</td>\n",
       "      <td>0</td>\n",
       "      <td>0</td>\n",
       "      <td>0</td>\n",
       "      <td>1</td>\n",
       "      <td>0</td>\n",
       "      <td>0</td>\n",
       "      <td>0</td>\n",
       "      <td>0</td>\n",
       "    </tr>\n",
       "    <tr>\n",
       "      <td>4</td>\n",
       "      <td>14.157645</td>\n",
       "      <td>56.4402</td>\n",
       "      <td>0.248859</td>\n",
       "      <td>158.9402</td>\n",
       "      <td>0</td>\n",
       "      <td>1</td>\n",
       "      <td>0</td>\n",
       "      <td>0</td>\n",
       "      <td>0</td>\n",
       "      <td>0</td>\n",
       "      <td>...</td>\n",
       "      <td>0</td>\n",
       "      <td>0</td>\n",
       "      <td>0</td>\n",
       "      <td>0</td>\n",
       "      <td>0</td>\n",
       "      <td>0</td>\n",
       "      <td>1</td>\n",
       "      <td>0</td>\n",
       "      <td>0</td>\n",
       "      <td>0</td>\n",
       "    </tr>\n",
       "    <tr>\n",
       "      <td>...</td>\n",
       "      <td>...</td>\n",
       "      <td>...</td>\n",
       "      <td>...</td>\n",
       "      <td>...</td>\n",
       "      <td>...</td>\n",
       "      <td>...</td>\n",
       "      <td>...</td>\n",
       "      <td>...</td>\n",
       "      <td>...</td>\n",
       "      <td>...</td>\n",
       "      <td>...</td>\n",
       "      <td>...</td>\n",
       "      <td>...</td>\n",
       "      <td>...</td>\n",
       "      <td>...</td>\n",
       "      <td>...</td>\n",
       "      <td>...</td>\n",
       "      <td>...</td>\n",
       "      <td>...</td>\n",
       "      <td>...</td>\n",
       "      <td>...</td>\n",
       "    </tr>\n",
       "    <tr>\n",
       "      <td>6813</td>\n",
       "      <td>8.535000</td>\n",
       "      <td>204.1452</td>\n",
       "      <td>0.112963</td>\n",
       "      <td>2070.4520</td>\n",
       "      <td>0</td>\n",
       "      <td>1</td>\n",
       "      <td>0</td>\n",
       "      <td>0</td>\n",
       "      <td>0</td>\n",
       "      <td>0</td>\n",
       "      <td>...</td>\n",
       "      <td>0</td>\n",
       "      <td>0</td>\n",
       "      <td>0</td>\n",
       "      <td>0</td>\n",
       "      <td>0</td>\n",
       "      <td>1</td>\n",
       "      <td>0</td>\n",
       "      <td>0</td>\n",
       "      <td>0</td>\n",
       "      <td>0</td>\n",
       "    </tr>\n",
       "    <tr>\n",
       "      <td>6814</td>\n",
       "      <td>20.650000</td>\n",
       "      <td>235.1088</td>\n",
       "      <td>0.131103</td>\n",
       "      <td>2126.3792</td>\n",
       "      <td>0</td>\n",
       "      <td>1</td>\n",
       "      <td>0</td>\n",
       "      <td>0</td>\n",
       "      <td>0</td>\n",
       "      <td>0</td>\n",
       "      <td>...</td>\n",
       "      <td>0</td>\n",
       "      <td>0</td>\n",
       "      <td>0</td>\n",
       "      <td>0</td>\n",
       "      <td>0</td>\n",
       "      <td>1</td>\n",
       "      <td>0</td>\n",
       "      <td>0</td>\n",
       "      <td>0</td>\n",
       "      <td>0</td>\n",
       "    </tr>\n",
       "    <tr>\n",
       "      <td>6815</td>\n",
       "      <td>20.000000</td>\n",
       "      <td>193.6292</td>\n",
       "      <td>0.105096</td>\n",
       "      <td>2119.7212</td>\n",
       "      <td>0</td>\n",
       "      <td>0</td>\n",
       "      <td>0</td>\n",
       "      <td>0</td>\n",
       "      <td>0</td>\n",
       "      <td>0</td>\n",
       "      <td>...</td>\n",
       "      <td>0</td>\n",
       "      <td>0</td>\n",
       "      <td>0</td>\n",
       "      <td>0</td>\n",
       "      <td>0</td>\n",
       "      <td>1</td>\n",
       "      <td>0</td>\n",
       "      <td>0</td>\n",
       "      <td>0</td>\n",
       "      <td>1</td>\n",
       "    </tr>\n",
       "    <tr>\n",
       "      <td>6816</td>\n",
       "      <td>10.180000</td>\n",
       "      <td>162.8682</td>\n",
       "      <td>0.099957</td>\n",
       "      <td>1485.2138</td>\n",
       "      <td>0</td>\n",
       "      <td>0</td>\n",
       "      <td>0</td>\n",
       "      <td>0</td>\n",
       "      <td>0</td>\n",
       "      <td>0</td>\n",
       "      <td>...</td>\n",
       "      <td>0</td>\n",
       "      <td>1</td>\n",
       "      <td>0</td>\n",
       "      <td>0</td>\n",
       "      <td>0</td>\n",
       "      <td>1</td>\n",
       "      <td>0</td>\n",
       "      <td>0</td>\n",
       "      <td>0</td>\n",
       "      <td>1</td>\n",
       "    </tr>\n",
       "    <tr>\n",
       "      <td>6817</td>\n",
       "      <td>7.930000</td>\n",
       "      <td>177.5500</td>\n",
       "      <td>0.117445</td>\n",
       "      <td>1943.9500</td>\n",
       "      <td>0</td>\n",
       "      <td>0</td>\n",
       "      <td>0</td>\n",
       "      <td>0</td>\n",
       "      <td>0</td>\n",
       "      <td>0</td>\n",
       "      <td>...</td>\n",
       "      <td>0</td>\n",
       "      <td>0</td>\n",
       "      <td>0</td>\n",
       "      <td>0</td>\n",
       "      <td>0</td>\n",
       "      <td>0</td>\n",
       "      <td>0</td>\n",
       "      <td>0</td>\n",
       "      <td>1</td>\n",
       "      <td>0</td>\n",
       "    </tr>\n",
       "  </tbody>\n",
       "</table>\n",
       "<p>6818 rows × 24 columns</p>\n",
       "</div>"
      ],
      "text/plain": [
       "      Counterfeit_Weight  Medicine_MRP  Availability_rating  \\\n",
       "0              13.100000      160.2366             0.070422   \n",
       "1              14.157645      110.4384             0.013000   \n",
       "2               9.025000      259.4092             0.060783   \n",
       "3              11.800000       99.9830             0.065555   \n",
       "4              14.157645       56.4402             0.248859   \n",
       "...                  ...           ...                  ...   \n",
       "6813            8.535000      204.1452             0.112963   \n",
       "6814           20.650000      235.1088             0.131103   \n",
       "6815           20.000000      193.6292             0.105096   \n",
       "6816           10.180000      162.8682             0.099957   \n",
       "6817            7.930000      177.5500             0.117445   \n",
       "\n",
       "      Counterfeit_Sales  Medicine_Type_Antibiotics  \\\n",
       "0             1775.5026                          0   \n",
       "1             3069.1520                          0   \n",
       "2             2603.0920                          0   \n",
       "3             1101.7130                          0   \n",
       "4              158.9402                          0   \n",
       "...                 ...                        ...   \n",
       "6813          2070.4520                          0   \n",
       "6814          2126.3792                          0   \n",
       "6815          2119.7212                          0   \n",
       "6816          1485.2138                          0   \n",
       "6817          1943.9500                          0   \n",
       "\n",
       "      Medicine_Type_Hreplacements  Medicine_Type_Antiseptics  \\\n",
       "0                               0                          0   \n",
       "1                               0                          0   \n",
       "2                               0                          0   \n",
       "3                               0                          0   \n",
       "4                               1                          0   \n",
       "...                           ...                        ...   \n",
       "6813                            1                          0   \n",
       "6814                            1                          0   \n",
       "6815                            0                          0   \n",
       "6816                            0                          0   \n",
       "6817                            0                          0   \n",
       "\n",
       "      Medicine_Type_OralContraceptives  Medicine_Type_Antipyretics  \\\n",
       "0                                    0                           0   \n",
       "1                                    0                           0   \n",
       "2                                    0                           0   \n",
       "3                                    1                           0   \n",
       "4                                    0                           0   \n",
       "...                                ...                         ...   \n",
       "6813                                 0                           0   \n",
       "6814                                 0                           0   \n",
       "6815                                 0                           0   \n",
       "6816                                 0                           0   \n",
       "6817                                 0                           0   \n",
       "\n",
       "      Medicine_Type_Cardiac  ...  Medicine_Type_Antacids  \\\n",
       "0                         0  ...                       0   \n",
       "1                         0  ...                       0   \n",
       "2                         1  ...                       0   \n",
       "3                         0  ...                       0   \n",
       "4                         0  ...                       0   \n",
       "...                     ...  ...                     ...   \n",
       "6813                      0  ...                       0   \n",
       "6814                      0  ...                       0   \n",
       "6815                      0  ...                       0   \n",
       "6816                      0  ...                       0   \n",
       "6817                      0  ...                       0   \n",
       "\n",
       "      Medicine_Type_Statins  Medicine_Type_MuscleRelaxants  \\\n",
       "0                         0                              0   \n",
       "1                         0                              0   \n",
       "2                         0                              0   \n",
       "3                         0                              0   \n",
       "4                         0                              0   \n",
       "...                     ...                            ...   \n",
       "6813                      0                              0   \n",
       "6814                      0                              0   \n",
       "6815                      0                              0   \n",
       "6816                      1                              0   \n",
       "6817                      0                              0   \n",
       "\n",
       "      Medicine_Type_Antifungal  Medicine_Type_Stimulants  Area_Type_DownTown  \\\n",
       "0                            0                         0                   1   \n",
       "1                            0                         0                   0   \n",
       "2                            0                         0                   1   \n",
       "3                            0                         0                   1   \n",
       "4                            0                         0                   0   \n",
       "...                        ...                       ...                 ...   \n",
       "6813                         0                         0                   1   \n",
       "6814                         0                         0                   1   \n",
       "6815                         0                         0                   1   \n",
       "6816                         0                         0                   1   \n",
       "6817                         0                         0                   0   \n",
       "\n",
       "      Area_Type_MidTownResidential  Area_Type_CityLimits  \\\n",
       "0                                0                     0   \n",
       "1                                0                     1   \n",
       "2                                0                     0   \n",
       "3                                0                     0   \n",
       "4                                1                     0   \n",
       "...                            ...                   ...   \n",
       "6813                             0                     0   \n",
       "6814                             0                     0   \n",
       "6815                             0                     0   \n",
       "6816                             0                     0   \n",
       "6817                             0                     0   \n",
       "\n",
       "      Area_City_Type_Tier 3  Area_City_Type_Tier 2  \n",
       "0                         0                      0  \n",
       "1                         1                      0  \n",
       "2                         0                      0  \n",
       "3                         0                      0  \n",
       "4                         0                      0  \n",
       "...                     ...                    ...  \n",
       "6813                      0                      0  \n",
       "6814                      0                      0  \n",
       "6815                      0                      1  \n",
       "6816                      0                      1  \n",
       "6817                      1                      0  \n",
       "\n",
       "[6818 rows x 24 columns]"
      ]
     },
     "execution_count": 50,
     "metadata": {},
     "output_type": "execute_result"
    }
   ],
   "source": [
    "dataset_train"
   ]
  },
  {
   "cell_type": "code",
   "execution_count": 51,
   "metadata": {},
   "outputs": [],
   "source": [
    "dataset_predictors = dataset_train.drop(['Counterfeit_Sales'],axis=1)"
   ]
  },
  {
   "cell_type": "code",
   "execution_count": 52,
   "metadata": {},
   "outputs": [],
   "source": [
    "dataset_target = dataset_train['Counterfeit_Sales']"
   ]
  },
  {
   "cell_type": "code",
   "execution_count": 53,
   "metadata": {},
   "outputs": [
    {
     "data": {
      "text/html": [
       "<div>\n",
       "<style scoped>\n",
       "    .dataframe tbody tr th:only-of-type {\n",
       "        vertical-align: middle;\n",
       "    }\n",
       "\n",
       "    .dataframe tbody tr th {\n",
       "        vertical-align: top;\n",
       "    }\n",
       "\n",
       "    .dataframe thead th {\n",
       "        text-align: right;\n",
       "    }\n",
       "</style>\n",
       "<table border=\"1\" class=\"dataframe\">\n",
       "  <thead>\n",
       "    <tr style=\"text-align: right;\">\n",
       "      <th></th>\n",
       "      <th>Counterfeit_Weight</th>\n",
       "      <th>Medicine_MRP</th>\n",
       "      <th>Availability_rating</th>\n",
       "      <th>Medicine_Type_Antibiotics</th>\n",
       "      <th>Medicine_Type_Hreplacements</th>\n",
       "      <th>Medicine_Type_Antiseptics</th>\n",
       "      <th>Medicine_Type_OralContraceptives</th>\n",
       "      <th>Medicine_Type_Antipyretics</th>\n",
       "      <th>Medicine_Type_Cardiac</th>\n",
       "      <th>Medicine_Type_Mstablizers</th>\n",
       "      <th>...</th>\n",
       "      <th>Medicine_Type_Antacids</th>\n",
       "      <th>Medicine_Type_Statins</th>\n",
       "      <th>Medicine_Type_MuscleRelaxants</th>\n",
       "      <th>Medicine_Type_Antifungal</th>\n",
       "      <th>Medicine_Type_Stimulants</th>\n",
       "      <th>Area_Type_DownTown</th>\n",
       "      <th>Area_Type_MidTownResidential</th>\n",
       "      <th>Area_Type_CityLimits</th>\n",
       "      <th>Area_City_Type_Tier 3</th>\n",
       "      <th>Area_City_Type_Tier 2</th>\n",
       "    </tr>\n",
       "  </thead>\n",
       "  <tbody>\n",
       "    <tr>\n",
       "      <td>0</td>\n",
       "      <td>13.100000</td>\n",
       "      <td>160.2366</td>\n",
       "      <td>0.070422</td>\n",
       "      <td>0</td>\n",
       "      <td>0</td>\n",
       "      <td>0</td>\n",
       "      <td>0</td>\n",
       "      <td>0</td>\n",
       "      <td>0</td>\n",
       "      <td>0</td>\n",
       "      <td>...</td>\n",
       "      <td>0</td>\n",
       "      <td>0</td>\n",
       "      <td>0</td>\n",
       "      <td>0</td>\n",
       "      <td>0</td>\n",
       "      <td>1</td>\n",
       "      <td>0</td>\n",
       "      <td>0</td>\n",
       "      <td>0</td>\n",
       "      <td>0</td>\n",
       "    </tr>\n",
       "    <tr>\n",
       "      <td>1</td>\n",
       "      <td>14.157645</td>\n",
       "      <td>110.4384</td>\n",
       "      <td>0.013000</td>\n",
       "      <td>0</td>\n",
       "      <td>0</td>\n",
       "      <td>0</td>\n",
       "      <td>0</td>\n",
       "      <td>0</td>\n",
       "      <td>0</td>\n",
       "      <td>1</td>\n",
       "      <td>...</td>\n",
       "      <td>0</td>\n",
       "      <td>0</td>\n",
       "      <td>0</td>\n",
       "      <td>0</td>\n",
       "      <td>0</td>\n",
       "      <td>0</td>\n",
       "      <td>0</td>\n",
       "      <td>1</td>\n",
       "      <td>1</td>\n",
       "      <td>0</td>\n",
       "    </tr>\n",
       "    <tr>\n",
       "      <td>2</td>\n",
       "      <td>9.025000</td>\n",
       "      <td>259.4092</td>\n",
       "      <td>0.060783</td>\n",
       "      <td>0</td>\n",
       "      <td>0</td>\n",
       "      <td>0</td>\n",
       "      <td>0</td>\n",
       "      <td>0</td>\n",
       "      <td>1</td>\n",
       "      <td>0</td>\n",
       "      <td>...</td>\n",
       "      <td>0</td>\n",
       "      <td>0</td>\n",
       "      <td>0</td>\n",
       "      <td>0</td>\n",
       "      <td>0</td>\n",
       "      <td>1</td>\n",
       "      <td>0</td>\n",
       "      <td>0</td>\n",
       "      <td>0</td>\n",
       "      <td>0</td>\n",
       "    </tr>\n",
       "    <tr>\n",
       "      <td>3</td>\n",
       "      <td>11.800000</td>\n",
       "      <td>99.9830</td>\n",
       "      <td>0.065555</td>\n",
       "      <td>0</td>\n",
       "      <td>0</td>\n",
       "      <td>0</td>\n",
       "      <td>1</td>\n",
       "      <td>0</td>\n",
       "      <td>0</td>\n",
       "      <td>0</td>\n",
       "      <td>...</td>\n",
       "      <td>0</td>\n",
       "      <td>0</td>\n",
       "      <td>0</td>\n",
       "      <td>0</td>\n",
       "      <td>0</td>\n",
       "      <td>1</td>\n",
       "      <td>0</td>\n",
       "      <td>0</td>\n",
       "      <td>0</td>\n",
       "      <td>0</td>\n",
       "    </tr>\n",
       "    <tr>\n",
       "      <td>4</td>\n",
       "      <td>14.157645</td>\n",
       "      <td>56.4402</td>\n",
       "      <td>0.248859</td>\n",
       "      <td>0</td>\n",
       "      <td>1</td>\n",
       "      <td>0</td>\n",
       "      <td>0</td>\n",
       "      <td>0</td>\n",
       "      <td>0</td>\n",
       "      <td>0</td>\n",
       "      <td>...</td>\n",
       "      <td>0</td>\n",
       "      <td>0</td>\n",
       "      <td>0</td>\n",
       "      <td>0</td>\n",
       "      <td>0</td>\n",
       "      <td>0</td>\n",
       "      <td>1</td>\n",
       "      <td>0</td>\n",
       "      <td>0</td>\n",
       "      <td>0</td>\n",
       "    </tr>\n",
       "    <tr>\n",
       "      <td>...</td>\n",
       "      <td>...</td>\n",
       "      <td>...</td>\n",
       "      <td>...</td>\n",
       "      <td>...</td>\n",
       "      <td>...</td>\n",
       "      <td>...</td>\n",
       "      <td>...</td>\n",
       "      <td>...</td>\n",
       "      <td>...</td>\n",
       "      <td>...</td>\n",
       "      <td>...</td>\n",
       "      <td>...</td>\n",
       "      <td>...</td>\n",
       "      <td>...</td>\n",
       "      <td>...</td>\n",
       "      <td>...</td>\n",
       "      <td>...</td>\n",
       "      <td>...</td>\n",
       "      <td>...</td>\n",
       "      <td>...</td>\n",
       "      <td>...</td>\n",
       "    </tr>\n",
       "    <tr>\n",
       "      <td>6813</td>\n",
       "      <td>8.535000</td>\n",
       "      <td>204.1452</td>\n",
       "      <td>0.112963</td>\n",
       "      <td>0</td>\n",
       "      <td>1</td>\n",
       "      <td>0</td>\n",
       "      <td>0</td>\n",
       "      <td>0</td>\n",
       "      <td>0</td>\n",
       "      <td>0</td>\n",
       "      <td>...</td>\n",
       "      <td>0</td>\n",
       "      <td>0</td>\n",
       "      <td>0</td>\n",
       "      <td>0</td>\n",
       "      <td>0</td>\n",
       "      <td>1</td>\n",
       "      <td>0</td>\n",
       "      <td>0</td>\n",
       "      <td>0</td>\n",
       "      <td>0</td>\n",
       "    </tr>\n",
       "    <tr>\n",
       "      <td>6814</td>\n",
       "      <td>20.650000</td>\n",
       "      <td>235.1088</td>\n",
       "      <td>0.131103</td>\n",
       "      <td>0</td>\n",
       "      <td>1</td>\n",
       "      <td>0</td>\n",
       "      <td>0</td>\n",
       "      <td>0</td>\n",
       "      <td>0</td>\n",
       "      <td>0</td>\n",
       "      <td>...</td>\n",
       "      <td>0</td>\n",
       "      <td>0</td>\n",
       "      <td>0</td>\n",
       "      <td>0</td>\n",
       "      <td>0</td>\n",
       "      <td>1</td>\n",
       "      <td>0</td>\n",
       "      <td>0</td>\n",
       "      <td>0</td>\n",
       "      <td>0</td>\n",
       "    </tr>\n",
       "    <tr>\n",
       "      <td>6815</td>\n",
       "      <td>20.000000</td>\n",
       "      <td>193.6292</td>\n",
       "      <td>0.105096</td>\n",
       "      <td>0</td>\n",
       "      <td>0</td>\n",
       "      <td>0</td>\n",
       "      <td>0</td>\n",
       "      <td>0</td>\n",
       "      <td>0</td>\n",
       "      <td>0</td>\n",
       "      <td>...</td>\n",
       "      <td>0</td>\n",
       "      <td>0</td>\n",
       "      <td>0</td>\n",
       "      <td>0</td>\n",
       "      <td>0</td>\n",
       "      <td>1</td>\n",
       "      <td>0</td>\n",
       "      <td>0</td>\n",
       "      <td>0</td>\n",
       "      <td>1</td>\n",
       "    </tr>\n",
       "    <tr>\n",
       "      <td>6816</td>\n",
       "      <td>10.180000</td>\n",
       "      <td>162.8682</td>\n",
       "      <td>0.099957</td>\n",
       "      <td>0</td>\n",
       "      <td>0</td>\n",
       "      <td>0</td>\n",
       "      <td>0</td>\n",
       "      <td>0</td>\n",
       "      <td>0</td>\n",
       "      <td>0</td>\n",
       "      <td>...</td>\n",
       "      <td>0</td>\n",
       "      <td>1</td>\n",
       "      <td>0</td>\n",
       "      <td>0</td>\n",
       "      <td>0</td>\n",
       "      <td>1</td>\n",
       "      <td>0</td>\n",
       "      <td>0</td>\n",
       "      <td>0</td>\n",
       "      <td>1</td>\n",
       "    </tr>\n",
       "    <tr>\n",
       "      <td>6817</td>\n",
       "      <td>7.930000</td>\n",
       "      <td>177.5500</td>\n",
       "      <td>0.117445</td>\n",
       "      <td>0</td>\n",
       "      <td>0</td>\n",
       "      <td>0</td>\n",
       "      <td>0</td>\n",
       "      <td>0</td>\n",
       "      <td>0</td>\n",
       "      <td>1</td>\n",
       "      <td>...</td>\n",
       "      <td>0</td>\n",
       "      <td>0</td>\n",
       "      <td>0</td>\n",
       "      <td>0</td>\n",
       "      <td>0</td>\n",
       "      <td>0</td>\n",
       "      <td>0</td>\n",
       "      <td>0</td>\n",
       "      <td>1</td>\n",
       "      <td>0</td>\n",
       "    </tr>\n",
       "  </tbody>\n",
       "</table>\n",
       "<p>6818 rows × 23 columns</p>\n",
       "</div>"
      ],
      "text/plain": [
       "      Counterfeit_Weight  Medicine_MRP  Availability_rating  \\\n",
       "0              13.100000      160.2366             0.070422   \n",
       "1              14.157645      110.4384             0.013000   \n",
       "2               9.025000      259.4092             0.060783   \n",
       "3              11.800000       99.9830             0.065555   \n",
       "4              14.157645       56.4402             0.248859   \n",
       "...                  ...           ...                  ...   \n",
       "6813            8.535000      204.1452             0.112963   \n",
       "6814           20.650000      235.1088             0.131103   \n",
       "6815           20.000000      193.6292             0.105096   \n",
       "6816           10.180000      162.8682             0.099957   \n",
       "6817            7.930000      177.5500             0.117445   \n",
       "\n",
       "      Medicine_Type_Antibiotics  Medicine_Type_Hreplacements  \\\n",
       "0                             0                            0   \n",
       "1                             0                            0   \n",
       "2                             0                            0   \n",
       "3                             0                            0   \n",
       "4                             0                            1   \n",
       "...                         ...                          ...   \n",
       "6813                          0                            1   \n",
       "6814                          0                            1   \n",
       "6815                          0                            0   \n",
       "6816                          0                            0   \n",
       "6817                          0                            0   \n",
       "\n",
       "      Medicine_Type_Antiseptics  Medicine_Type_OralContraceptives  \\\n",
       "0                             0                                 0   \n",
       "1                             0                                 0   \n",
       "2                             0                                 0   \n",
       "3                             0                                 1   \n",
       "4                             0                                 0   \n",
       "...                         ...                               ...   \n",
       "6813                          0                                 0   \n",
       "6814                          0                                 0   \n",
       "6815                          0                                 0   \n",
       "6816                          0                                 0   \n",
       "6817                          0                                 0   \n",
       "\n",
       "      Medicine_Type_Antipyretics  Medicine_Type_Cardiac  \\\n",
       "0                              0                      0   \n",
       "1                              0                      0   \n",
       "2                              0                      1   \n",
       "3                              0                      0   \n",
       "4                              0                      0   \n",
       "...                          ...                    ...   \n",
       "6813                           0                      0   \n",
       "6814                           0                      0   \n",
       "6815                           0                      0   \n",
       "6816                           0                      0   \n",
       "6817                           0                      0   \n",
       "\n",
       "      Medicine_Type_Mstablizers  ...  Medicine_Type_Antacids  \\\n",
       "0                             0  ...                       0   \n",
       "1                             1  ...                       0   \n",
       "2                             0  ...                       0   \n",
       "3                             0  ...                       0   \n",
       "4                             0  ...                       0   \n",
       "...                         ...  ...                     ...   \n",
       "6813                          0  ...                       0   \n",
       "6814                          0  ...                       0   \n",
       "6815                          0  ...                       0   \n",
       "6816                          0  ...                       0   \n",
       "6817                          1  ...                       0   \n",
       "\n",
       "      Medicine_Type_Statins  Medicine_Type_MuscleRelaxants  \\\n",
       "0                         0                              0   \n",
       "1                         0                              0   \n",
       "2                         0                              0   \n",
       "3                         0                              0   \n",
       "4                         0                              0   \n",
       "...                     ...                            ...   \n",
       "6813                      0                              0   \n",
       "6814                      0                              0   \n",
       "6815                      0                              0   \n",
       "6816                      1                              0   \n",
       "6817                      0                              0   \n",
       "\n",
       "      Medicine_Type_Antifungal  Medicine_Type_Stimulants  Area_Type_DownTown  \\\n",
       "0                            0                         0                   1   \n",
       "1                            0                         0                   0   \n",
       "2                            0                         0                   1   \n",
       "3                            0                         0                   1   \n",
       "4                            0                         0                   0   \n",
       "...                        ...                       ...                 ...   \n",
       "6813                         0                         0                   1   \n",
       "6814                         0                         0                   1   \n",
       "6815                         0                         0                   1   \n",
       "6816                         0                         0                   1   \n",
       "6817                         0                         0                   0   \n",
       "\n",
       "      Area_Type_MidTownResidential  Area_Type_CityLimits  \\\n",
       "0                                0                     0   \n",
       "1                                0                     1   \n",
       "2                                0                     0   \n",
       "3                                0                     0   \n",
       "4                                1                     0   \n",
       "...                            ...                   ...   \n",
       "6813                             0                     0   \n",
       "6814                             0                     0   \n",
       "6815                             0                     0   \n",
       "6816                             0                     0   \n",
       "6817                             0                     0   \n",
       "\n",
       "      Area_City_Type_Tier 3  Area_City_Type_Tier 2  \n",
       "0                         0                      0  \n",
       "1                         1                      0  \n",
       "2                         0                      0  \n",
       "3                         0                      0  \n",
       "4                         0                      0  \n",
       "...                     ...                    ...  \n",
       "6813                      0                      0  \n",
       "6814                      0                      0  \n",
       "6815                      0                      1  \n",
       "6816                      0                      1  \n",
       "6817                      1                      0  \n",
       "\n",
       "[6818 rows x 23 columns]"
      ]
     },
     "execution_count": 53,
     "metadata": {},
     "output_type": "execute_result"
    }
   ],
   "source": [
    "dataset_predictors"
   ]
  },
  {
   "cell_type": "code",
   "execution_count": 54,
   "metadata": {},
   "outputs": [
    {
     "data": {
      "text/plain": [
       "0       1775.5026\n",
       "1       3069.1520\n",
       "2       2603.0920\n",
       "3       1101.7130\n",
       "4        158.9402\n",
       "          ...    \n",
       "6813    2070.4520\n",
       "6814    2126.3792\n",
       "6815    2119.7212\n",
       "6816    1485.2138\n",
       "6817    1943.9500\n",
       "Name: Counterfeit_Sales, Length: 6818, dtype: float64"
      ]
     },
     "execution_count": 54,
     "metadata": {},
     "output_type": "execute_result"
    }
   ],
   "source": [
    "dataset_target"
   ]
  },
  {
   "cell_type": "code",
   "execution_count": 55,
   "metadata": {},
   "outputs": [],
   "source": [
    "errors = np.abs(cross_val_score(lr,dataset_predictors,dataset_target,cv=10,scoring='neg_mean_absolute_error'))"
   ]
  },
  {
   "cell_type": "code",
   "execution_count": 56,
   "metadata": {},
   "outputs": [
    {
     "data": {
      "text/plain": [
       "array([785.06788928, 859.12641672, 803.27381891, 833.26872356,\n",
       "       866.5994691 , 843.4162461 , 814.8645688 , 803.56311547,\n",
       "       843.68733936, 832.93530554])"
      ]
     },
     "execution_count": 56,
     "metadata": {},
     "output_type": "execute_result"
    }
   ],
   "source": [
    "errors"
   ]
  },
  {
   "cell_type": "code",
   "execution_count": 57,
   "metadata": {},
   "outputs": [],
   "source": [
    "avg_error=errors.mean()\n",
    "error_std=np.std(errors)"
   ]
  },
  {
   "cell_type": "code",
   "execution_count": 58,
   "metadata": {},
   "outputs": [
    {
     "data": {
      "text/plain": [
       "828.5802892840154"
      ]
     },
     "execution_count": 58,
     "metadata": {},
     "output_type": "execute_result"
    }
   ],
   "source": [
    "avg_error"
   ]
  },
  {
   "cell_type": "code",
   "execution_count": 59,
   "metadata": {},
   "outputs": [
    {
     "data": {
      "text/plain": [
       "24.930957594149085"
      ]
     },
     "execution_count": 59,
     "metadata": {},
     "output_type": "execute_result"
    }
   ],
   "source": [
    "error_std"
   ]
  },
  {
   "cell_type": "code",
   "execution_count": 60,
   "metadata": {},
   "outputs": [
    {
     "data": {
      "text/plain": [
       "array([2776.46745688, 4048.18689946, 1599.53260005, ..., 2865.30780155,\n",
       "       3877.08578745, 3837.19557916])"
      ]
     },
     "execution_count": 60,
     "metadata": {},
     "output_type": "execute_result"
    }
   ],
   "source": [
    "lr.predict(dataset_test)"
   ]
  },
  {
   "cell_type": "markdown",
   "metadata": {},
   "source": [
    "# Regularization Techniques"
   ]
  },
  {
   "cell_type": "code",
   "execution_count": 61,
   "metadata": {},
   "outputs": [],
   "source": [
    "from sklearn.linear_model import Ridge,Lasso\n",
    "from sklearn.model_selection import GridSearchCV"
   ]
  },
  {
   "cell_type": "code",
   "execution_count": 62,
   "metadata": {},
   "outputs": [],
   "source": [
    "lambdas = np.linspace(1,100,200)\n",
    "params = {'alpha':lambdas}"
   ]
  },
  {
   "cell_type": "code",
   "execution_count": 64,
   "metadata": {},
   "outputs": [
    {
     "data": {
      "text/plain": [
       "{'alpha': array([  1.        ,   1.49748744,   1.99497487,   2.49246231,\n",
       "          2.98994975,   3.48743719,   3.98492462,   4.48241206,\n",
       "          4.9798995 ,   5.47738693,   5.97487437,   6.47236181,\n",
       "          6.96984925,   7.46733668,   7.96482412,   8.46231156,\n",
       "          8.95979899,   9.45728643,   9.95477387,  10.45226131,\n",
       "         10.94974874,  11.44723618,  11.94472362,  12.44221106,\n",
       "         12.93969849,  13.43718593,  13.93467337,  14.4321608 ,\n",
       "         14.92964824,  15.42713568,  15.92462312,  16.42211055,\n",
       "         16.91959799,  17.41708543,  17.91457286,  18.4120603 ,\n",
       "         18.90954774,  19.40703518,  19.90452261,  20.40201005,\n",
       "         20.89949749,  21.39698492,  21.89447236,  22.3919598 ,\n",
       "         22.88944724,  23.38693467,  23.88442211,  24.38190955,\n",
       "         24.87939698,  25.37688442,  25.87437186,  26.3718593 ,\n",
       "         26.86934673,  27.36683417,  27.86432161,  28.36180905,\n",
       "         28.85929648,  29.35678392,  29.85427136,  30.35175879,\n",
       "         30.84924623,  31.34673367,  31.84422111,  32.34170854,\n",
       "         32.83919598,  33.33668342,  33.83417085,  34.33165829,\n",
       "         34.82914573,  35.32663317,  35.8241206 ,  36.32160804,\n",
       "         36.81909548,  37.31658291,  37.81407035,  38.31155779,\n",
       "         38.80904523,  39.30653266,  39.8040201 ,  40.30150754,\n",
       "         40.79899497,  41.29648241,  41.79396985,  42.29145729,\n",
       "         42.78894472,  43.28643216,  43.7839196 ,  44.28140704,\n",
       "         44.77889447,  45.27638191,  45.77386935,  46.27135678,\n",
       "         46.76884422,  47.26633166,  47.7638191 ,  48.26130653,\n",
       "         48.75879397,  49.25628141,  49.75376884,  50.25125628,\n",
       "         50.74874372,  51.24623116,  51.74371859,  52.24120603,\n",
       "         52.73869347,  53.2361809 ,  53.73366834,  54.23115578,\n",
       "         54.72864322,  55.22613065,  55.72361809,  56.22110553,\n",
       "         56.71859296,  57.2160804 ,  57.71356784,  58.21105528,\n",
       "         58.70854271,  59.20603015,  59.70351759,  60.20100503,\n",
       "         60.69849246,  61.1959799 ,  61.69346734,  62.19095477,\n",
       "         62.68844221,  63.18592965,  63.68341709,  64.18090452,\n",
       "         64.67839196,  65.1758794 ,  65.67336683,  66.17085427,\n",
       "         66.66834171,  67.16582915,  67.66331658,  68.16080402,\n",
       "         68.65829146,  69.15577889,  69.65326633,  70.15075377,\n",
       "         70.64824121,  71.14572864,  71.64321608,  72.14070352,\n",
       "         72.63819095,  73.13567839,  73.63316583,  74.13065327,\n",
       "         74.6281407 ,  75.12562814,  75.62311558,  76.12060302,\n",
       "         76.61809045,  77.11557789,  77.61306533,  78.11055276,\n",
       "         78.6080402 ,  79.10552764,  79.60301508,  80.10050251,\n",
       "         80.59798995,  81.09547739,  81.59296482,  82.09045226,\n",
       "         82.5879397 ,  83.08542714,  83.58291457,  84.08040201,\n",
       "         84.57788945,  85.07537688,  85.57286432,  86.07035176,\n",
       "         86.5678392 ,  87.06532663,  87.56281407,  88.06030151,\n",
       "         88.55778894,  89.05527638,  89.55276382,  90.05025126,\n",
       "         90.54773869,  91.04522613,  91.54271357,  92.04020101,\n",
       "         92.53768844,  93.03517588,  93.53266332,  94.03015075,\n",
       "         94.52763819,  95.02512563,  95.52261307,  96.0201005 ,\n",
       "         96.51758794,  97.01507538,  97.51256281,  98.01005025,\n",
       "         98.50753769,  99.00502513,  99.50251256, 100.        ])}"
      ]
     },
     "execution_count": 64,
     "metadata": {},
     "output_type": "execute_result"
    }
   ],
   "source": [
    "params"
   ]
  },
  {
   "cell_type": "code",
   "execution_count": 65,
   "metadata": {},
   "outputs": [],
   "source": [
    "model = Ridge(fit_intercept=True)"
   ]
  },
  {
   "cell_type": "code",
   "execution_count": 66,
   "metadata": {},
   "outputs": [
    {
     "data": {
      "text/plain": [
       "GridSearchCV(cv=10, error_score='raise-deprecating',\n",
       "             estimator=Ridge(alpha=1.0, copy_X=True, fit_intercept=True,\n",
       "                             max_iter=None, normalize=False, random_state=None,\n",
       "                             solver='auto', tol=0.001),\n",
       "             iid='warn', n_jobs=None,\n",
       "             param_grid={'alpha': array([  1.        ,   1.49748744,   1.99497487,   2.49246231,\n",
       "         2.98994975,   3.48743719,   3.98492462,   4.48241206,\n",
       "         4.9798995 ,   5.47738693,   5.97487437,   6.47236...\n",
       "        88.55778894,  89.05527638,  89.55276382,  90.05025126,\n",
       "        90.54773869,  91.04522613,  91.54271357,  92.04020101,\n",
       "        92.53768844,  93.03517588,  93.53266332,  94.03015075,\n",
       "        94.52763819,  95.02512563,  95.52261307,  96.0201005 ,\n",
       "        96.51758794,  97.01507538,  97.51256281,  98.01005025,\n",
       "        98.50753769,  99.00502513,  99.50251256, 100.        ])},\n",
       "             pre_dispatch='2*n_jobs', refit=True, return_train_score=False,\n",
       "             scoring='neg_mean_absolute_error', verbose=0)"
      ]
     },
     "execution_count": 66,
     "metadata": {},
     "output_type": "execute_result"
    }
   ],
   "source": [
    "grid_search=GridSearchCV(model,param_grid=params,cv=10,scoring='neg_mean_absolute_error')\n",
    "grid_search"
   ]
  },
  {
   "cell_type": "code",
   "execution_count": 86,
   "metadata": {},
   "outputs": [
    {
     "data": {
      "text/plain": [
       "Ridge(alpha=49.256281407035175, copy_X=True, fit_intercept=True, max_iter=None,\n",
       "      normalize=False, random_state=None, solver='auto', tol=0.001)"
      ]
     },
     "execution_count": 86,
     "metadata": {},
     "output_type": "execute_result"
    }
   ],
   "source": [
    "grid_search.best_estimator_"
   ]
  },
  {
   "cell_type": "code",
   "execution_count": 87,
   "metadata": {},
   "outputs": [],
   "source": [
    "ridge = grid_search.best_estimator_"
   ]
  },
  {
   "cell_type": "code",
   "execution_count": 88,
   "metadata": {},
   "outputs": [
    {
     "data": {
      "text/plain": [
       "Ridge(alpha=49.256281407035175, copy_X=True, fit_intercept=True, max_iter=None,\n",
       "      normalize=False, random_state=None, solver='auto', tol=0.001)"
      ]
     },
     "execution_count": 88,
     "metadata": {},
     "output_type": "execute_result"
    }
   ],
   "source": [
    "ridge.fit(x_train,y_train)"
   ]
  },
  {
   "cell_type": "code",
   "execution_count": 89,
   "metadata": {},
   "outputs": [
    {
     "data": {
      "text/plain": [
       "array([   -3.75837954,    15.4435677 ,   -92.51838795,     2.44798864,\n",
       "         -21.46436004,   -36.33019821,   -39.50526844,   -52.48950633,\n",
       "          -6.94214073,   -18.05976743,   -38.85857753,   -15.80705512,\n",
       "          -6.86375467,   -46.00203085,    -5.81435065,     9.11179307,\n",
       "         -43.35742695,    81.41791774,   261.44081124, -1541.45413936,\n",
       "        1525.40071324,   -11.03516893,    48.80777262])"
      ]
     },
     "execution_count": 89,
     "metadata": {},
     "output_type": "execute_result"
    }
   ],
   "source": [
    "ridge.coef_"
   ]
  },
  {
   "cell_type": "code",
   "execution_count": 69,
   "metadata": {},
   "outputs": [],
   "source": [
    "def report(results, n_top=3):\n",
    "    for i in range(1, n_top + 1):\n",
    "        candidates = np.flatnonzero(results['rank_test_score'] == i)\n",
    "        for candidate in candidates:\n",
    "            print(\"Model with rank: {0}\".format(i))\n",
    "            print(\"Mean validation score: {0:.3f} (std: {1:.3f})\".format(\n",
    "                  results['mean_test_score'][candidate],\n",
    "                  results['std_test_score'][candidate]))\n",
    "            print(\"Parameters: {0}\".format(results['params'][candidate]))\n",
    "            print(\"\")"
   ]
  },
  {
   "cell_type": "code",
   "execution_count": 71,
   "metadata": {},
   "outputs": [
    {
     "name": "stdout",
     "output_type": "stream",
     "text": [
      "Model with rank: 1\n",
      "Mean validation score: -834.790 (std: 31.502)\n",
      "Parameters: {'alpha': 49.256281407035175}\n",
      "\n",
      "Model with rank: 2\n",
      "Mean validation score: -834.790 (std: 31.494)\n",
      "Parameters: {'alpha': 48.75879396984924}\n",
      "\n",
      "Model with rank: 3\n",
      "Mean validation score: -834.791 (std: 31.487)\n",
      "Parameters: {'alpha': 48.26130653266332}\n",
      "\n",
      "Model with rank: 4\n",
      "Mean validation score: -834.791 (std: 31.509)\n",
      "Parameters: {'alpha': 49.753768844221106}\n",
      "\n",
      "Model with rank: 5\n",
      "Mean validation score: -834.792 (std: 31.516)\n",
      "Parameters: {'alpha': 50.25125628140703}\n",
      "\n"
     ]
    }
   ],
   "source": [
    "report(grid_search.cv_results_,5)"
   ]
  },
  {
   "cell_type": "code",
   "execution_count": 72,
   "metadata": {},
   "outputs": [],
   "source": [
    "test_pred=grid_search.predict(x_test)"
   ]
  },
  {
   "cell_type": "code",
   "execution_count": 73,
   "metadata": {},
   "outputs": [
    {
     "data": {
      "text/plain": [
       "array([2921.21985317, 1676.69833167, 3280.18641238, ...,  846.01398126,\n",
       "       2303.46198241,  840.78073516])"
      ]
     },
     "execution_count": 73,
     "metadata": {},
     "output_type": "execute_result"
    }
   ],
   "source": [
    "test_pred"
   ]
  },
  {
   "cell_type": "code",
   "execution_count": 76,
   "metadata": {},
   "outputs": [],
   "source": [
    "#vali\n",
    "test_pred = pd.DataFrame(test_pred)"
   ]
  },
  {
   "cell_type": "code",
   "execution_count": 77,
   "metadata": {},
   "outputs": [],
   "source": [
    "with pd.ExcelWriter('test_predict_ridge.xlsx') as writer:\n",
    "    test_pred.to_excel(writer,\"Sheet1\",index=False)\n",
    "    test_pred.to_excel(writer,\"Sheet2\")"
   ]
  },
  {
   "cell_type": "code",
   "execution_count": 98,
   "metadata": {},
   "outputs": [
    {
     "data": {
      "text/plain": [
       "795.165532443097"
      ]
     },
     "execution_count": 98,
     "metadata": {},
     "output_type": "execute_result"
    }
   ],
   "source": [
    "#calculating mena absolute erroe\n",
    "mean_absolute_error(test_pred,y_test)"
   ]
  },
  {
   "cell_type": "code",
   "execution_count": 80,
   "metadata": {},
   "outputs": [],
   "source": [
    "y_pred_ridge = grid_search.predict(dataset_test)"
   ]
  },
  {
   "cell_type": "code",
   "execution_count": 82,
   "metadata": {},
   "outputs": [],
   "source": [
    "y_pred_ridge = pd.DataFrame(y_pred_ridge)"
   ]
  },
  {
   "cell_type": "code",
   "execution_count": 83,
   "metadata": {},
   "outputs": [],
   "source": [
    "with pd.ExcelWriter('test_predict_ridge_final.xlsx') as writer:\n",
    "    y_pred_ridge.to_excel(writer,\"Sheet1\",index=False)\n",
    "    y_pred_ridge.to_excel(writer,\"Sheet2\")"
   ]
  },
  {
   "cell_type": "code",
   "execution_count": 93,
   "metadata": {},
   "outputs": [
    {
     "data": {
      "text/plain": [
       "[('Counterfeit_Weight', -3.7583795448986224),\n",
       " ('Medicine_MRP', 15.44356770002053),\n",
       " ('Availability_rating', -92.51838794612254),\n",
       " ('Medicine_Type_Antibiotics', 2.447988641446672),\n",
       " ('Medicine_Type_Hreplacements', -21.46436003755592),\n",
       " ('Medicine_Type_Antiseptics', -36.330198210108016),\n",
       " ('Medicine_Type_OralContraceptives', -39.505268438133726),\n",
       " ('Medicine_Type_Antipyretics', -52.48950632643109),\n",
       " ('Medicine_Type_Cardiac', -6.942140725516659),\n",
       " ('Medicine_Type_Mstablizers', -18.059767428840257),\n",
       " ('Medicine_Type_Tranquilizers', -38.85857753274258),\n",
       " ('Medicine_Type_Analgesics', -15.807055122965052),\n",
       " ('Medicine_Type_Antimalarial', -6.863754669376664),\n",
       " ('Medicine_Type_Antacids', -46.00203085159288),\n",
       " ('Medicine_Type_Statins', -5.8143506455440725),\n",
       " ('Medicine_Type_MuscleRelaxants', 9.11179306716348),\n",
       " ('Medicine_Type_Antifungal', -43.35742694711609),\n",
       " ('Medicine_Type_Stimulants', 81.41791773540724),\n",
       " ('Area_Type_DownTown', 261.44081123615865),\n",
       " ('Area_Type_MidTownResidential', -1541.4541393596),\n",
       " ('Area_Type_CityLimits', 1525.4007132373952),\n",
       " ('Area_City_Type_Tier 3', -11.035168929362042),\n",
       " ('Area_City_Type_Tier 2', 48.80777262287293)]"
      ]
     },
     "execution_count": 93,
     "metadata": {},
     "output_type": "execute_result"
    }
   ],
   "source": [
    "list(zip(x_train.columns,ridge.coef_))"
   ]
  },
  {
   "cell_type": "code",
   "execution_count": 94,
   "metadata": {},
   "outputs": [],
   "source": [
    "predictors = x_train.columns"
   ]
  },
  {
   "cell_type": "code",
   "execution_count": 95,
   "metadata": {},
   "outputs": [],
   "source": [
    "coef = pd.Series(ridge.coef_,predictors).sort_values()"
   ]
  },
  {
   "cell_type": "code",
   "execution_count": 96,
   "metadata": {},
   "outputs": [
    {
     "data": {
      "text/plain": [
       "Area_Type_MidTownResidential       -1541.454139\n",
       "Availability_rating                  -92.518388\n",
       "Medicine_Type_Antipyretics           -52.489506\n",
       "Medicine_Type_Antacids               -46.002031\n",
       "Medicine_Type_Antifungal             -43.357427\n",
       "Medicine_Type_OralContraceptives     -39.505268\n",
       "Medicine_Type_Tranquilizers          -38.858578\n",
       "Medicine_Type_Antiseptics            -36.330198\n",
       "Medicine_Type_Hreplacements          -21.464360\n",
       "Medicine_Type_Mstablizers            -18.059767\n",
       "Medicine_Type_Analgesics             -15.807055\n",
       "Area_City_Type_Tier 3                -11.035169\n",
       "Medicine_Type_Cardiac                 -6.942141\n",
       "Medicine_Type_Antimalarial            -6.863755\n",
       "Medicine_Type_Statins                 -5.814351\n",
       "Counterfeit_Weight                    -3.758380\n",
       "Medicine_Type_Antibiotics              2.447989\n",
       "Medicine_Type_MuscleRelaxants          9.111793\n",
       "Medicine_MRP                          15.443568\n",
       "Area_City_Type_Tier 2                 48.807773\n",
       "Medicine_Type_Stimulants              81.417918\n",
       "Area_Type_DownTown                   261.440811\n",
       "Area_Type_CityLimits                1525.400713\n",
       "dtype: float64"
      ]
     },
     "execution_count": 96,
     "metadata": {},
     "output_type": "execute_result"
    }
   ],
   "source": [
    "coef"
   ]
  },
  {
   "cell_type": "code",
   "execution_count": 97,
   "metadata": {},
   "outputs": [
    {
     "data": {
      "text/plain": [
       "<matplotlib.axes._subplots.AxesSubplot at 0x218ee6549c8>"
      ]
     },
     "execution_count": 97,
     "metadata": {},
     "output_type": "execute_result"
    },
    {
     "data": {
      "image/png": "[encoded data removed]",
      "text/plain": [
       "<Figure size 432x288 with 1 Axes>"
      ]
     },
     "metadata": {
      "needs_background": "light"
     },
     "output_type": "display_data"
    }
   ],
   "source": [
    "coef.plot(kind='bar', title='Model Coefficients')"
   ]
  },
  {
   "cell_type": "markdown",
   "metadata": {},
   "source": [
    "# LASSO\n"
   ]
  },
  {
   "cell_type": "code",
   "execution_count": 99,
   "metadata": {},
   "outputs": [
    {
     "data": {
      "text/plain": [
       "array([ 0.1       ,  0.14974874,  0.19949749,  0.24924623,  0.29899497,\n",
       "        0.34874372,  0.39849246,  0.44824121,  0.49798995,  0.54773869,\n",
       "        0.59748744,  0.64723618,  0.69698492,  0.74673367,  0.79648241,\n",
       "        0.84623116,  0.8959799 ,  0.94572864,  0.99547739,  1.04522613,\n",
       "        1.09497487,  1.14472362,  1.19447236,  1.24422111,  1.29396985,\n",
       "        1.34371859,  1.39346734,  1.44321608,  1.49296482,  1.54271357,\n",
       "        1.59246231,  1.64221106,  1.6919598 ,  1.74170854,  1.79145729,\n",
       "        1.84120603,  1.89095477,  1.94070352,  1.99045226,  2.04020101,\n",
       "        2.08994975,  2.13969849,  2.18944724,  2.23919598,  2.28894472,\n",
       "        2.33869347,  2.38844221,  2.43819095,  2.4879397 ,  2.53768844,\n",
       "        2.58743719,  2.63718593,  2.68693467,  2.73668342,  2.78643216,\n",
       "        2.8361809 ,  2.88592965,  2.93567839,  2.98542714,  3.03517588,\n",
       "        3.08492462,  3.13467337,  3.18442211,  3.23417085,  3.2839196 ,\n",
       "        3.33366834,  3.38341709,  3.43316583,  3.48291457,  3.53266332,\n",
       "        3.58241206,  3.6321608 ,  3.68190955,  3.73165829,  3.78140704,\n",
       "        3.83115578,  3.88090452,  3.93065327,  3.98040201,  4.03015075,\n",
       "        4.0798995 ,  4.12964824,  4.17939698,  4.22914573,  4.27889447,\n",
       "        4.32864322,  4.37839196,  4.4281407 ,  4.47788945,  4.52763819,\n",
       "        4.57738693,  4.62713568,  4.67688442,  4.72663317,  4.77638191,\n",
       "        4.82613065,  4.8758794 ,  4.92562814,  4.97537688,  5.02512563,\n",
       "        5.07487437,  5.12462312,  5.17437186,  5.2241206 ,  5.27386935,\n",
       "        5.32361809,  5.37336683,  5.42311558,  5.47286432,  5.52261307,\n",
       "        5.57236181,  5.62211055,  5.6718593 ,  5.72160804,  5.77135678,\n",
       "        5.82110553,  5.87085427,  5.92060302,  5.97035176,  6.0201005 ,\n",
       "        6.06984925,  6.11959799,  6.16934673,  6.21909548,  6.26884422,\n",
       "        6.31859296,  6.36834171,  6.41809045,  6.4678392 ,  6.51758794,\n",
       "        6.56733668,  6.61708543,  6.66683417,  6.71658291,  6.76633166,\n",
       "        6.8160804 ,  6.86582915,  6.91557789,  6.96532663,  7.01507538,\n",
       "        7.06482412,  7.11457286,  7.16432161,  7.21407035,  7.2638191 ,\n",
       "        7.31356784,  7.36331658,  7.41306533,  7.46281407,  7.51256281,\n",
       "        7.56231156,  7.6120603 ,  7.66180905,  7.71155779,  7.76130653,\n",
       "        7.81105528,  7.86080402,  7.91055276,  7.96030151,  8.01005025,\n",
       "        8.05979899,  8.10954774,  8.15929648,  8.20904523,  8.25879397,\n",
       "        8.30854271,  8.35829146,  8.4080402 ,  8.45778894,  8.50753769,\n",
       "        8.55728643,  8.60703518,  8.65678392,  8.70653266,  8.75628141,\n",
       "        8.80603015,  8.85577889,  8.90552764,  8.95527638,  9.00502513,\n",
       "        9.05477387,  9.10452261,  9.15427136,  9.2040201 ,  9.25376884,\n",
       "        9.30351759,  9.35326633,  9.40301508,  9.45276382,  9.50251256,\n",
       "        9.55226131,  9.60201005,  9.65175879,  9.70150754,  9.75125628,\n",
       "        9.80100503,  9.85075377,  9.90050251,  9.95025126, 10.        ])"
      ]
     },
     "execution_count": 99,
     "metadata": {},
     "output_type": "execute_result"
    }
   ],
   "source": [
    "lambdas=np.linspace(0.1,10,200)\n",
    "lambdas"
   ]
  },
  {
   "cell_type": "code",
   "execution_count": 100,
   "metadata": {},
   "outputs": [],
   "source": [
    "params={'alpha':lambdas}"
   ]
  },
  {
   "cell_type": "code",
   "execution_count": 101,
   "metadata": {},
   "outputs": [],
   "source": [
    "model = Lasso(fit_intercept=True)"
   ]
  },
  {
   "cell_type": "code",
   "execution_count": 102,
   "metadata": {},
   "outputs": [],
   "source": [
    "grid_search = GridSearchCV(model,param_grid=params,cv=10,scoring='neg_mean_absolute_error')"
   ]
  },
  {
   "cell_type": "code",
   "execution_count": 104,
   "metadata": {},
   "outputs": [],
   "source": [
    "lasso=grid_search.best_estimator_"
   ]
  },
  {
   "cell_type": "code",
   "execution_count": 105,
   "metadata": {},
   "outputs": [
    {
     "data": {
      "text/plain": [
       "Lasso(alpha=8.756281407035177, copy_X=True, fit_intercept=True, max_iter=1000,\n",
       "      normalize=False, positive=False, precompute=False, random_state=None,\n",
       "      selection='cyclic', tol=0.0001, warm_start=False)"
      ]
     },
     "execution_count": 105,
     "metadata": {},
     "output_type": "execute_result"
    }
   ],
   "source": [
    "lasso"
   ]
  },
  {
   "cell_type": "code",
   "execution_count": 107,
   "metadata": {},
   "outputs": [
    {
     "data": {
      "text/plain": [
       "Lasso(alpha=8.756281407035177, copy_X=True, fit_intercept=True, max_iter=1000,\n",
       "      normalize=False, positive=False, precompute=False, random_state=None,\n",
       "      selection='cyclic', tol=0.0001, warm_start=False)"
      ]
     },
     "execution_count": 107,
     "metadata": {},
     "output_type": "execute_result"
    }
   ],
   "source": [
    "lasso.fit(x_train,y_train)"
   ]
  },
  {
   "cell_type": "code",
   "execution_count": 111,
   "metadata": {},
   "outputs": [],
   "source": [
    "y_pred_lasso = lasso.predict(x_test)"
   ]
  },
  {
   "cell_type": "code",
   "execution_count": 112,
   "metadata": {},
   "outputs": [
    {
     "data": {
      "text/plain": [
       "array([2955.93902039, 1669.69858086, 3261.77889654, ...,  835.27068228,\n",
       "       2329.82027888,  862.39310534])"
      ]
     },
     "execution_count": 112,
     "metadata": {},
     "output_type": "execute_result"
    }
   ],
   "source": [
    "y_pred_lasso"
   ]
  },
  {
   "cell_type": "code",
   "execution_count": 113,
   "metadata": {},
   "outputs": [],
   "source": [
    "y_pred_lasso = pd.DataFrame(y_pred_lasso)"
   ]
  },
  {
   "cell_type": "code",
   "execution_count": 126,
   "metadata": {},
   "outputs": [
    {
     "data": {
      "text/plain": [
       "794.8996064013947"
      ]
     },
     "execution_count": 126,
     "metadata": {},
     "output_type": "execute_result"
    }
   ],
   "source": [
    "mean_absolute_error(y_pred_lasso,y_test)"
   ]
  },
  {
   "cell_type": "code",
   "execution_count": 114,
   "metadata": {},
   "outputs": [],
   "source": [
    "with pd.ExcelWriter('test_predict_lasso.xlsx') as writer:\n",
    "    y_pred_lasso.to_excel(writer,\"Sheet1\",index=False)\n",
    "    y_pred_lasso.to_excel(writer,\"Sheet2\")"
   ]
  },
  {
   "cell_type": "code",
   "execution_count": 117,
   "metadata": {},
   "outputs": [],
   "source": [
    "final_pred_lasso = lasso.predict(dataset_test)"
   ]
  },
  {
   "cell_type": "code",
   "execution_count": 118,
   "metadata": {},
   "outputs": [
    {
     "data": {
      "text/plain": [
       "array([2680.57896473, 4054.87590271, 1622.40992166, ..., 2883.85522592,\n",
       "       3948.78583832, 3789.1938145 ])"
      ]
     },
     "execution_count": 118,
     "metadata": {},
     "output_type": "execute_result"
    }
   ],
   "source": [
    "final_pred_lasso"
   ]
  },
  {
   "cell_type": "code",
   "execution_count": 119,
   "metadata": {},
   "outputs": [],
   "source": [
    "final_pred_lasso = pd.DataFrame(final_pred_lasso)"
   ]
  },
  {
   "cell_type": "code",
   "execution_count": 120,
   "metadata": {},
   "outputs": [],
   "source": [
    "with pd.ExcelWriter('test_predict_lasso_final.xlsx') as writer:\n",
    "    final_pred_lasso.to_excel(writer,\"Sheet1\",index=False)\n",
    "    final_pred_lasso.to_excel(writer,\"Sheet2\")"
   ]
  },
  {
   "cell_type": "code",
   "execution_count": 121,
   "metadata": {},
   "outputs": [
    {
     "data": {
      "text/plain": [
       "[('Counterfeit_Weight', -3.3220847894464454),\n",
       " ('Medicine_MRP', 15.428408058538738),\n",
       " ('Availability_rating', -0.0),\n",
       " ('Medicine_Type_Antibiotics', 0.0),\n",
       " ('Medicine_Type_Hreplacements', -0.0),\n",
       " ('Medicine_Type_Antiseptics', -0.0),\n",
       " ('Medicine_Type_OralContraceptives', -0.0),\n",
       " ('Medicine_Type_Antipyretics', -0.0),\n",
       " ('Medicine_Type_Cardiac', 0.0),\n",
       " ('Medicine_Type_Mstablizers', 0.0),\n",
       " ('Medicine_Type_Tranquilizers', -0.0),\n",
       " ('Medicine_Type_Analgesics', 0.0),\n",
       " ('Medicine_Type_Antimalarial', 0.0),\n",
       " ('Medicine_Type_Antacids', -0.0),\n",
       " ('Medicine_Type_Statins', 0.0),\n",
       " ('Medicine_Type_MuscleRelaxants', 0.0),\n",
       " ('Medicine_Type_Antifungal', -0.0),\n",
       " ('Medicine_Type_Stimulants', 0.0),\n",
       " ('Area_Type_DownTown', 201.1687519354141),\n",
       " ('Area_Type_MidTownResidential', -1649.4631292360948),\n",
       " ('Area_Type_CityLimits', 1511.6282873949178),\n",
       " ('Area_City_Type_Tier 3', -19.489321872331054),\n",
       " ('Area_City_Type_Tier 2', 15.197816439176323)]"
      ]
     },
     "execution_count": 121,
     "metadata": {},
     "output_type": "execute_result"
    }
   ],
   "source": [
    "list(zip(x_train.columns,lasso.coef_))"
   ]
  },
  {
   "cell_type": "code",
   "execution_count": 122,
   "metadata": {},
   "outputs": [],
   "source": [
    "predictors = x_train.columns"
   ]
  },
  {
   "cell_type": "code",
   "execution_count": 123,
   "metadata": {},
   "outputs": [],
   "source": [
    "coef = pd.Series(lasso.coef_,predictors).sort_values()"
   ]
  },
  {
   "cell_type": "code",
   "execution_count": 124,
   "metadata": {},
   "outputs": [
    {
     "data": {
      "text/plain": [
       "Area_Type_MidTownResidential       -1649.463129\n",
       "Area_City_Type_Tier 3                -19.489322\n",
       "Counterfeit_Weight                    -3.322085\n",
       "Medicine_Type_Stimulants               0.000000\n",
       "Medicine_Type_Antifungal              -0.000000\n",
       "Medicine_Type_MuscleRelaxants          0.000000\n",
       "Medicine_Type_Statins                  0.000000\n",
       "Medicine_Type_Antacids                -0.000000\n",
       "Medicine_Type_Antimalarial             0.000000\n",
       "Medicine_Type_Tranquilizers           -0.000000\n",
       "Medicine_Type_Analgesics               0.000000\n",
       "Medicine_Type_Cardiac                  0.000000\n",
       "Medicine_Type_Antipyretics            -0.000000\n",
       "Medicine_Type_OralContraceptives      -0.000000\n",
       "Medicine_Type_Antiseptics             -0.000000\n",
       "Medicine_Type_Hreplacements           -0.000000\n",
       "Medicine_Type_Antibiotics              0.000000\n",
       "Availability_rating                   -0.000000\n",
       "Medicine_Type_Mstablizers              0.000000\n",
       "Area_City_Type_Tier 2                 15.197816\n",
       "Medicine_MRP                          15.428408\n",
       "Area_Type_DownTown                   201.168752\n",
       "Area_Type_CityLimits                1511.628287\n",
       "dtype: float64"
      ]
     },
     "execution_count": 124,
     "metadata": {},
     "output_type": "execute_result"
    }
   ],
   "source": [
    "coef"
   ]
  },
  {
   "cell_type": "code",
   "execution_count": 125,
   "metadata": {},
   "outputs": [
    {
     "data": {
      "text/plain": [
       "<matplotlib.axes._subplots.AxesSubplot at 0x218ee23c788>"
      ]
     },
     "execution_count": 125,
     "metadata": {},
     "output_type": "execute_result"
    },
    {
     "data": {
      "image/png": "[encoded data removed]",
      "text/plain": [
       "<Figure size 432x288 with 1 Axes>"
      ]
     },
     "metadata": {
      "needs_background": "light"
     },
     "output_type": "display_data"
    }
   ],
   "source": [
    "coef.plot(kind='bar', title='Model Coefficients')"
   ]
  },
  {
   "cell_type": "markdown",
   "metadata": {},
   "source": [
    "# ElasticNet\n"
   ]
  },
  {
   "cell_type": "code",
   "execution_count": 129,
   "metadata": {},
   "outputs": [],
   "source": [
    "from sklearn.linear_model import ElasticNet"
   ]
  },
  {
   "cell_type": "code",
   "execution_count": 127,
   "metadata": {
    "scrolled": true
   },
   "outputs": [
    {
     "data": {
      "text/plain": [
       "array([ 0.1       ,  0.14974874,  0.19949749,  0.24924623,  0.29899497,\n",
       "        0.34874372,  0.39849246,  0.44824121,  0.49798995,  0.54773869,\n",
       "        0.59748744,  0.64723618,  0.69698492,  0.74673367,  0.79648241,\n",
       "        0.84623116,  0.8959799 ,  0.94572864,  0.99547739,  1.04522613,\n",
       "        1.09497487,  1.14472362,  1.19447236,  1.24422111,  1.29396985,\n",
       "        1.34371859,  1.39346734,  1.44321608,  1.49296482,  1.54271357,\n",
       "        1.59246231,  1.64221106,  1.6919598 ,  1.74170854,  1.79145729,\n",
       "        1.84120603,  1.89095477,  1.94070352,  1.99045226,  2.04020101,\n",
       "        2.08994975,  2.13969849,  2.18944724,  2.23919598,  2.28894472,\n",
       "        2.33869347,  2.38844221,  2.43819095,  2.4879397 ,  2.53768844,\n",
       "        2.58743719,  2.63718593,  2.68693467,  2.73668342,  2.78643216,\n",
       "        2.8361809 ,  2.88592965,  2.93567839,  2.98542714,  3.03517588,\n",
       "        3.08492462,  3.13467337,  3.18442211,  3.23417085,  3.2839196 ,\n",
       "        3.33366834,  3.38341709,  3.43316583,  3.48291457,  3.53266332,\n",
       "        3.58241206,  3.6321608 ,  3.68190955,  3.73165829,  3.78140704,\n",
       "        3.83115578,  3.88090452,  3.93065327,  3.98040201,  4.03015075,\n",
       "        4.0798995 ,  4.12964824,  4.17939698,  4.22914573,  4.27889447,\n",
       "        4.32864322,  4.37839196,  4.4281407 ,  4.47788945,  4.52763819,\n",
       "        4.57738693,  4.62713568,  4.67688442,  4.72663317,  4.77638191,\n",
       "        4.82613065,  4.8758794 ,  4.92562814,  4.97537688,  5.02512563,\n",
       "        5.07487437,  5.12462312,  5.17437186,  5.2241206 ,  5.27386935,\n",
       "        5.32361809,  5.37336683,  5.42311558,  5.47286432,  5.52261307,\n",
       "        5.57236181,  5.62211055,  5.6718593 ,  5.72160804,  5.77135678,\n",
       "        5.82110553,  5.87085427,  5.92060302,  5.97035176,  6.0201005 ,\n",
       "        6.06984925,  6.11959799,  6.16934673,  6.21909548,  6.26884422,\n",
       "        6.31859296,  6.36834171,  6.41809045,  6.4678392 ,  6.51758794,\n",
       "        6.56733668,  6.61708543,  6.66683417,  6.71658291,  6.76633166,\n",
       "        6.8160804 ,  6.86582915,  6.91557789,  6.96532663,  7.01507538,\n",
       "        7.06482412,  7.11457286,  7.16432161,  7.21407035,  7.2638191 ,\n",
       "        7.31356784,  7.36331658,  7.41306533,  7.46281407,  7.51256281,\n",
       "        7.56231156,  7.6120603 ,  7.66180905,  7.71155779,  7.76130653,\n",
       "        7.81105528,  7.86080402,  7.91055276,  7.96030151,  8.01005025,\n",
       "        8.05979899,  8.10954774,  8.15929648,  8.20904523,  8.25879397,\n",
       "        8.30854271,  8.35829146,  8.4080402 ,  8.45778894,  8.50753769,\n",
       "        8.55728643,  8.60703518,  8.65678392,  8.70653266,  8.75628141,\n",
       "        8.80603015,  8.85577889,  8.90552764,  8.95527638,  9.00502513,\n",
       "        9.05477387,  9.10452261,  9.15427136,  9.2040201 ,  9.25376884,\n",
       "        9.30351759,  9.35326633,  9.40301508,  9.45276382,  9.50251256,\n",
       "        9.55226131,  9.60201005,  9.65175879,  9.70150754,  9.75125628,\n",
       "        9.80100503,  9.85075377,  9.90050251,  9.95025126, 10.        ])"
      ]
     },
     "execution_count": 127,
     "metadata": {},
     "output_type": "execute_result"
    }
   ],
   "source": [
    "lambdas=np.linspace(0.1,10,200)\n",
    "lambdas"
   ]
  },
  {
   "cell_type": "code",
   "execution_count": 131,
   "metadata": {},
   "outputs": [],
   "source": [
    "model=ElasticNet(fit_intercept=True)\n",
    "params={'alpha':lambdas}"
   ]
  },
  {
   "cell_type": "code",
   "execution_count": 132,
   "metadata": {},
   "outputs": [],
   "source": [
    "grid_search=GridSearchCV(model,param_grid=params,cv=10,scoring='neg_mean_absolute_error')"
   ]
  },
  {
   "cell_type": "code",
   "execution_count": 136,
   "metadata": {},
   "outputs": [
    {
     "data": {
      "text/plain": [
       "GridSearchCV(cv=10, error_score='raise-deprecating',\n",
       "             estimator=ElasticNet(alpha=1.0, copy_X=True, fit_intercept=True,\n",
       "                                  l1_ratio=0.5, max_iter=1000, normalize=False,\n",
       "                                  positive=False, precompute=False,\n",
       "                                  random_state=None, selection='cyclic',\n",
       "                                  tol=0.0001, warm_start=False),\n",
       "             iid='warn', n_jobs=None,\n",
       "             param_grid={'alpha': array([ 0.1       ,  0.14974874,  0.19949749,  0.24924623,  0.2989949...\n",
       "        8.80603015,  8.85577889,  8.90552764,  8.95527638,  9.00502513,\n",
       "        9.05477387,  9.10452261,  9.15427136,  9.2040201 ,  9.25376884,\n",
       "        9.30351759,  9.35326633,  9.40301508,  9.45276382,  9.50251256,\n",
       "        9.55226131,  9.60201005,  9.65175879,  9.70150754,  9.75125628,\n",
       "        9.80100503,  9.85075377,  9.90050251,  9.95025126, 10.        ])},\n",
       "             pre_dispatch='2*n_jobs', refit=True, return_train_score=False,\n",
       "             scoring='neg_mean_absolute_error', verbose=0)"
      ]
     },
     "execution_count": 136,
     "metadata": {},
     "output_type": "execute_result"
    }
   ],
   "source": [
    "grid_search"
   ]
  }
 ],
 "metadata": {
  "kernelspec": {
   "display_name": "Python 3",
   "language": "python",
   "name": "python3"
  },
  "language_info": {
   "codemirror_mode": {
    "name": "ipython",
    "version": 3
   },
   "file_extension": ".py",
   "mimetype": "text/x-python",
   "name": "python",
   "nbconvert_exporter": "python",
   "pygments_lexer": "ipython3",
   "version": "3.7.4"
  }
 },
 "nbformat": 4,
 "nbformat_minor": 2
}
