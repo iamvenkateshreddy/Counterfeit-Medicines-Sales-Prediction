{
 "cells": [
  {
   "cell_type": "code",
   "execution_count": 1,
   "metadata": {},
   "outputs": [],
   "source": [
    "import numpy as np\n",
    "import pandas as pd\n",
    "import matplotlib.pyplot as plt\n",
    "import seaborn as sns\n",
    "import warnings\n",
    "warnings.filterwarnings('ignore')"
   ]
  },
  {
   "cell_type": "code",
   "execution_count": 2,
   "metadata": {},
   "outputs": [],
   "source": [
    "file = r'D:\\DS_and_AI\\ML_Python\\Project\\Project_3\\counterfeit_train.csv'\n",
    "dataset = pd.read_csv(file)"
   ]
  },
  {
   "cell_type": "code",
   "execution_count": 3,
   "metadata": {},
   "outputs": [
    {
     "data": {
      "text/html": [
       "<div>\n",
       "<style scoped>\n",
       "    .dataframe tbody tr th:only-of-type {\n",
       "        vertical-align: middle;\n",
       "    }\n",
       "\n",
       "    .dataframe tbody tr th {\n",
       "        vertical-align: top;\n",
       "    }\n",
       "\n",
       "    .dataframe thead th {\n",
       "        text-align: right;\n",
       "    }\n",
       "</style>\n",
       "<table border=\"1\" class=\"dataframe\">\n",
       "  <thead>\n",
       "    <tr style=\"text-align: right;\">\n",
       "      <th></th>\n",
       "      <th>Medicine_ID</th>\n",
       "      <th>Counterfeit_Weight</th>\n",
       "      <th>DistArea_ID</th>\n",
       "      <th>Active_Since</th>\n",
       "      <th>Medicine_MRP</th>\n",
       "      <th>Medicine_Type</th>\n",
       "      <th>SidEffect_Level</th>\n",
       "      <th>Availability_rating</th>\n",
       "      <th>Area_Type</th>\n",
       "      <th>Area_City_Type</th>\n",
       "      <th>Area_dist_level</th>\n",
       "      <th>Counterfeit_Sales</th>\n",
       "    </tr>\n",
       "  </thead>\n",
       "  <tbody>\n",
       "    <tr>\n",
       "      <td>0</td>\n",
       "      <td>RRA15</td>\n",
       "      <td>13.100</td>\n",
       "      <td>Area046</td>\n",
       "      <td>1995</td>\n",
       "      <td>160.2366</td>\n",
       "      <td>Antimalarial</td>\n",
       "      <td>critical</td>\n",
       "      <td>0.070422</td>\n",
       "      <td>DownTown</td>\n",
       "      <td>Tier 1</td>\n",
       "      <td>Small</td>\n",
       "      <td>1775.5026</td>\n",
       "    </tr>\n",
       "    <tr>\n",
       "      <td>1</td>\n",
       "      <td>YVV26</td>\n",
       "      <td>NaN</td>\n",
       "      <td>Area027</td>\n",
       "      <td>1983</td>\n",
       "      <td>110.4384</td>\n",
       "      <td>Mstablizers</td>\n",
       "      <td>mild</td>\n",
       "      <td>0.013000</td>\n",
       "      <td>CityLimits</td>\n",
       "      <td>Tier 3</td>\n",
       "      <td>Medium</td>\n",
       "      <td>3069.1520</td>\n",
       "    </tr>\n",
       "    <tr>\n",
       "      <td>2</td>\n",
       "      <td>LJC15</td>\n",
       "      <td>9.025</td>\n",
       "      <td>Area046</td>\n",
       "      <td>1995</td>\n",
       "      <td>259.4092</td>\n",
       "      <td>Cardiac</td>\n",
       "      <td>mild</td>\n",
       "      <td>0.060783</td>\n",
       "      <td>DownTown</td>\n",
       "      <td>Tier 1</td>\n",
       "      <td>Small</td>\n",
       "      <td>2603.0920</td>\n",
       "    </tr>\n",
       "    <tr>\n",
       "      <td>3</td>\n",
       "      <td>GWC40</td>\n",
       "      <td>11.800</td>\n",
       "      <td>Area046</td>\n",
       "      <td>1995</td>\n",
       "      <td>99.9830</td>\n",
       "      <td>OralContraceptives</td>\n",
       "      <td>mild</td>\n",
       "      <td>0.065555</td>\n",
       "      <td>DownTown</td>\n",
       "      <td>Tier 1</td>\n",
       "      <td>Small</td>\n",
       "      <td>1101.7130</td>\n",
       "    </tr>\n",
       "    <tr>\n",
       "      <td>4</td>\n",
       "      <td>QMN13</td>\n",
       "      <td>NaN</td>\n",
       "      <td>Area019</td>\n",
       "      <td>1983</td>\n",
       "      <td>56.4402</td>\n",
       "      <td>Hreplacements</td>\n",
       "      <td>critical</td>\n",
       "      <td>0.248859</td>\n",
       "      <td>MidTownResidential</td>\n",
       "      <td>Tier 1</td>\n",
       "      <td>Small</td>\n",
       "      <td>158.9402</td>\n",
       "    </tr>\n",
       "  </tbody>\n",
       "</table>\n",
       "</div>"
      ],
      "text/plain": [
       "  Medicine_ID  Counterfeit_Weight DistArea_ID  Active_Since  Medicine_MRP  \\\n",
       "0       RRA15              13.100     Area046          1995      160.2366   \n",
       "1       YVV26                 NaN     Area027          1983      110.4384   \n",
       "2       LJC15               9.025     Area046          1995      259.4092   \n",
       "3       GWC40              11.800     Area046          1995       99.9830   \n",
       "4       QMN13                 NaN     Area019          1983       56.4402   \n",
       "\n",
       "        Medicine_Type SidEffect_Level  Availability_rating  \\\n",
       "0        Antimalarial        critical             0.070422   \n",
       "1         Mstablizers            mild             0.013000   \n",
       "2             Cardiac            mild             0.060783   \n",
       "3  OralContraceptives            mild             0.065555   \n",
       "4       Hreplacements        critical             0.248859   \n",
       "\n",
       "            Area_Type Area_City_Type Area_dist_level  Counterfeit_Sales  \n",
       "0            DownTown         Tier 1           Small          1775.5026  \n",
       "1          CityLimits         Tier 3          Medium          3069.1520  \n",
       "2            DownTown         Tier 1           Small          2603.0920  \n",
       "3            DownTown         Tier 1           Small          1101.7130  \n",
       "4  MidTownResidential         Tier 1           Small           158.9402  "
      ]
     },
     "execution_count": 3,
     "metadata": {},
     "output_type": "execute_result"
    }
   ],
   "source": [
    "dataset.head()"
   ]
  },
  {
   "cell_type": "code",
   "execution_count": 4,
   "metadata": {},
   "outputs": [
    {
     "data": {
      "text/plain": [
       "Medicine_ID               0\n",
       "Counterfeit_Weight     1166\n",
       "DistArea_ID               0\n",
       "Active_Since              0\n",
       "Medicine_MRP              0\n",
       "Medicine_Type             0\n",
       "SidEffect_Level           0\n",
       "Availability_rating       0\n",
       "Area_Type                 0\n",
       "Area_City_Type            0\n",
       "Area_dist_level           0\n",
       "Counterfeit_Sales         0\n",
       "dtype: int64"
      ]
     },
     "execution_count": 4,
     "metadata": {},
     "output_type": "execute_result"
    }
   ],
   "source": [
    "dataset.isnull().sum()"
   ]
  },
  {
   "cell_type": "code",
   "execution_count": 5,
   "metadata": {},
   "outputs": [
    {
     "data": {
      "text/html": [
       "<div>\n",
       "<style scoped>\n",
       "    .dataframe tbody tr th:only-of-type {\n",
       "        vertical-align: middle;\n",
       "    }\n",
       "\n",
       "    .dataframe tbody tr th {\n",
       "        vertical-align: top;\n",
       "    }\n",
       "\n",
       "    .dataframe thead th {\n",
       "        text-align: right;\n",
       "    }\n",
       "</style>\n",
       "<table border=\"1\" class=\"dataframe\">\n",
       "  <thead>\n",
       "    <tr style=\"text-align: right;\">\n",
       "      <th></th>\n",
       "      <th>Counterfeit_Weight</th>\n",
       "      <th>Active_Since</th>\n",
       "      <th>Medicine_MRP</th>\n",
       "      <th>Availability_rating</th>\n",
       "      <th>Counterfeit_Sales</th>\n",
       "    </tr>\n",
       "  </thead>\n",
       "  <tbody>\n",
       "    <tr>\n",
       "      <td>count</td>\n",
       "      <td>5652.000000</td>\n",
       "      <td>6818.000000</td>\n",
       "      <td>6818.000000</td>\n",
       "      <td>6818.000000</td>\n",
       "      <td>6818.000000</td>\n",
       "    </tr>\n",
       "    <tr>\n",
       "      <td>mean</td>\n",
       "      <td>14.115057</td>\n",
       "      <td>1995.836316</td>\n",
       "      <td>151.401518</td>\n",
       "      <td>0.079174</td>\n",
       "      <td>2280.583480</td>\n",
       "    </tr>\n",
       "    <tr>\n",
       "      <td>std</td>\n",
       "      <td>4.649668</td>\n",
       "      <td>8.368979</td>\n",
       "      <td>62.203961</td>\n",
       "      <td>0.051481</td>\n",
       "      <td>1693.354404</td>\n",
       "    </tr>\n",
       "    <tr>\n",
       "      <td>min</td>\n",
       "      <td>5.855000</td>\n",
       "      <td>1983.000000</td>\n",
       "      <td>41.790000</td>\n",
       "      <td>0.013000</td>\n",
       "      <td>146.290000</td>\n",
       "    </tr>\n",
       "    <tr>\n",
       "      <td>25%</td>\n",
       "      <td>9.995000</td>\n",
       "      <td>1985.000000</td>\n",
       "      <td>104.509400</td>\n",
       "      <td>0.040058</td>\n",
       "      <td>933.265600</td>\n",
       "    </tr>\n",
       "    <tr>\n",
       "      <td>50%</td>\n",
       "      <td>13.800000</td>\n",
       "      <td>1997.000000</td>\n",
       "      <td>153.195700</td>\n",
       "      <td>0.066955</td>\n",
       "      <td>1902.670400</td>\n",
       "    </tr>\n",
       "    <tr>\n",
       "      <td>75%</td>\n",
       "      <td>18.050000</td>\n",
       "      <td>2002.000000</td>\n",
       "      <td>196.148350</td>\n",
       "      <td>0.107697</td>\n",
       "      <td>3207.638400</td>\n",
       "    </tr>\n",
       "    <tr>\n",
       "      <td>max</td>\n",
       "      <td>22.650000</td>\n",
       "      <td>2007.000000</td>\n",
       "      <td>277.188400</td>\n",
       "      <td>0.341391</td>\n",
       "      <td>13199.964800</td>\n",
       "    </tr>\n",
       "  </tbody>\n",
       "</table>\n",
       "</div>"
      ],
      "text/plain": [
       "       Counterfeit_Weight  Active_Since  Medicine_MRP  Availability_rating  \\\n",
       "count         5652.000000   6818.000000   6818.000000          6818.000000   \n",
       "mean            14.115057   1995.836316    151.401518             0.079174   \n",
       "std              4.649668      8.368979     62.203961             0.051481   \n",
       "min              5.855000   1983.000000     41.790000             0.013000   \n",
       "25%              9.995000   1985.000000    104.509400             0.040058   \n",
       "50%             13.800000   1997.000000    153.195700             0.066955   \n",
       "75%             18.050000   2002.000000    196.148350             0.107697   \n",
       "max             22.650000   2007.000000    277.188400             0.341391   \n",
       "\n",
       "       Counterfeit_Sales  \n",
       "count        6818.000000  \n",
       "mean         2280.583480  \n",
       "std          1693.354404  \n",
       "min           146.290000  \n",
       "25%           933.265600  \n",
       "50%          1902.670400  \n",
       "75%          3207.638400  \n",
       "max         13199.964800  "
      ]
     },
     "execution_count": 5,
     "metadata": {},
     "output_type": "execute_result"
    }
   ],
   "source": [
    "dataset.describe()"
   ]
  },
  {
   "cell_type": "code",
   "execution_count": 6,
   "metadata": {},
   "outputs": [
    {
     "name": "stdout",
     "output_type": "stream",
     "text": [
      "<class 'pandas.core.frame.DataFrame'>\n",
      "RangeIndex: 6818 entries, 0 to 6817\n",
      "Data columns (total 12 columns):\n",
      "Medicine_ID            6818 non-null object\n",
      "Counterfeit_Weight     5652 non-null float64\n",
      "DistArea_ID            6818 non-null object\n",
      "Active_Since           6818 non-null int64\n",
      "Medicine_MRP           6818 non-null float64\n",
      "Medicine_Type          6818 non-null object\n",
      "SidEffect_Level        6818 non-null object\n",
      "Availability_rating    6818 non-null float64\n",
      "Area_Type              6818 non-null object\n",
      "Area_City_Type         6818 non-null object\n",
      "Area_dist_level        6818 non-null object\n",
      "Counterfeit_Sales      6818 non-null float64\n",
      "dtypes: float64(4), int64(1), object(7)\n",
      "memory usage: 639.3+ KB\n"
     ]
    }
   ],
   "source": [
    "dataset.info()"
   ]
  },
  {
   "cell_type": "code",
   "execution_count": 7,
   "metadata": {},
   "outputs": [
    {
     "data": {
      "text/plain": [
       "16"
      ]
     },
     "execution_count": 7,
     "metadata": {},
     "output_type": "execute_result"
    }
   ],
   "source": [
    "dataset['Medicine_Type'].nunique()"
   ]
  },
  {
   "cell_type": "code",
   "execution_count": 8,
   "metadata": {},
   "outputs": [
    {
     "data": {
      "text/plain": [
       "0             Antimalarial\n",
       "1              Mstablizers\n",
       "2                  Cardiac\n",
       "3       OralContraceptives\n",
       "4            Hreplacements\n",
       "               ...        \n",
       "6813         Hreplacements\n",
       "6814         Hreplacements\n",
       "6815          Antimalarial\n",
       "6816               Statins\n",
       "6817           Mstablizers\n",
       "Name: Medicine_Type, Length: 6818, dtype: object"
      ]
     },
     "execution_count": 8,
     "metadata": {},
     "output_type": "execute_result"
    }
   ],
   "source": [
    "dataset['Medicine_Type']"
   ]
  },
  {
   "cell_type": "code",
   "execution_count": 9,
   "metadata": {},
   "outputs": [
    {
     "data": {
      "text/plain": [
       "Medicine_Type\n",
       "Analgesics            7.444819e+05\n",
       "Antacids              4.655350e+05\n",
       "Antibiotics           2.325286e+06\n",
       "Antifungal            2.712902e+05\n",
       "Antimalarial          7.433200e+05\n",
       "Antipyretics          1.228900e+06\n",
       "Antiseptics           1.713413e+06\n",
       "Antiviral             1.265748e+05\n",
       "Cardiac               1.233477e+06\n",
       "Hreplacements         2.319091e+06\n",
       "Mstablizers           1.051063e+06\n",
       "MuscleRelaxants       2.906618e+05\n",
       "OralContraceptives    1.558180e+06\n",
       "Statins               3.856775e+05\n",
       "Stimulants            2.165970e+05\n",
       "Tranquilizers         8.754689e+05\n",
       "Name: Counterfeit_Sales, dtype: float64"
      ]
     },
     "execution_count": 9,
     "metadata": {},
     "output_type": "execute_result"
    }
   ],
   "source": [
    "dataset.groupby('Medicine_Type')['Counterfeit_Sales'].sum()"
   ]
  },
  {
   "cell_type": "code",
   "execution_count": 14,
   "metadata": {},
   "outputs": [
    {
     "data": {
      "text/plain": [
       "Hreplacements         976\n",
       "Antibiotics           970\n",
       "Antiseptics           724\n",
       "OralContraceptives    694\n",
       "Antipyretics          536\n",
       "Cardiac               522\n",
       "Mstablizers           514\n",
       "Tranquilizers         420\n",
       "Analgesics            356\n",
       "Antimalarial          339\n",
       "Antacids              206\n",
       "Statins               167\n",
       "MuscleRelaxants       139\n",
       "Antifungal            111\n",
       "Stimulants             95\n",
       "Antiviral              49\n",
       "Name: Medicine_Type, dtype: int64"
      ]
     },
     "execution_count": 14,
     "metadata": {},
     "output_type": "execute_result"
    }
   ],
   "source": [
    "dataset['Medicine_Type'].value_counts()"
   ]
  },
  {
   "cell_type": "code",
   "execution_count": 13,
   "metadata": {},
   "outputs": [
    {
     "data": {
      "text/plain": [
       "Area_Type\n",
       "CityLimits            MstablizersAntibioticsAntimalarialAntipyretics...\n",
       "DownTown              AntimalarialCardiacOralContraceptivesAntisepti...\n",
       "Industrial            HreplacementsAnalgesicsCardiacMstablizersHrepl...\n",
       "MidTownResidential    HreplacementsMuscleRelaxantsAntibioticsAntimal...\n",
       "Name: Medicine_Type, dtype: object"
      ]
     },
     "execution_count": 13,
     "metadata": {},
     "output_type": "execute_result"
    }
   ],
   "source": [
    "dataset.groupby('Area_Type')['Medicine_Type'].sum()"
   ]
  },
  {
   "cell_type": "code",
   "execution_count": 10,
   "metadata": {},
   "outputs": [
    {
     "data": {
      "text/plain": [
       "5437      146.2900\n",
       "2943      146.2900\n",
       "5664      146.9558\n",
       "3803      147.6216\n",
       "4031      148.2874\n",
       "           ...    \n",
       "5769    10419.5840\n",
       "502     11106.6896\n",
       "5999    11558.1020\n",
       "2128    12230.5600\n",
       "2743    13199.9648\n",
       "Name: Counterfeit_Sales, Length: 6818, dtype: float64"
      ]
     },
     "execution_count": 10,
     "metadata": {},
     "output_type": "execute_result"
    }
   ],
   "source": [
    "dataset['Counterfeit_Sales'].sort_values()"
   ]
  },
  {
   "cell_type": "code",
   "execution_count": 20,
   "metadata": {},
   "outputs": [
    {
     "data": {
      "text/plain": [
       "820      41.7900\n",
       "4577     42.1900\n",
       "1132     42.2558\n",
       "4012     42.2558\n",
       "5177     42.3558\n",
       "          ...   \n",
       "1667    276.5884\n",
       "2665    276.8884\n",
       "3559    276.9884\n",
       "3827    276.9884\n",
       "6775    277.1884\n",
       "Name: Medicine_MRP, Length: 6818, dtype: float64"
      ]
     },
     "execution_count": 20,
     "metadata": {},
     "output_type": "execute_result"
    }
   ],
   "source": [
    "dataset['Medicine_MRP'].sort_values()"
   ]
  },
  {
   "cell_type": "code",
   "execution_count": 18,
   "metadata": {},
   "outputs": [
    {
     "data": {
      "text/plain": [
       "<matplotlib.axes._subplots.AxesSubplot at 0x19017446748>"
      ]
     },
     "execution_count": 18,
     "metadata": {},
     "output_type": "execute_result"
    },
    {
     "data": {
      "image/png": "[encoded data removed]",
      "text/plain": [
       "<Figure size 432x288 with 1 Axes>"
      ]
     },
     "metadata": {
      "needs_background": "light"
     },
     "output_type": "display_data"
    }
   ],
   "source": [
    "sns.boxplot(dataset['Medicine_MRP'])"
   ]
  },
  {
   "cell_type": "code",
   "execution_count": 21,
   "metadata": {},
   "outputs": [
    {
     "data": {
      "text/plain": [
       "<matplotlib.axes._subplots.AxesSubplot at 0x190189e2cc8>"
      ]
     },
     "execution_count": 21,
     "metadata": {},
     "output_type": "execute_result"
    },
    {
     "data": {
      "image/png": "[encoded data removed]",
      "text/plain": [
       "<Figure size 432x288 with 1 Axes>"
      ]
     },
     "metadata": {
      "needs_background": "light"
     },
     "output_type": "display_data"
    }
   ],
   "source": [
    "sns.boxplot(dataset['Counterfeit_Sales'])"
   ]
  },
  {
   "cell_type": "code",
   "execution_count": null,
   "metadata": {},
   "outputs": [],
   "source": [
    "dataset.drop(['Active_Since','Medicine_ID','DistArea_ID','SidEffect_Level','Area_dist_level'],axis=1,inplace=True)"
   ]
  },
  {
   "cell_type": "code",
   "execution_count": null,
   "metadata": {},
   "outputs": [],
   "source": [
    "dataset.isnull().sum()"
   ]
  },
  {
   "cell_type": "code",
   "execution_count": null,
   "metadata": {},
   "outputs": [],
   "source": [
    "dataset = dataset.fillna(dataset.mean())"
   ]
  },
  {
   "cell_type": "code",
   "execution_count": null,
   "metadata": {},
   "outputs": [],
   "source": [
    "dataset['Counterfeit_Weight'].isnull().sum()"
   ]
  },
  {
   "cell_type": "code",
   "execution_count": null,
   "metadata": {},
   "outputs": [],
   "source": [
    "dataset.describe()"
   ]
  },
  {
   "cell_type": "code",
   "execution_count": null,
   "metadata": {},
   "outputs": [],
   "source": [
    "dataset.info()"
   ]
  },
  {
   "cell_type": "code",
   "execution_count": null,
   "metadata": {},
   "outputs": [],
   "source": [
    "dataset.head()"
   ]
  },
  {
   "cell_type": "code",
   "execution_count": null,
   "metadata": {},
   "outputs": [],
   "source": [
    "dataset['Medicine_Type'].nunique()"
   ]
  },
  {
   "cell_type": "code",
   "execution_count": null,
   "metadata": {},
   "outputs": [],
   "source": [
    "dataset['Area_Type'].nunique()"
   ]
  },
  {
   "cell_type": "code",
   "execution_count": null,
   "metadata": {},
   "outputs": [],
   "source": [
    "dataset['Area_City_Type'].nunique()"
   ]
  },
  {
   "cell_type": "code",
   "execution_count": null,
   "metadata": {},
   "outputs": [],
   "source": [
    "dataset.head()"
   ]
  },
  {
   "cell_type": "code",
   "execution_count": null,
   "metadata": {},
   "outputs": [],
   "source": [
    "cat_col=['Medicine_Type' , 'Area_Type', 'Area_City_Type']\n",
    "\n",
    "for col in cat_col :\n",
    "    k=dataset[col].value_counts(dropna=False)\n",
    "    cats=k.index[k>10][:-1]\n",
    "    for cat in cats:\n",
    "            name=col+'_'+cat\n",
    "            dataset[name]=(dataset[col]==cat).astype(int)\n",
    "        \n",
    "del dataset[col]"
   ]
  },
  {
   "cell_type": "code",
   "execution_count": null,
   "metadata": {},
   "outputs": [],
   "source": [
    "dataset.head()"
   ]
  },
  {
   "cell_type": "code",
   "execution_count": null,
   "metadata": {},
   "outputs": [],
   "source": [
    "dataset.drop(['Medicine_Type' , 'Area_Type'],axis=1,inplace=True)"
   ]
  },
  {
   "cell_type": "code",
   "execution_count": null,
   "metadata": {},
   "outputs": [],
   "source": [
    "dataset.columns"
   ]
  },
  {
   "cell_type": "code",
   "execution_count": null,
   "metadata": {},
   "outputs": [],
   "source": [
    "dataset.info()"
   ]
  },
  {
   "cell_type": "code",
   "execution_count": null,
   "metadata": {},
   "outputs": [],
   "source": [
    "sns.heatmap(dataset.corr())"
   ]
  }
 ],
 "metadata": {
  "kernelspec": {
   "display_name": "Python 3",
   "language": "python",
   "name": "python3"
  },
  "language_info": {
   "codemirror_mode": {
    "name": "ipython",
    "version": 3
   },
   "file_extension": ".py",
   "mimetype": "text/x-python",
   "name": "python",
   "nbconvert_exporter": "python",
   "pygments_lexer": "ipython3",
   "version": "3.7.4"
  }
 },
 "nbformat": 4,
 "nbformat_minor": 2
}
