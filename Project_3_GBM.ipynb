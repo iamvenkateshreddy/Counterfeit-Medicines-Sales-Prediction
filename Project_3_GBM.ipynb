{
 "cells": [
  {
   "cell_type": "code",
   "execution_count": 1,
   "metadata": {},
   "outputs": [],
   "source": [
    "import numpy as np\n",
    "import pandas as pd\n",
    "import matplotlib.pyplot as plt\n",
    "import seaborn as sns\n",
    "import warnings\n",
    "warnings.filterwarnings('ignore')\n",
    "\n",
    "train_file = r'D:\\DS_and_AI\\ML_Python\\Project\\Project_3\\counterfeit_train.csv'\n",
    "test_file = r'D:\\DS_and_AI\\ML_Python\\Project\\Project_3\\counterfeit_test.csv'\n",
    "\n",
    "data_train = pd.read_csv(train_file)\n",
    "data_test = pd.read_csv(test_file)\n",
    "\n",
    "#adding Counterfeit_Sales column to test data\n",
    "data_test['Counterfeit_Sales'] = np.nan\n",
    "\n",
    "#adding data column to test and train columns\n",
    "data_test['data'] = 'test'\n",
    "data_train['data'] = 'train'\n",
    "\n",
    "#combining test and train data\n",
    "dataset = pd.concat([data_train,data_test])\n",
    "\n",
    "#dropping columns - Active_Since,Medicine_ID,DistArea_ID,SidEffect_Level,Area_dist_level\n",
    "dataset.drop(['Active_Since','Medicine_ID','DistArea_ID','SidEffect_Level','Area_dist_level'],axis=1,inplace=True)\n",
    "\n",
    "#filling NAs with mean\n",
    "dataset['Counterfeit_Weight'] = dataset.fillna(dataset.mean())\n",
    "\n",
    "#creating dummies\n",
    "cat_col=['Medicine_Type' , 'Area_Type', 'Area_City_Type']\n",
    "\n",
    "for col in cat_col :\n",
    "    k=dataset[col].value_counts(dropna=False)\n",
    "    cats=k.index[k>50][:-1]\n",
    "    for cat in cats:\n",
    "            name=col+'_'+cat\n",
    "            dataset[name]=(dataset[col]==cat).astype(int)\n",
    "        \n",
    "    del dataset[col]\n",
    "\n",
    "# converting datatype of Counterfeit_Weight - to numeric\n",
    "dataset['Counterfeit_Weight'] = pd.to_numeric(dataset['Counterfeit_Weight'],errors='coerce')\n",
    "\n",
    "#seperating  the training  and testing data after data preprocessing\n",
    "dataset_train = dataset.loc[dataset['data']=='train']\n",
    "dataset_test = dataset.loc[dataset['data']=='test']\n",
    "\n",
    "#dropping data column from test and train dataset\n",
    "dataset_train.drop(['data'],axis=1,inplace=True)\n",
    "dataset_test.drop(['data'],axis=1,inplace=True)\n",
    "\n",
    "#dropping dummy Counterfeit_Sales sales column from dataset_test\n",
    "dataset_test.drop(['Counterfeit_Sales'],axis=1,inplace=True)\n",
    "\n",
    "#splitting the data into test and train\n",
    "from sklearn.model_selection import train_test_split\n",
    "train,test = train_test_split(dataset_train,test_size=0.2,random_state=1)\n",
    "\n",
    "x_train = train.drop(['Counterfeit_Sales'],axis=1)\n",
    "y_train = train['Counterfeit_Sales']\n",
    "x_test = test.drop(['Counterfeit_Sales'],axis=1)\n",
    "y_test = test['Counterfeit_Sales']\n",
    "\n",
    "y_test = pd.DataFrame(y_test)\n",
    "\n",
    "#writing y_pred values to excel\n",
    "with pd.ExcelWriter('test_predict_original_2.xlsx') as writer:\n",
    "    y_test.to_excel(writer,\"Sheet1\",index=False)\n",
    "    y_test.to_excel(writer,\"Sheet2\")"
   ]
  },
  {
   "cell_type": "code",
   "execution_count": 8,
   "metadata": {},
   "outputs": [],
   "source": [
    "gbm_params={'n_estimators':[50,100,200],\n",
    "'learning_rate': [0.01,.05,0.1,0.4,0.8,1],\n",
    "'max_depth':[1,2,3,4,5,6],\n",
    "'subsample':[0.5,0.8,1],\n",
    "'max_features':[5,6,7,8]\n",
    "}"
   ]
  },
  {
   "cell_type": "code",
   "execution_count": 9,
   "metadata": {},
   "outputs": [
    {
     "data": {
      "text/plain": [
       "{'n_estimators': [50, 100, 200],\n",
       " 'learning_rate': [0.01, 0.05, 0.1, 0.4, 0.8, 1],\n",
       " 'max_depth': [1, 2, 3, 4, 5, 6],\n",
       " 'subsample': [0.5, 0.8, 1],\n",
       " 'max_features': [5, 6, 7, 8]}"
      ]
     },
     "execution_count": 9,
     "metadata": {},
     "output_type": "execute_result"
    }
   ],
   "source": [
    "gbm_params"
   ]
  },
  {
   "cell_type": "code",
   "execution_count": 4,
   "metadata": {},
   "outputs": [],
   "source": [
    "from sklearn.ensemble import GradientBoostingRegressor\n",
    "from sklearn.model_selection import RandomizedSearchCV"
   ]
  },
  {
   "cell_type": "code",
   "execution_count": 5,
   "metadata": {},
   "outputs": [],
   "source": [
    "model = GradientBoostingRegressor()"
   ]
  },
  {
   "cell_type": "code",
   "execution_count": 10,
   "metadata": {},
   "outputs": [],
   "source": [
    "random_search=RandomizedSearchCV(model,scoring='neg_mean_absolute_error',\n",
    "param_distributions=gbm_params,\n",
    "cv=10,n_iter=10,\n",
    "n_jobs=-1,verbose=False)"
   ]
  },
  {
   "cell_type": "code",
   "execution_count": 11,
   "metadata": {},
   "outputs": [
    {
     "data": {
      "text/plain": [
       "RandomizedSearchCV(cv=10, error_score='raise-deprecating',\n",
       "                   estimator=GradientBoostingRegressor(alpha=0.9,\n",
       "                                                       criterion='friedman_mse',\n",
       "                                                       init=None,\n",
       "                                                       learning_rate=0.1,\n",
       "                                                       loss='ls', max_depth=3,\n",
       "                                                       max_features=None,\n",
       "                                                       max_leaf_nodes=None,\n",
       "                                                       min_impurity_decrease=0.0,\n",
       "                                                       min_impurity_split=None,\n",
       "                                                       min_samples_leaf=1,\n",
       "                                                       min_samples_split=2,\n",
       "                                                       min_weight_fraction_leaf=0.0,\n",
       "                                                       n_estimators=100...\n",
       "                                                       verbose=0,\n",
       "                                                       warm_start=False),\n",
       "                   iid='warn', n_iter=10, n_jobs=-1,\n",
       "                   param_distributions={'learning_rate': [0.01, 0.05, 0.1, 0.4,\n",
       "                                                          0.8, 1],\n",
       "                                        'max_depth': [1, 2, 3, 4, 5, 6],\n",
       "                                        'max_features': [5, 6, 7, 8],\n",
       "                                        'n_estimators': [50, 100, 200],\n",
       "                                        'subsample': [0.5, 0.8, 1]},\n",
       "                   pre_dispatch='2*n_jobs', random_state=None, refit=True,\n",
       "                   return_train_score=False, scoring='neg_mean_absolute_error',\n",
       "                   verbose=False)"
      ]
     },
     "execution_count": 11,
     "metadata": {},
     "output_type": "execute_result"
    }
   ],
   "source": [
    "random_search.fit(x_train,y_train)"
   ]
  },
  {
   "cell_type": "code",
   "execution_count": 12,
   "metadata": {},
   "outputs": [],
   "source": [
    "y_pred_gb = random_search.predict(x_test)"
   ]
  },
  {
   "cell_type": "code",
   "execution_count": 13,
   "metadata": {},
   "outputs": [
    {
     "data": {
      "text/plain": [
       "array([2722.15927582, 1557.42992174, 3409.7227596 , ...,  881.67409059,\n",
       "       1696.95256878,  689.76901475])"
      ]
     },
     "execution_count": 13,
     "metadata": {},
     "output_type": "execute_result"
    }
   ],
   "source": [
    "y_pred_gb"
   ]
  },
  {
   "cell_type": "code",
   "execution_count": 21,
   "metadata": {},
   "outputs": [
    {
     "data": {
      "text/plain": [
       "740.2255173897836"
      ]
     },
     "execution_count": 21,
     "metadata": {},
     "output_type": "execute_result"
    }
   ],
   "source": [
    "from sklearn.metrics import mean_absolute_error\n",
    "mean_absolute_error(y_test,y_pred_gb)"
   ]
  },
  {
   "cell_type": "code",
   "execution_count": 14,
   "metadata": {},
   "outputs": [],
   "source": [
    "y_pred_gb = pd.DataFrame(y_pred_gb)"
   ]
  },
  {
   "cell_type": "code",
   "execution_count": 16,
   "metadata": {},
   "outputs": [],
   "source": [
    "with pd.ExcelWriter('test_predict_gb.xlsx') as writer:\n",
    "    y_pred_gb.to_excel(writer,\"Sheet1\",index=False)\n",
    "    y_pred_gb.to_excel(writer,\"Sheet2\")"
   ]
  },
  {
   "cell_type": "code",
   "execution_count": 17,
   "metadata": {},
   "outputs": [],
   "source": [
    "final_pred_gb = random_search.predict(dataset_test)"
   ]
  },
  {
   "cell_type": "code",
   "execution_count": 18,
   "metadata": {},
   "outputs": [
    {
     "data": {
      "text/plain": [
       "array([2518.26002682, 3588.36951253, 1479.81952975, ..., 3001.37034884,\n",
       "       3127.6249207 , 4051.87154397])"
      ]
     },
     "execution_count": 18,
     "metadata": {},
     "output_type": "execute_result"
    }
   ],
   "source": [
    "final_pred_gb"
   ]
  },
  {
   "cell_type": "code",
   "execution_count": 19,
   "metadata": {},
   "outputs": [],
   "source": [
    "final_pred_gb = pd.DataFrame(final_pred_gb)"
   ]
  },
  {
   "cell_type": "code",
   "execution_count": 20,
   "metadata": {},
   "outputs": [],
   "source": [
    "with pd.ExcelWriter('final_predict_gb.xlsx') as writer:\n",
    "    final_pred_gb.to_excel(writer,\"Sheet1\",index=False)\n",
    "    final_pred_gb.to_excel(writer,\"Sheet2\")"
   ]
  },
  {
   "cell_type": "markdown",
   "metadata": {},
   "source": [
    "# XGB"
   ]
  },
  {
   "cell_type": "code",
   "execution_count": 23,
   "metadata": {},
   "outputs": [],
   "source": [
    "from xgboost.sklearn import XGBRegressor\n"
   ]
  },
  {
   "cell_type": "code",
   "execution_count": 24,
   "metadata": {},
   "outputs": [],
   "source": [
    "xgb_params={\n",
    "\"gamma\":[0,2,5,8,10],\n",
    "\"max_depth\": [2,3,4,5,6,7,8],\n",
    "\"min_child_weight\":[0.5,1,2,5,10]\n",
    "}\n",
    "\n",
    "xgb2=XGBRegressor(n_estimators=25,subsample=0.8,\n",
    "colsample_bylevel=0.8,colsample_bytree=0.8)\n",
    "random_search = RandomizedSearchCV( xgb2, param_distributions = xgb_params,\n",
    "n_iter = 20, cv= 10,\n",
    "scoring ='neg_mean_absolute_error',\n",
    "n_jobs =-1, verbose=False)"
   ]
  },
  {
   "cell_type": "code",
   "execution_count": 25,
   "metadata": {},
   "outputs": [
    {
     "name": "stdout",
     "output_type": "stream",
     "text": [
      "[22:38:13] WARNING: C:/Jenkins/workspace/xgboost-win64_release_0.90/src/objective/regression_obj.cu:152: reg:linear is now deprecated in favor of reg:squarederror.\n"
     ]
    },
    {
     "data": {
      "text/plain": [
       "RandomizedSearchCV(cv=10, error_score='raise-deprecating',\n",
       "                   estimator=XGBRegressor(base_score=0.5, booster='gbtree',\n",
       "                                          colsample_bylevel=0.8,\n",
       "                                          colsample_bynode=1,\n",
       "                                          colsample_bytree=0.8, gamma=0,\n",
       "                                          importance_type='gain',\n",
       "                                          learning_rate=0.1, max_delta_step=0,\n",
       "                                          max_depth=3, min_child_weight=1,\n",
       "                                          missing=None, n_estimators=25,\n",
       "                                          n_jobs=1, nthread=None,\n",
       "                                          objective='reg:linear',\n",
       "                                          rando...lpha=0,\n",
       "                                          reg_lambda=1, scale_pos_weight=1,\n",
       "                                          seed=None, silent=None, subsample=0.8,\n",
       "                                          verbosity=1),\n",
       "                   iid='warn', n_iter=20, n_jobs=-1,\n",
       "                   param_distributions={'gamma': [0, 2, 5, 8, 10],\n",
       "                                        'max_depth': [2, 3, 4, 5, 6, 7, 8],\n",
       "                                        'min_child_weight': [0.5, 1, 2, 5, 10]},\n",
       "                   pre_dispatch='2*n_jobs', random_state=None, refit=True,\n",
       "                   return_train_score=False, scoring='neg_mean_absolute_error',\n",
       "                   verbose=False)"
      ]
     },
     "execution_count": 25,
     "metadata": {},
     "output_type": "execute_result"
    }
   ],
   "source": [
    "random_search.fit(x_train,y_train)"
   ]
  },
  {
   "cell_type": "code",
   "execution_count": 26,
   "metadata": {},
   "outputs": [],
   "source": [
    "y_pred_xgb = random_search.predict(x_test)"
   ]
  },
  {
   "cell_type": "code",
   "execution_count": 27,
   "metadata": {},
   "outputs": [
    {
     "data": {
      "text/plain": [
       "array([2590.4648 , 1553.4476 , 2978.978  , ...,  875.9131 , 1883.9407 ,\n",
       "        731.29865], dtype=float32)"
      ]
     },
     "execution_count": 27,
     "metadata": {},
     "output_type": "execute_result"
    }
   ],
   "source": [
    "y_pred_xgb"
   ]
  },
  {
   "cell_type": "code",
   "execution_count": 28,
   "metadata": {},
   "outputs": [
    {
     "data": {
      "text/plain": [
       "730.761241171909"
      ]
     },
     "execution_count": 28,
     "metadata": {},
     "output_type": "execute_result"
    }
   ],
   "source": [
    "from sklearn.metrics import mean_absolute_error\n",
    "mean_absolute_error(y_test,y_pred_xgb)"
   ]
  },
  {
   "cell_type": "code",
   "execution_count": 29,
   "metadata": {},
   "outputs": [],
   "source": [
    "y_pred_xgb = pd.DataFrame(y_pred_xgb)"
   ]
  },
  {
   "cell_type": "code",
   "execution_count": 35,
   "metadata": {},
   "outputs": [],
   "source": [
    "with pd.ExcelWriter('test_predict_xgb.xlsx') as writer:\n",
    "    y_pred_xgb.to_excel(writer,\"Sheet1\",index=False)\n",
    "    y_pred_xgb.to_excel(writer,\"Sheet2\")"
   ]
  },
  {
   "cell_type": "code",
   "execution_count": 31,
   "metadata": {},
   "outputs": [],
   "source": [
    "final_pred_xgb = random_search.predict(dataset_test)"
   ]
  },
  {
   "cell_type": "code",
   "execution_count": 32,
   "metadata": {},
   "outputs": [],
   "source": [
    "final_pred_xgb = pd.DataFrame(final_pred_xgb)"
   ]
  },
  {
   "cell_type": "code",
   "execution_count": 36,
   "metadata": {},
   "outputs": [],
   "source": [
    "with pd.ExcelWriter('final_predict_xgb.xlsx') as writer:\n",
    "    final_pred_xgb.to_excel(writer,\"Sheet1\",index=False)\n",
    "    final_pred_xgb.to_excel(writer,\"Sheet2\")"
   ]
  }
 ],
 "metadata": {
  "kernelspec": {
   "display_name": "Python 3",
   "language": "python",
   "name": "python3"
  },
  "language_info": {
   "codemirror_mode": {
    "name": "ipython",
    "version": 3
   },
   "file_extension": ".py",
   "mimetype": "text/x-python",
   "name": "python",
   "nbconvert_exporter": "python",
   "pygments_lexer": "ipython3",
   "version": "3.7.4"
  }
 },
 "nbformat": 4,
 "nbformat_minor": 2
}
